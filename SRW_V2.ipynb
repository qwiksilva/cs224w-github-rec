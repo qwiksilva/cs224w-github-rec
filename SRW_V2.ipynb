{
  "nbformat": 4,
  "nbformat_minor": 0,
  "metadata": {
    "colab": {
      "name": "SRW_V2.ipynb",
      "provenance": [],
      "collapsed_sections": [],
      "machine_shape": "hm",
      "include_colab_link": true
    },
    "kernelspec": {
      "name": "python3",
      "display_name": "Python 3"
    },
    "accelerator": "GPU",
    "widgets": {
      "application/vnd.jupyter.widget-state+json": {
        "4835ee3752d440eaa08a999b132716da": {
          "model_module": "@jupyter-widgets/controls",
          "model_name": "HBoxModel",
          "state": {
            "_view_name": "HBoxView",
            "_dom_classes": [],
            "_model_name": "HBoxModel",
            "_view_module": "@jupyter-widgets/controls",
            "_model_module_version": "1.5.0",
            "_view_count": null,
            "_view_module_version": "1.5.0",
            "box_style": "",
            "layout": "IPY_MODEL_c42eb51d32c54979aa471b8160700078",
            "_model_module": "@jupyter-widgets/controls",
            "children": [
              "IPY_MODEL_bdcca135b60c4dd0b1d3692789129173",
              "IPY_MODEL_5480c0bc411b498ea37b958256f57afd"
            ]
          }
        },
        "c42eb51d32c54979aa471b8160700078": {
          "model_module": "@jupyter-widgets/base",
          "model_name": "LayoutModel",
          "state": {
            "_view_name": "LayoutView",
            "grid_template_rows": null,
            "right": null,
            "justify_content": null,
            "_view_module": "@jupyter-widgets/base",
            "overflow": null,
            "_model_module_version": "1.2.0",
            "_view_count": null,
            "flex_flow": null,
            "width": null,
            "min_width": null,
            "border": null,
            "align_items": null,
            "bottom": null,
            "_model_module": "@jupyter-widgets/base",
            "top": null,
            "grid_column": null,
            "overflow_y": null,
            "overflow_x": null,
            "grid_auto_flow": null,
            "grid_area": null,
            "grid_template_columns": null,
            "flex": null,
            "_model_name": "LayoutModel",
            "justify_items": null,
            "grid_row": null,
            "max_height": null,
            "align_content": null,
            "visibility": null,
            "align_self": null,
            "height": null,
            "min_height": null,
            "padding": null,
            "grid_auto_rows": null,
            "grid_gap": null,
            "max_width": null,
            "order": null,
            "_view_module_version": "1.2.0",
            "grid_template_areas": null,
            "object_position": null,
            "object_fit": null,
            "grid_auto_columns": null,
            "margin": null,
            "display": null,
            "left": null
          }
        },
        "bdcca135b60c4dd0b1d3692789129173": {
          "model_module": "@jupyter-widgets/controls",
          "model_name": "IntProgressModel",
          "state": {
            "_view_name": "ProgressView",
            "style": "IPY_MODEL_3b714cb9a33641cf922a961ab6dae7fa",
            "_dom_classes": [],
            "description": "",
            "_model_name": "IntProgressModel",
            "bar_style": "success",
            "max": 1,
            "_view_module": "@jupyter-widgets/controls",
            "_model_module_version": "1.5.0",
            "value": 1,
            "_view_count": null,
            "_view_module_version": "1.5.0",
            "orientation": "horizontal",
            "min": 0,
            "description_tooltip": null,
            "_model_module": "@jupyter-widgets/controls",
            "layout": "IPY_MODEL_97560ed8d6a34458af45367dc2fec804"
          }
        },
        "5480c0bc411b498ea37b958256f57afd": {
          "model_module": "@jupyter-widgets/controls",
          "model_name": "HTMLModel",
          "state": {
            "_view_name": "HTMLView",
            "style": "IPY_MODEL_b5a8937602fd4077b7141eda33d5e027",
            "_dom_classes": [],
            "description": "",
            "_model_name": "HTMLModel",
            "placeholder": "​",
            "_view_module": "@jupyter-widgets/controls",
            "_model_module_version": "1.5.0",
            "value": "1302it [00:38, 33.81it/s]",
            "_view_count": null,
            "_view_module_version": "1.5.0",
            "description_tooltip": null,
            "_model_module": "@jupyter-widgets/controls",
            "layout": "IPY_MODEL_5e391dd95477455aac5d926342442071"
          }
        },
        "3b714cb9a33641cf922a961ab6dae7fa": {
          "model_module": "@jupyter-widgets/controls",
          "model_name": "ProgressStyleModel",
          "state": {
            "_view_name": "StyleView",
            "_model_name": "ProgressStyleModel",
            "description_width": "",
            "_view_module": "@jupyter-widgets/base",
            "_model_module_version": "1.5.0",
            "_view_count": null,
            "_view_module_version": "1.2.0",
            "bar_color": null,
            "_model_module": "@jupyter-widgets/controls"
          }
        },
        "97560ed8d6a34458af45367dc2fec804": {
          "model_module": "@jupyter-widgets/base",
          "model_name": "LayoutModel",
          "state": {
            "_view_name": "LayoutView",
            "grid_template_rows": null,
            "right": null,
            "justify_content": null,
            "_view_module": "@jupyter-widgets/base",
            "overflow": null,
            "_model_module_version": "1.2.0",
            "_view_count": null,
            "flex_flow": null,
            "width": null,
            "min_width": null,
            "border": null,
            "align_items": null,
            "bottom": null,
            "_model_module": "@jupyter-widgets/base",
            "top": null,
            "grid_column": null,
            "overflow_y": null,
            "overflow_x": null,
            "grid_auto_flow": null,
            "grid_area": null,
            "grid_template_columns": null,
            "flex": null,
            "_model_name": "LayoutModel",
            "justify_items": null,
            "grid_row": null,
            "max_height": null,
            "align_content": null,
            "visibility": null,
            "align_self": null,
            "height": null,
            "min_height": null,
            "padding": null,
            "grid_auto_rows": null,
            "grid_gap": null,
            "max_width": null,
            "order": null,
            "_view_module_version": "1.2.0",
            "grid_template_areas": null,
            "object_position": null,
            "object_fit": null,
            "grid_auto_columns": null,
            "margin": null,
            "display": null,
            "left": null
          }
        },
        "b5a8937602fd4077b7141eda33d5e027": {
          "model_module": "@jupyter-widgets/controls",
          "model_name": "DescriptionStyleModel",
          "state": {
            "_view_name": "StyleView",
            "_model_name": "DescriptionStyleModel",
            "description_width": "",
            "_view_module": "@jupyter-widgets/base",
            "_model_module_version": "1.5.0",
            "_view_count": null,
            "_view_module_version": "1.2.0",
            "_model_module": "@jupyter-widgets/controls"
          }
        },
        "5e391dd95477455aac5d926342442071": {
          "model_module": "@jupyter-widgets/base",
          "model_name": "LayoutModel",
          "state": {
            "_view_name": "LayoutView",
            "grid_template_rows": null,
            "right": null,
            "justify_content": null,
            "_view_module": "@jupyter-widgets/base",
            "overflow": null,
            "_model_module_version": "1.2.0",
            "_view_count": null,
            "flex_flow": null,
            "width": null,
            "min_width": null,
            "border": null,
            "align_items": null,
            "bottom": null,
            "_model_module": "@jupyter-widgets/base",
            "top": null,
            "grid_column": null,
            "overflow_y": null,
            "overflow_x": null,
            "grid_auto_flow": null,
            "grid_area": null,
            "grid_template_columns": null,
            "flex": null,
            "_model_name": "LayoutModel",
            "justify_items": null,
            "grid_row": null,
            "max_height": null,
            "align_content": null,
            "visibility": null,
            "align_self": null,
            "height": null,
            "min_height": null,
            "padding": null,
            "grid_auto_rows": null,
            "grid_gap": null,
            "max_width": null,
            "order": null,
            "_view_module_version": "1.2.0",
            "grid_template_areas": null,
            "object_position": null,
            "object_fit": null,
            "grid_auto_columns": null,
            "margin": null,
            "display": null,
            "left": null
          }
        }
      }
    }
  },
  "cells": [
    {
      "cell_type": "markdown",
      "metadata": {
        "id": "view-in-github",
        "colab_type": "text"
      },
      "source": [
        "<a href=\"https://colab.research.google.com/github/qwiksilva/cs224w-github-rec/blob/master/SRW_V2.ipynb\" target=\"_parent\"><img src=\"https://colab.research.google.com/assets/colab-badge.svg\" alt=\"Open In Colab\"/></a>"
      ]
    },
    {
      "cell_type": "code",
      "metadata": {
        "id": "cugWoIdda1x3",
        "colab_type": "code",
        "outputId": "5c919738-618e-4cff-d81f-977fcf5973ab",
        "colab": {
          "base_uri": "https://localhost:8080/",
          "height": 33
        }
      },
      "source": [
        "from google.colab import drive\n",
        "drive.mount('/gdrive')\n",
        "\n",
        "home = \"/gdrive/My Drive/Colab Notebooks/cs224w-data\""
      ],
      "execution_count": 0,
      "outputs": [
        {
          "output_type": "stream",
          "text": [
            "Drive already mounted at /gdrive; to attempt to forcibly remount, call drive.mount(\"/gdrive\", force_remount=True).\n"
          ],
          "name": "stdout"
        }
      ]
    },
    {
      "cell_type": "code",
      "metadata": {
        "id": "-x5PmLgnNFzC",
        "colab_type": "code",
        "colab": {}
      },
      "source": [
        "import pandas as pd\n",
        "import numpy as np\n",
        "import networkx as nx\n",
        "from collections import Counter\n",
        "from datetime import datetime\n",
        "import time\n",
        "from tqdm.auto import tqdm\n",
        "from collections import defaultdict\n",
        "from scipy import sparse\n",
        "import time\n",
        "import functools\n",
        "import numpy as np\n",
        "from scipy.optimize import fmin_bfgs, fmin_l_bfgs_b\n",
        "import os\n",
        "import array\n",
        "from datetime import datetime as dt\n",
        "from pprint import pprint\n",
        "import pytz\n",
        "import random\n",
        "import joblib\n",
        "import itertools"
      ],
      "execution_count": 0,
      "outputs": []
    },
    {
      "cell_type": "code",
      "metadata": {
        "id": "NoGu6jhKl4XW",
        "colab_type": "code",
        "colab": {}
      },
      "source": [
        "def load_srw_data(path=\"/gdrive/My Drive/Colab Notebooks/cs224w-data/final-data-12062019\"):\n",
        "  \"Load the required files\"\n",
        "\n",
        "  # train_srw_output = joblib.load(os.path.join(path, 'train_srw_output_v2.joblib'))\n",
        "  # train_node_mapping = joblib.load(os.path.join(path, 'train_node_mapping_v2.joblib'))\n",
        "  # test_srw_output= joblib.load(os.path.join(path, 'test_srw_output_v2.joblib'))\n",
        "  # test_node_mapping = joblib.load(os.path.join(path, 'test_node_mapping_v2.joblib'))\n",
        "\n",
        "  train_srw_output = joblib.load(os.path.join(path, 'train_srw_output_v4_2018_only.joblib'))\n",
        "  train_node_mapping = joblib.load(os.path.join(path, 'train_node_mapping_v4_2018_only.joblib'))\n",
        "  test_srw_output= joblib.load(os.path.join(path, 'test_srw_output_v4_2018_only.joblib'))\n",
        "  test_node_mapping = joblib.load(os.path.join(path, 'test_node_mapping_v4_2018_only.joblib'))\n",
        "\n",
        "  train_comments = joblib.load(os.path.join(path, 'train_comments_df_v4_2018_only.joblib'))\n",
        "  test_comments = joblib.load(os.path.join(path, 'test_comments_df_v4_2018_only.joblib'))\n",
        "\n",
        "\n",
        "  dtypes = {\n",
        "    'comment': str,\n",
        "    'commenter_id': int,\n",
        "    'commenter_login': str, \n",
        "    'pr_id': int,\n",
        "    'user_id': int,\n",
        "    'username':str,\n",
        "    'title': str,\n",
        "    'description': str,\n",
        "    'pr_created_at': str,\n",
        "    'comment_created_at': str,\n",
        "  }\n",
        "\n",
        "  comments = pd.concat([train_comments,test_comments])\n",
        "  comments = comments.reset_index()\n",
        "\n",
        "  return train_srw_output, train_node_mapping, test_srw_output, test_node_mapping, comments\n"
      ],
      "execution_count": 0,
      "outputs": []
    },
    {
      "cell_type": "code",
      "metadata": {
        "id": "YBHDdwZXNIMR",
        "colab_type": "code",
        "colab": {}
      },
      "source": [
        "def create_srw_data_structs(time_based_cutoff=False, path=\"/gdrive/My Drive/Colab Notebooks/cs224w-data/final-data-12062019\"):\n",
        "  print('preparing data...')\n",
        "  train_srw_output, train_node_mapping, test_srw_output, test_node_mapping, comments = load_srw_data(path)\n",
        "  cutoff_date = dt(2018, 6, 1)\n",
        "  utc=pytz.UTC\n",
        "  cutoff_date = utc.localize(cutoff_date)\n",
        "  unique_train_prs, unique_test_prs, train_comments, test_comments = split_comments(comments, cutoff_date)\n",
        "\n",
        "  print('getting source prs...')\n",
        "  if time_based_cutoff:\n",
        "    source_prs, D_sets = get_source_prs_time_based(train_comments, cutoff_date)\n",
        "\n",
        "  else:\n",
        "    source_prs = get_source_prs(train_comments)\n",
        "    D_sets = {}\n",
        "    for source_id in source_prs:\n",
        "      existing_link_commenters, D_set = get_source_info(source_id, train_comments)\n",
        "      D_sets[source_id] = D_set\n",
        "\n",
        "  D_sets = map_D_sets_to_idx(D_sets, train_node_mapping)\n",
        "\n",
        "  print('creating graph...')\n",
        "  graph = nx.Graph()\n",
        "  graph = create_bipartite_graph(graph, train_srw_output, D_sets)\n",
        "\n",
        "  L_sets = get_L_sets(graph, D_sets, max_size=100)\n",
        "\n",
        "  remove_D_set_features(train_srw_output, D_sets)\n",
        "\n",
        "  test_D_sets = {}\n",
        "  for pr_id in unique_test_prs:\n",
        "    existing_link_commenters, test_D_set = get_source_info(pr_id, test_comments)\n",
        "    if len(existing_link_commenters) > 1 and len(test_D_set) > 1:\n",
        "      test_D_sets[pr_id] = test_D_set\n",
        "\n",
        "  test_D_sets = map_D_sets_to_idx(test_D_sets, test_node_mapping)\n",
        "\n",
        "  test_graph = nx.Graph()\n",
        "  test_graph = create_bipartite_graph(test_graph, test_srw_output, test_D_sets)\n",
        "  remove_D_set_features(test_srw_output, test_D_sets)\n",
        "  # train_graph, idx_to_future_links, idx_to_no_links, nodelist = create_train_bipartite_graph(train_graph, train_comments, source_prs)\n",
        "\n",
        "  return {\n",
        "      'unique_train_prs': unique_train_prs,\n",
        "      'unique_test_prs': unique_test_prs,\n",
        "      'train_comments': train_comments,\n",
        "      'test_comments': test_comments,\n",
        "      'source_prs': source_prs,\n",
        "      'graph': graph,\n",
        "      'D_sets': D_sets,\n",
        "      'L_sets': L_sets,\n",
        "      'train_features':train_srw_output, \n",
        "      'train_node_mapping':train_node_mapping, \n",
        "      'test_features':test_srw_output, \n",
        "      'test_node_mapping':test_node_mapping,\n",
        "      'test_graph': test_graph,\n",
        "      'test_D_sets':test_D_sets\n",
        "  }\n",
        "\n",
        "\n",
        "def map_D_sets_to_idx(D_sets, node_mapping):\n",
        "  new_D_sets = {}\n",
        "  for pr_id in D_sets:\n",
        "    new_D_set = set()\n",
        "    for commenter_id in D_sets[pr_id]:\n",
        "      new_D_set.add( node_mapping[(commenter_id, 'User')] )\n",
        "    new_D_sets[ node_mapping[(pr_id, 'PR')] ] = new_D_set\n",
        "\n",
        "  return new_D_sets\n",
        "\n",
        "\n",
        "def split_comments(comments, cutoff_date):  \n",
        "  unique_train_prs = set(comments[comments.pr_created_at < cutoff_date]['pr_id'].unique())\n",
        "  unique_test_prs = set(comments[comments.pr_created_at >= cutoff_date]['pr_id'].unique())\n",
        "\n",
        "  train_comments = comments[comments['pr_id'].isin(unique_train_prs)]\n",
        "  test_comments = comments[comments['pr_id'].isin(unique_test_prs)]\n",
        "\n",
        "  # train_comments = comments[comments['comment_created_at'] < cutoff_date]\n",
        "  # test_comments = comments[comments['comment_created_at'] >= cutoff_date]\n",
        "\n",
        "  return unique_train_prs, unique_test_prs, train_comments, test_comments\n",
        "\n",
        "\n",
        "def get_source_prs_time_based(train_comments, cutoff_date):\n",
        "  # after_cutoff = train_comments[train_comments['comment_created_at'] >= cutoff_date].groupby('pr_id')['commenter_id'].unique()\n",
        "  # before_cutoff = train_comments[train_comments['comment_created_at'] < cutoff_date].groupby('pr_id')['commenter_id'].unique()\n",
        "\n",
        "  after_cutoff = train_comments[train_comments['comment_created_at'] >= cutoff_date]['pr_id'].unique()\n",
        "  before_cutoff = train_comments[train_comments['comment_created_at'] < cutoff_date]['pr_id'].unique()\n",
        "\n",
        "  valid_commenters = set(train_comments[train_comments['comment_created_at'] < cutoff_date]['commenter_id'].unique())\n",
        "\n",
        "  source_prs = []\n",
        "  D_sets = {}\n",
        "  for pr_id in after_cutoff:\n",
        "    if pr_id not in before_cutoff:\n",
        "      continue\n",
        "\n",
        "    commenters_after = set(train_comments[(train_comments['comment_created_at'] >= cutoff_date) & (train_comments['pr_id'] == pr_id)]['commenter_id'].unique())\n",
        "    commenters_before = set(train_comments[(train_comments['comment_created_at'] < cutoff_date) & (train_comments['pr_id'] == pr_id)]['commenter_id'].unique())\n",
        "    D_set = (commenters_after - commenters_before).intersection(valid_commenters)\n",
        "    owner = train_comments[train_comments['pr_id'] == pr_id]['user_id'].unique()[0]\n",
        "    if owner in D_set:\n",
        "      D_set.remove(owner)\n",
        "    if len(commenters_before) > 1 and len(D_set) > 1:\n",
        "      source_prs.append(pr_id)\n",
        "      D_sets[pr_id] = D_set\n",
        "\n",
        "  return source_prs, D_sets\n",
        "\n",
        "def get_source_prs(train_comments, min_reviewers=4, max_reviewers=16, num_source_prs=200):\n",
        "  random.seed(42)\n",
        "  candidate_train_prs = train_comments.groupby('pr_id')['commenter_id'].nunique()\n",
        "  candidate_train_prs = set(candidate_train_prs[(candidate_train_prs >= min_reviewers) & (candidate_train_prs <= max_reviewers)].index)\n",
        "  source_prs = random.sample(candidate_train_prs, num_source_prs)\n",
        "  return source_prs\n",
        "\n",
        "def get_source_info(source_id, train_comments):\n",
        "  source_comments = train_comments[train_comments['pr_id'] == source_id].sort_values('comment_created_at')\n",
        "  num_commenters = source_comments['commenter_id'].nunique()\n",
        "  num_existing_links = int(num_commenters / 2)\n",
        "\n",
        "  existing_link_commenters = set()\n",
        "  future_link_commenters = set()\n",
        "  owner = train_comments[train_comments['pr_id'] == source_id]['user_id'].unique()[0]\n",
        "  if owner in source_comments['commenter_id'].unique():\n",
        "    existing_link_commenters.add(owner)\n",
        "  for idx, comment in source_comments.iterrows():\n",
        "    if len(existing_link_commenters) < num_existing_links:\n",
        "      existing_link_commenters.add(comment['commenter_id'])\n",
        "\n",
        "    elif len(existing_link_commenters) == num_existing_links and comment['commenter_id'] not in existing_link_commenters:\n",
        "      future_link_commenters.add(comment['commenter_id'])\n",
        "\n",
        "  return existing_link_commenters, future_link_commenters\n",
        "\n",
        "def create_bipartite_graph(graph, features, D_sets):\n",
        "  features = features['num_comment'].tocoo()\n",
        "  for node1_idx, node2_idx in zip(features.row, features.col):\n",
        "    if node2_idx in D_sets and node1_idx in D_sets[node2_idx]:\n",
        "      continue\n",
        "    if node1_idx in D_sets and node2_idx in D_sets[node1_idx]:\n",
        "      continue\n",
        "\n",
        "    graph.add_edge(node1_idx, node2_idx)\n",
        "\n",
        "  assert nx.bipartite.is_bipartite(graph)\n",
        "  return graph\n",
        "\n",
        "\n",
        "def get_L_sets(graph, D_sets, max_size=None):\n",
        "  L_sets = {}\n",
        "  random.seed(42)\n",
        "  for source_node in D_sets:\n",
        "    path_lengths = nx.single_source_shortest_path_length(graph, source_node, cutoff=3)\n",
        "    L_set = set([node for node in path_lengths if path_lengths[node]==3]) - D_sets[source_node]\n",
        "    if max_size and len(L_set) > max_size:\n",
        "      L_set = random.sample(L_set, max_size)\n",
        "    L_sets[source_node] = L_set\n",
        "  return L_sets\n",
        "\n",
        "def remove_D_set_features(features, D_sets):\n",
        "  for node1 in D_sets:\n",
        "    for node2 in D_sets[node1]:\n",
        "      for feature_matrix in features.values():\n",
        "        feature_matrix[node1, node2] = 0\n",
        "        feature_matrix[node2, node1] = 0\n",
        "\n",
        "def create_train_bipartite_graph(graph, train_comments, source_prs):\n",
        "  non_source_prs = set(train_comments['pr_id'].unique()) - set(source_prs)\n",
        "  non_source_comments = train_comments[train_comments['pr_id'].isin(non_source_prs)]\n",
        "  edges = set()\n",
        "\n",
        "  pr_groups = non_source_comments.groupby('pr_id')['commenter_id'].unique()\n",
        "  for pr_id, commenter_ids in pr_groups.iteritems():\n",
        "    pr_node_id = f\"p{int(pr_id)}\"\n",
        "\n",
        "    for commenter_id in commenter_ids:\n",
        "      commenter_node_id = f\"u{int(commenter_id)}\"\n",
        "      edge = (pr_node_id, commenter_node_id)\n",
        "      edges.add(edge)\n",
        "\n",
        "  nodelist = []\n",
        "  for pr_id in train_comments.sort_values('pr_created_at')['pr_id'].unique().tolist():\n",
        "    pr_node_id = f\"p{int(pr_id)}\"\n",
        "    nodelist.append(pr_node_id)\n",
        "\n",
        "  for commenter_id in train_comments['commenter_id'].unique():\n",
        "    commenter_node_id = f\"u{int(commenter_id)}\"\n",
        "    nodelist.append(commenter_node_id)\n",
        "\n",
        "  idx_to_future_links = {}\n",
        "  for source_id in source_prs:\n",
        "    pr_node_id = f\"p{int(source_id)}\"\n",
        "    existing_link_commenters, future_link_commenters = get_source_info(source_id, train_comments)\n",
        "    idx_to_future_links[()] = future_link_commenters\n",
        "    for commenter_id in existing_link_commenters:\n",
        "      commenter_node_id = f\"u{int(commenter_id)}\"\n",
        "      edge = (pr_node_id, commenter_node_id)\n",
        "      edges.add(edge)\n",
        "\n",
        "  graph.add_edges_from(edges)\n",
        "  assert nx.bipartite.is_bipartite(graph)\n",
        "\n",
        "  idx_to_no_links = {}\n",
        "  for source_id in source_prs:\n",
        "    pr_node_id = f\"p{int(source_id)}\"\n",
        "    path_lengths = nx.single_source_shortest_path_length(graph, pr_node_id, cutoff=3)\n",
        "    no_link_set = set([node for node in path_lengths if path_lengths[node]==3])\n",
        "    idx_to_no_links[nodelist.index(pr_node_id)] = no_link_set - idx_to_future_links[nodelist.index(pr_node_id)]\n",
        "\n",
        "  return graph, idx_to_future_links, idx_to_no_links, nodelist\n"
      ],
      "execution_count": 0,
      "outputs": []
    },
    {
      "cell_type": "code",
      "metadata": {
        "id": "QjIPNSRdYnfo",
        "colab_type": "code",
        "outputId": "0a32809d-1c79-43c5-affb-3453928267ca",
        "colab": {
          "base_uri": "https://localhost:8080/",
          "height": 66
        }
      },
      "source": [
        "data = create_srw_data_structs(time_based_cutoff=False)"
      ],
      "execution_count": 0,
      "outputs": [
        {
          "output_type": "stream",
          "text": [
            "preparing data...\n",
            "getting source prs...\n",
            "creating graph...\n"
          ],
          "name": "stdout"
        }
      ]
    },
    {
      "cell_type": "code",
      "metadata": {
        "id": "2vZ-9ZYApF8R",
        "colab_type": "code",
        "outputId": "a42e4806-dafc-4f48-d956-66b0e9e39332",
        "colab": {
          "base_uri": "https://localhost:8080/",
          "height": 245
        }
      },
      "source": [
        "list(data)"
      ],
      "execution_count": 0,
      "outputs": [
        {
          "output_type": "execute_result",
          "data": {
            "text/plain": [
              "['unique_train_prs',\n",
              " 'unique_test_prs',\n",
              " 'train_comments',\n",
              " 'test_comments',\n",
              " 'source_prs',\n",
              " 'graph',\n",
              " 'D_sets',\n",
              " 'L_sets',\n",
              " 'train_features',\n",
              " 'train_node_mapping',\n",
              " 'test_features',\n",
              " 'test_node_mapping',\n",
              " 'test_graph',\n",
              " 'test_D_sets']"
            ]
          },
          "metadata": {
            "tags": []
          },
          "execution_count": 116
        }
      ]
    },
    {
      "cell_type": "code",
      "metadata": {
        "id": "jHdX5uIpposQ",
        "colab_type": "code",
        "colab": {}
      },
      "source": [
        "test_nodes = data['test_comments'].pr_id.unique()"
      ],
      "execution_count": 0,
      "outputs": []
    },
    {
      "cell_type": "code",
      "metadata": {
        "id": "iuWtvzKgxnk3",
        "colab_type": "code",
        "colab": {}
      },
      "source": [
        "graph = data['graph']\n",
        "adjacency = nx.adjacency_matrix(graph, nodelist=range(len(graph)))\n",
        "\n",
        "D_set = data['D_sets']\n",
        "L_set = data['L_sets']\n",
        "features = data['train_features']\n",
        "test_features  = data['test_features']\n",
        "train_nodes = [node for node in D_set]\n",
        "test_D_sets = data['test_D_sets']\n",
        "\n",
        "for k, m in features.items():\n",
        "    features[k] = sparse.csr_matrix(m)\n",
        "\n",
        "for k, m in test_features.items():\n",
        "    test_features[k] = sparse.csr_matrix(m)\n",
        "\n",
        "weights = np.random.uniform(1, 0, [len(features)])"
      ],
      "execution_count": 0,
      "outputs": []
    },
    {
      "cell_type": "code",
      "metadata": {
        "id": "QknepF7_OCVL",
        "colab_type": "code",
        "outputId": "a09c260b-fd16-408c-cf34-0c631607e8c8",
        "colab": {
          "base_uri": "https://localhost:8080/",
          "height": 102
        }
      },
      "source": [
        "D_set_size = np.array([len(v) for k, v in D_set.items()])\n",
        "print(len(D_set_size), D_set_size.mean(), D_set_size.max())\n",
        "\n",
        "test_D_set_size = np.array([len(v) for k, v in test_D_sets.items()])\n",
        "print(len(test_D_set_size), test_D_set_size.mean(), test_D_set_size.max())\n",
        "\n",
        "L_set_size = np.array([len(v) for k, v in L_set.items()])\n",
        "print(L_set_size.mean(), L_set_size.max())\n",
        "\n",
        "combined_size = np.array([L_set_size[i]*D_set_size[i] for i in range(len(D_set_size))])\n",
        "print(combined_size.mean(), combined_size.max())\n",
        "\n",
        "degrees = []\n",
        "for k in D_set:\n",
        "  degrees.append(graph.degree[k])\n",
        "degrees = np.array(degrees)\n",
        "print(degrees.mean(), degrees.max())"
      ],
      "execution_count": 0,
      "outputs": [
        {
          "output_type": "stream",
          "text": [
            "200 2.635 6\n",
            "1302 2.619047619047619 8\n",
            "81.435 100\n",
            "219.11 600\n",
            "2.345 5\n"
          ],
          "name": "stdout"
        }
      ]
    },
    {
      "cell_type": "code",
      "metadata": {
        "id": "vkBpQU5VNN9t",
        "colab_type": "code",
        "colab": {}
      },
      "source": [
        "# graph = nx.DiGraph()\n",
        "# graph = nx.read_weighted_edgelist(\"kubernetes_comment_network.edgelist\", create_using=graph)\n",
        "# adjacency = nx.adjacency_matrix(graph)\n",
        "# # train_comments = pd.read_csv('kubernetes_train_comments.csv')\n",
        "# # file_paths = pd.read_csv('kubernetes_file_paths_final.csv')\n",
        "# # test_comments = pd.read_csv('kubernetes_test_comments.csv')\n",
        "\n",
        "# #train_comments['comment_time_tics'] = train_comments['comment_created_at'].map(convert_to_tic)"
      ],
      "execution_count": 0,
      "outputs": []
    },
    {
      "cell_type": "code",
      "metadata": {
        "id": "sYoO4fGBNPOt",
        "colab_type": "code",
        "colab": {}
      },
      "source": [
        "# rows, cols = adjacency.nonzero()\n",
        "# count = 0\n",
        "# train_nodes = set()\n",
        "# train_edges = []\n",
        "\n",
        "# for row, col in zip(rows, cols):\n",
        "    \n",
        "#     if len(train_nodes) <= 2 and np.sum(adjacency[row, ]) >= 10:\n",
        "#         train_nodes.add(row)\n",
        "    \n",
        "#     if row in train_nodes:\n",
        "#         train_edges.append((row, col))\n",
        "\n",
        "# D_set = {k:[] for k in train_nodes}\n",
        "# L_set = {k:[] for k in train_nodes}\n",
        "# # \n",
        "# for row, col in train_edges:\n",
        "#     if np.random.uniform() > 0.5:\n",
        "#         adjacency[row, col] = 0\n",
        "#         D_set[row].append(col)\n",
        "\n",
        "# for i in range(adjacency.shape[0]):\n",
        "#     for k in L_set:\n",
        "#         if i not in D_set[k]:\n",
        "#             L_set[k].append(i)\n",
        "            \n",
        "        "
      ],
      "execution_count": 0,
      "outputs": []
    },
    {
      "cell_type": "code",
      "metadata": {
        "id": "HcslXgLzOS94",
        "colab_type": "code",
        "colab": {}
      },
      "source": [
        "# ##Making Features\n",
        "\n",
        "# features = {\n",
        "#     \"ft1\" : sparse.lil_matrix(adjacency.shape),\n",
        "#     \"ft2\" : sparse.lil_matrix(adjacency.shape),\n",
        "# }\n",
        "\n",
        "# weights = np.random.uniform(1, 0, [len(features)])\n",
        "\n",
        "# rows, cols = adjacency.nonzero()\n",
        "# for row, col in zip(rows, cols):\n",
        "#     features[\"ft1\"][row, col] = np.random.uniform(0, 1)\n",
        "#     features[\"ft2\"][row, col] = np.random.uniform(0, 1)\n",
        "    \n",
        "# for k, m in features.items():\n",
        "#     features[k] = sparse.csr_matrix(m)\n"
      ],
      "execution_count": 0,
      "outputs": []
    },
    {
      "cell_type": "code",
      "metadata": {
        "id": "_1JqD60dOWtj",
        "colab_type": "code",
        "colab": {}
      },
      "source": [
        "def features2EdgeStrength(fts, wts):\n",
        "    a = sparse.csr_matrix((fts[list(fts)[0]].shape), dtype=float)\n",
        "    for i, k in enumerate(fts):\n",
        "        a = a + fts[k] * wts[i]\n",
        "\n",
        "    logistic_data = (1 + np.exp(-a.data))\n",
        "    logistic = a.copy()\n",
        "    logistic.data = logistic_data\n",
        "    \n",
        "    l2 = np.reshape(logistic, a.shape)\n",
        "    \n",
        "    a.data =  1/logistic.data\n",
        "        \n",
        "    \n",
        "    denominator = a ** 2\n",
        "    weight_derivatives = []\n",
        "    \n",
        "    for k in range(len(wts)):\n",
        "        # print ( logistic.shape, denominator.shape)\n",
        "        weight_derivatives.append(wts[k] * logistic * denominator)\n",
        "        \n",
        "    \n",
        "    #d_inv = sparse.diags([[1.0 / a.getrow(i).sum() for i in range(a.shape[0])]], [0])\n",
        "    return a, weight_derivatives\n",
        "\n",
        "def EdgeStrengthToTransitionMatrices(A, alpha, train_nodes):\n",
        "    A_sum_inv = []\n",
        "    for i in range(A.shape[0]):\n",
        "      s = A.getrow(i).sum()\n",
        "      if s != 0:\n",
        "        A_sum_inv.append(1.0/s)\n",
        "      else:\n",
        "        A_sum_inv.append(0)\n",
        "\n",
        "    A_sum_inv = sparse.diags([A_sum_inv], [0])\n",
        "    T = A_sum_inv.dot(A)\n",
        "\n",
        "    T_matrices = []\n",
        "    restart = sparse.csr_matrix((A.shape), dtype=float)\n",
        "    for n in train_nodes:\n",
        "        # restart = np.zeros(A.shape)\n",
        "        # for i in range(restart.shape[0]):\n",
        "        #     restart[i, n] = 1\n",
        "        # restart = sparse.csr_matrix((A.shape), dtype=float)\n",
        "        restart[n] = 1\n",
        "        T_matrices.append((1-alpha)*T + alpha*restart.transpose())\n",
        "        restart[n] = 0\n",
        "        restart.eliminate_zeros()\n",
        "        \n",
        "    return T_matrices\n",
        "\n",
        "def iterPageRank(pr, trans, epsilon = 1e-4):\n",
        "    pr = sparse.csr_matrix(pr)\n",
        "    count = 0\n",
        "    while True:\n",
        "        pr_new = pr.dot(trans)\n",
        "        # delta = np.sum(abs((pr_new - pr).data))\n",
        "        delta = sparse.linalg.norm(pr_new - pr, ord=1)\n",
        "        pr = pr_new\n",
        "        count += 1\n",
        "        if delta < epsilon:\n",
        "            break\n",
        "    \n",
        "    return pr_new[0]\n",
        "\n",
        "    \n",
        "def costFunc(pl, pd, offset):\n",
        "    return 1.0 / (1 + np.exp(-1.0 * (pl - pd)/offset))\n",
        "    \n",
        "def get_loss(D_set, L_set, weights, A, T_matrices, train_nodes, lmbda, offset = 0.1):\n",
        "  cost = 0\n",
        "  nnodes = A.shape[0]\n",
        "  for i, ind in enumerate(train_nodes):\n",
        "      \n",
        "      pp = np.repeat(1.0/nnodes, nnodes)\n",
        "      pgrank = iterPageRank(pp, T_matrices[i])\n",
        "      \n",
        "      \n",
        "      for d in D_set[ind]:\n",
        "          # deltas = (pgrank[0, L_set[ind]] - pgrank[0, d]\n",
        "          # for d in deltas:\n",
        "              # cost += costFunc(d, offset)\n",
        "          for l in L_set[ind]:\n",
        "              cost += costFunc(pgrank[0, l], pgrank[0, d], offset)  \n",
        "              # cost += 1.0 / (1 + np.exp(-1.0 * (pgrank[0, l] - pgrank[0, d])/offset))                        \n",
        "\n",
        "  loss = lmbda * np.sqrt(sum(wk ** 2 for wk in weights)) + cost \n",
        "  return loss"
      ],
      "execution_count": 0,
      "outputs": []
    },
    {
      "cell_type": "code",
      "metadata": {
        "id": "WF2l6hcCQ_r3",
        "colab_type": "code",
        "colab": {}
      },
      "source": [
        "def diffTransition(A, dw, alpha = 0.2):\n",
        "\n",
        "  data_dict = {}\n",
        "  for k in range(len(dw)):\n",
        "    data_dict[k] = {\n",
        "        \"rows\": array.array('i'),\n",
        "        \"cols\": array.array('i'),\n",
        "        \"data\": array.array('f'),\n",
        "    }\n",
        "  nnodes = int(A.shape[0])\n",
        "  row_weight_sums = np.array(A.sum(axis=1)).flatten()\n",
        "  row_wdiff_sums = [np.array(w_diff.sum(axis=1)).flatten() for w_diff in dw]\n",
        "\n",
        "\n",
        "\n",
        "  for i in tqdm(range(nnodes)):\n",
        "\n",
        "      if row_weight_sums[i] == 0:\n",
        "        continue\n",
        "\n",
        "      for k, w_diff in enumerate(dw):\n",
        "\n",
        "            denominator = (row_weight_sums[i] ** -2)\n",
        "            #if denominator \n",
        "            numerator = (dw[k][i, ]*row_weight_sums[i]) - (row_wdiff_sums[k][i]*A[i, ])\n",
        "\n",
        "            current_row =  (numerator * (1 - alpha)) * denominator\n",
        "            current_data = current_row.data\n",
        "\n",
        "            for j, col in enumerate(current_row.indices):\n",
        "              data_dict[k]['rows'].append(i)\n",
        "              data_dict[k]['cols'].append(col)\n",
        "              data_dict[k]['data'].append(current_data[j])\n",
        "            #print(\"rec  \", time.time() - t)\n",
        "\n",
        "  dQ = []\n",
        "  for k in data_dict:\n",
        "    data = data_dict[k]['data']\n",
        "    rows = data_dict[k]['rows']\n",
        "    cols = data_dict[k]['cols']\n",
        "    dQ.append(sparse.csr_matrix((data, (rows, cols)),\n",
        "                             shape=(nnodes, nnodes)))\n",
        "  \n",
        "  return dQ"
      ],
      "execution_count": 0,
      "outputs": []
    },
    {
      "cell_type": "code",
      "metadata": {
        "id": "NYcl9vb5HXqy",
        "colab_type": "code",
        "colab": {}
      },
      "source": [
        ""
      ],
      "execution_count": 0,
      "outputs": []
    },
    {
      "cell_type": "code",
      "metadata": {
        "id": "T6296X1YLvYE",
        "colab_type": "code",
        "colab": {}
      },
      "source": [
        "def iterPageDiff(p, trans, transdiff, epsilon = 1e-3, max_iter = 300):\n",
        "    pdiff = sparse.csr_matrix(p.shape)\n",
        "    p_transdiff = p.dot(transdiff)\n",
        "    it = 0\n",
        "    while True :\n",
        "      pr_diff_new = pdiff.dot(trans) + p_transdiff\n",
        "      delta = np.sum(np.abs(pr_diff_new - pdiff).data)\n",
        "      #delta = sparse.linalg.norm(pr_diff_new - pdiff, ord=1)\n",
        "      pdiff = pr_diff_new\n",
        "      it += 1\n",
        "      if it % 500 == 0:\n",
        "        print(delta)\n",
        "      if delta < epsilon:\n",
        "          \n",
        "          return pr_diff_new[0]"
      ],
      "execution_count": 0,
      "outputs": []
    },
    {
      "cell_type": "code",
      "metadata": {
        "id": "2PmhP_fz2n9b",
        "colab_type": "code",
        "outputId": "702b13bf-c549-4868-cc57-054ce9d8d313",
        "colab": {
          "base_uri": "https://localhost:8080/",
          "height": 175
        }
      },
      "source": [
        "pp = np.repeat(1.0/A.shape[0], A.shape[0]) # may want to initialize pagerank with p from last iteration?\n",
        "pgrank = iterPageRank(pp, T_matrices[0])\n"
      ],
      "execution_count": 0,
      "outputs": [
        {
          "output_type": "error",
          "ename": "NameError",
          "evalue": "ignored",
          "traceback": [
            "\u001b[0;31m---------------------------------------------------------------------------\u001b[0m",
            "\u001b[0;31mNameError\u001b[0m                                 Traceback (most recent call last)",
            "\u001b[0;32m<ipython-input-15-5c5bebe8e83b>\u001b[0m in \u001b[0;36m<module>\u001b[0;34m()\u001b[0m\n\u001b[0;32m----> 1\u001b[0;31m \u001b[0mpp\u001b[0m \u001b[0;34m=\u001b[0m \u001b[0mnp\u001b[0m\u001b[0;34m.\u001b[0m\u001b[0mrepeat\u001b[0m\u001b[0;34m(\u001b[0m\u001b[0;36m1.0\u001b[0m\u001b[0;34m/\u001b[0m\u001b[0mA\u001b[0m\u001b[0;34m.\u001b[0m\u001b[0mshape\u001b[0m\u001b[0;34m[\u001b[0m\u001b[0;36m0\u001b[0m\u001b[0;34m]\u001b[0m\u001b[0;34m,\u001b[0m \u001b[0mA\u001b[0m\u001b[0;34m.\u001b[0m\u001b[0mshape\u001b[0m\u001b[0;34m[\u001b[0m\u001b[0;36m0\u001b[0m\u001b[0;34m]\u001b[0m\u001b[0;34m)\u001b[0m \u001b[0;31m# may want to initialize pagerank with p from last iteration?\u001b[0m\u001b[0;34m\u001b[0m\u001b[0;34m\u001b[0m\u001b[0m\n\u001b[0m\u001b[1;32m      2\u001b[0m \u001b[0mpgrank\u001b[0m \u001b[0;34m=\u001b[0m \u001b[0miterPageRank\u001b[0m\u001b[0;34m(\u001b[0m\u001b[0mpp\u001b[0m\u001b[0;34m,\u001b[0m \u001b[0mT_matrices\u001b[0m\u001b[0;34m[\u001b[0m\u001b[0;36m0\u001b[0m\u001b[0;34m]\u001b[0m\u001b[0;34m)\u001b[0m\u001b[0;34m\u001b[0m\u001b[0;34m\u001b[0m\u001b[0m\n",
            "\u001b[0;31mNameError\u001b[0m: name 'A' is not defined"
          ]
        }
      ]
    },
    {
      "cell_type": "code",
      "metadata": {
        "id": "tOcwWa7e2vE3",
        "colab_type": "code",
        "colab": {}
      },
      "source": [
        "iterPageDiff(pgrank[0], T_matrices[0], diffQ[0])"
      ],
      "execution_count": 0,
      "outputs": []
    },
    {
      "cell_type": "code",
      "metadata": {
        "id": "V8fuC1RiE5vj",
        "colab_type": "code",
        "colab": {}
      },
      "source": [
        "def forward_pass(weights, D_Set, L_set, features, train_nodes, lmbda, alpha, offset):\n",
        "  print(\"calculating EdgeStrength\")\n",
        "  A, dw = features2EdgeStrength(features, weights)\n",
        "  print(\"calculating TransitionMatrices\")\n",
        "  T_matrices = EdgeStrengthToTransitionMatrices(A, alpha, train_nodes)\n",
        "  print(\"calculating loss\")\n",
        "  loss = get_loss(D_set, L_set, weights, A, T_matrices, train_nodes, lmbda, offset)\n",
        "  print(\"finished forward, loss:\", loss)\n",
        "  return loss"
      ],
      "execution_count": 0,
      "outputs": []
    },
    {
      "cell_type": "code",
      "metadata": {
        "id": "M3rBPiJqObMU",
        "colab_type": "code",
        "colab": {}
      },
      "source": [
        "def costDiff(pl, pd, offset):\n",
        "    return (1.0 / offset) * np.exp(-1.0 * (pl - pd)/offset) * (costFunc(pl, pd, offset) ** 2)"
      ],
      "execution_count": 0,
      "outputs": []
    },
    {
      "cell_type": "code",
      "metadata": {
        "id": "0wZGt1VTEVb2",
        "colab_type": "code",
        "colab": {}
      },
      "source": [
        "def lossDiff(T_matrices, diffQ, trian_nodes, offset, D_set, L_set):\n",
        "  diffWeights = np.array([0] * len(diffQ))\n",
        "\n",
        "  nnodes = T_matrices[0].shape[0]\n",
        "  for i, ind in tqdm(enumerate(train_nodes)):\n",
        "\n",
        "          pp = np.repeat(1.0/nnodes, nnodes) # may want to initialize pagerank with p from last iteration?\n",
        "          pgrank = iterPageRank(pp, T_matrices[i])\n",
        "          pgrank_vec = pgrank.toarray()[0]\n",
        "\n",
        "          lossdiffs = defaultdict(dict)\n",
        "          for d in D_set[ind]:\n",
        "            for l in L_set[ind]:\n",
        "                  lossdiffs[d][l] = costDiff(pgrank_vec[l], pgrank_vec[d], offset)\n",
        "          \n",
        "\n",
        "          for k in range(len(weights)):\n",
        "            nodeDiff = 0\n",
        "            pdiff = np.zeros((nnodes))\n",
        "            pdiff = iterPageDiff(pgrank[0], T_matrices[i], diffQ[k])\n",
        "\n",
        "\n",
        "            pdiff_vec = pdiff.toarray()[0]\n",
        "\n",
        "            #need to pass in D_set and L_set to function?\n",
        "            #tt = time.time()\n",
        "            for d in D_set[ind]:\n",
        "                  for l in L_set[ind]:\n",
        "\n",
        "                      nodeDiff += lossdiffs[d][l]*(pdiff_vec[l] - pdiff_vec[d])\n",
        "\n",
        "\n",
        "            diffWeights[k] += nodeDiff    \n",
        "\n",
        "  return diffWeights   \n"
      ],
      "execution_count": 0,
      "outputs": []
    },
    {
      "cell_type": "code",
      "metadata": {
        "id": "Eqr1JIooIwsZ",
        "colab_type": "code",
        "colab": {}
      },
      "source": [
        "def backward_pass(weights, D_Set, L_set, features, train_nodes, lmbda, alpha, offset):\n",
        "\n",
        "  \n",
        "  print(\"calculating EdgeStrength\")\n",
        "  A, dw = features2EdgeStrength(features, weights)\n",
        "  print(\"calculating TransitionMatrices\")\n",
        "  T_matrices = EdgeStrengthToTransitionMatrices(A, alpha, train_nodes)\n",
        "\n",
        "  nnodes = A.shape[0]\n",
        "  print(\"calculating diffTransition\")\n",
        "  diffQ = diffTransition(A, dw)\n",
        "  print(\"calculating lossDiff\")\n",
        "  diffWeights = lossDiff(T_matrices, diffQ, train_nodes, offset, D_set, L_set)\n",
        "\n",
        "      \n",
        "  for k in range(len(diffWeights)):\n",
        "    diffWeights[k] += 2.0 * lmbda * weights[k]\n",
        "\n",
        "  #print (diffWeights)\n",
        "  print(\"finished backward\")\n",
        "  return np.array(diffWeights, dtype='float64')\n",
        "    \n",
        "\n"
      ],
      "execution_count": 0,
      "outputs": []
    },
    {
      "cell_type": "code",
      "metadata": {
        "id": "q03sDIkpF3T9",
        "colab_type": "code",
        "outputId": "9728fe8d-3bcf-4a81-ceca-796a4d8005f9",
        "colab": {
          "base_uri": "https://localhost:8080/",
          "height": 312
        }
      },
      "source": [
        "backward_pass(D_set, L_set, features, train_nodes, 0.2, 0.3, 0.1, wht)"
      ],
      "execution_count": 0,
      "outputs": [
        {
          "output_type": "stream",
          "text": [
            "calculating EdgeStrength\n"
          ],
          "name": "stdout"
        },
        {
          "output_type": "error",
          "ename": "IndexError",
          "evalue": "ignored",
          "traceback": [
            "\u001b[0;31m---------------------------------------------------------------------------\u001b[0m",
            "\u001b[0;31mIndexError\u001b[0m                                Traceback (most recent call last)",
            "\u001b[0;32m<ipython-input-29-1b01ce9c24b5>\u001b[0m in \u001b[0;36m<module>\u001b[0;34m()\u001b[0m\n\u001b[0;32m----> 1\u001b[0;31m \u001b[0mbackward_pass\u001b[0m\u001b[0;34m(\u001b[0m\u001b[0mD_set\u001b[0m\u001b[0;34m,\u001b[0m \u001b[0mL_set\u001b[0m\u001b[0;34m,\u001b[0m \u001b[0mfeatures\u001b[0m\u001b[0;34m,\u001b[0m \u001b[0mtrain_nodes\u001b[0m\u001b[0;34m,\u001b[0m \u001b[0;36m0.2\u001b[0m\u001b[0;34m,\u001b[0m \u001b[0;36m0.3\u001b[0m\u001b[0;34m,\u001b[0m \u001b[0;36m0.1\u001b[0m\u001b[0;34m,\u001b[0m \u001b[0mwht\u001b[0m\u001b[0;34m)\u001b[0m\u001b[0;34m\u001b[0m\u001b[0;34m\u001b[0m\u001b[0m\n\u001b[0m",
            "\u001b[0;32m<ipython-input-23-614423cf59ce>\u001b[0m in \u001b[0;36mbackward_pass\u001b[0;34m(weights, D_Set, L_set, features, train_nodes, lmbda, alpha, offset)\u001b[0m\n\u001b[1;32m      3\u001b[0m \u001b[0;34m\u001b[0m\u001b[0m\n\u001b[1;32m      4\u001b[0m   \u001b[0mprint\u001b[0m\u001b[0;34m(\u001b[0m\u001b[0;34m\"calculating EdgeStrength\"\u001b[0m\u001b[0;34m)\u001b[0m\u001b[0;34m\u001b[0m\u001b[0;34m\u001b[0m\u001b[0m\n\u001b[0;32m----> 5\u001b[0;31m   \u001b[0mA\u001b[0m\u001b[0;34m,\u001b[0m \u001b[0mdw\u001b[0m \u001b[0;34m=\u001b[0m \u001b[0mfeatures2EdgeStrength\u001b[0m\u001b[0;34m(\u001b[0m\u001b[0mfeatures\u001b[0m\u001b[0;34m,\u001b[0m \u001b[0mweights\u001b[0m\u001b[0;34m)\u001b[0m\u001b[0;34m\u001b[0m\u001b[0;34m\u001b[0m\u001b[0m\n\u001b[0m\u001b[1;32m      6\u001b[0m   \u001b[0mprint\u001b[0m\u001b[0;34m(\u001b[0m\u001b[0;34m\"calculating TransitionMatrices\"\u001b[0m\u001b[0;34m)\u001b[0m\u001b[0;34m\u001b[0m\u001b[0;34m\u001b[0m\u001b[0m\n\u001b[1;32m      7\u001b[0m   \u001b[0mT_matrices\u001b[0m \u001b[0;34m=\u001b[0m \u001b[0mEdgeStrengthToTransitionMatrices\u001b[0m\u001b[0;34m(\u001b[0m\u001b[0mA\u001b[0m\u001b[0;34m,\u001b[0m \u001b[0malpha\u001b[0m\u001b[0;34m,\u001b[0m \u001b[0mtrain_nodes\u001b[0m\u001b[0;34m)\u001b[0m\u001b[0;34m\u001b[0m\u001b[0;34m\u001b[0m\u001b[0m\n",
            "\u001b[0;32m<ipython-input-12-4083b4740302>\u001b[0m in \u001b[0;36mfeatures2EdgeStrength\u001b[0;34m(fts, wts)\u001b[0m\n\u001b[1;32m      1\u001b[0m \u001b[0;32mdef\u001b[0m \u001b[0mfeatures2EdgeStrength\u001b[0m\u001b[0;34m(\u001b[0m\u001b[0mfts\u001b[0m\u001b[0;34m,\u001b[0m \u001b[0mwts\u001b[0m\u001b[0;34m)\u001b[0m\u001b[0;34m:\u001b[0m\u001b[0;34m\u001b[0m\u001b[0;34m\u001b[0m\u001b[0m\n\u001b[0;32m----> 2\u001b[0;31m     \u001b[0ma\u001b[0m \u001b[0;34m=\u001b[0m \u001b[0msparse\u001b[0m\u001b[0;34m.\u001b[0m\u001b[0mcsr_matrix\u001b[0m\u001b[0;34m(\u001b[0m\u001b[0;34m(\u001b[0m\u001b[0mfts\u001b[0m\u001b[0;34m[\u001b[0m\u001b[0mlist\u001b[0m\u001b[0;34m(\u001b[0m\u001b[0mfts\u001b[0m\u001b[0;34m)\u001b[0m\u001b[0;34m[\u001b[0m\u001b[0;36m0\u001b[0m\u001b[0;34m]\u001b[0m\u001b[0;34m]\u001b[0m\u001b[0;34m.\u001b[0m\u001b[0mshape\u001b[0m\u001b[0;34m)\u001b[0m\u001b[0;34m,\u001b[0m \u001b[0mdtype\u001b[0m\u001b[0;34m=\u001b[0m\u001b[0mfloat\u001b[0m\u001b[0;34m)\u001b[0m\u001b[0;34m\u001b[0m\u001b[0;34m\u001b[0m\u001b[0m\n\u001b[0m\u001b[1;32m      3\u001b[0m     \u001b[0;32mfor\u001b[0m \u001b[0mi\u001b[0m\u001b[0;34m,\u001b[0m \u001b[0mk\u001b[0m \u001b[0;32min\u001b[0m \u001b[0menumerate\u001b[0m\u001b[0;34m(\u001b[0m\u001b[0mfts\u001b[0m\u001b[0;34m)\u001b[0m\u001b[0;34m:\u001b[0m\u001b[0;34m\u001b[0m\u001b[0;34m\u001b[0m\u001b[0m\n\u001b[1;32m      4\u001b[0m         \u001b[0ma\u001b[0m \u001b[0;34m=\u001b[0m \u001b[0ma\u001b[0m \u001b[0;34m+\u001b[0m \u001b[0mfts\u001b[0m\u001b[0;34m[\u001b[0m\u001b[0mk\u001b[0m\u001b[0;34m]\u001b[0m \u001b[0;34m*\u001b[0m \u001b[0mwts\u001b[0m\u001b[0;34m[\u001b[0m\u001b[0mi\u001b[0m\u001b[0;34m]\u001b[0m\u001b[0;34m\u001b[0m\u001b[0;34m\u001b[0m\u001b[0m\n\u001b[1;32m      5\u001b[0m \u001b[0;34m\u001b[0m\u001b[0m\n",
            "\u001b[0;31mIndexError\u001b[0m: list index out of range"
          ]
        }
      ]
    },
    {
      "cell_type": "code",
      "metadata": {
        "id": "jgi-ISM3GW6M",
        "colab_type": "code",
        "outputId": "e5866e76-5d5c-43b9-beb2-54966697e218",
        "colab": {
          "base_uri": "https://localhost:8080/",
          "height": 158
        }
      },
      "source": [
        "print( diffWeights, weights)"
      ],
      "execution_count": 0,
      "outputs": [
        {
          "output_type": "error",
          "ename": "NameError",
          "evalue": "ignored",
          "traceback": [
            "\u001b[0;31m---------------------------------------------------------------------------\u001b[0m",
            "\u001b[0;31mNameError\u001b[0m                                 Traceback (most recent call last)",
            "\u001b[0;32m<ipython-input-30-aeae11b84564>\u001b[0m in \u001b[0;36m<module>\u001b[0;34m()\u001b[0m\n\u001b[0;32m----> 1\u001b[0;31m \u001b[0mprint\u001b[0m\u001b[0;34m(\u001b[0m \u001b[0mdiffWeights\u001b[0m\u001b[0;34m,\u001b[0m \u001b[0mweights\u001b[0m\u001b[0;34m)\u001b[0m\u001b[0;34m\u001b[0m\u001b[0;34m\u001b[0m\u001b[0m\n\u001b[0m",
            "\u001b[0;31mNameError\u001b[0m: name 'diffWeights' is not defined"
          ]
        }
      ]
    },
    {
      "cell_type": "code",
      "metadata": {
        "id": "r8G7R_bTLCAQ",
        "colab_type": "code",
        "colab": {}
      },
      "source": [
        "wht"
      ],
      "execution_count": 0,
      "outputs": []
    },
    {
      "cell_type": "code",
      "metadata": {
        "id": "_DNkAdQKFgKJ",
        "colab_type": "code",
        "outputId": "7141028a-842b-458c-820d-3e50e1401c5d",
        "colab": {
          "base_uri": "https://localhost:8080/",
          "height": 223
        }
      },
      "source": [
        "max_iter = 500\n",
        "lr = 1e-5\n",
        "wht = weights\n",
        "for i in range(max_iter):\n",
        "  loss =  forward_pass(D_set, L_set, features, train_nodes, lmb, alpha, offset, wht)\n",
        "  diffWeights = backward_pass (D_set, L_set, features, train_nodes, lmb, alpha, offset, wht)\n",
        "  wht = [wht[i] - diffWeights[i] * lr for i in range(len(wht))]\n",
        "  print(\"new weights\", wht)\n",
        "  print((\"iteration %d, loss %f\") % (i, loss))\n",
        "  \n",
        "\n"
      ],
      "execution_count": 0,
      "outputs": [
        {
          "output_type": "error",
          "ename": "NameError",
          "evalue": "ignored",
          "traceback": [
            "\u001b[0;31m---------------------------------------------------------------------------\u001b[0m",
            "\u001b[0;31mNameError\u001b[0m                                 Traceback (most recent call last)",
            "\u001b[0;32m<ipython-input-16-417c7ea3574d>\u001b[0m in \u001b[0;36m<module>\u001b[0;34m()\u001b[0m\n\u001b[1;32m      3\u001b[0m \u001b[0mwht\u001b[0m \u001b[0;34m=\u001b[0m \u001b[0mweights\u001b[0m\u001b[0;34m\u001b[0m\u001b[0;34m\u001b[0m\u001b[0m\n\u001b[1;32m      4\u001b[0m \u001b[0;32mfor\u001b[0m \u001b[0mi\u001b[0m \u001b[0;32min\u001b[0m \u001b[0mrange\u001b[0m\u001b[0;34m(\u001b[0m\u001b[0mmax_iter\u001b[0m\u001b[0;34m)\u001b[0m\u001b[0;34m:\u001b[0m\u001b[0;34m\u001b[0m\u001b[0;34m\u001b[0m\u001b[0m\n\u001b[0;32m----> 5\u001b[0;31m   \u001b[0mloss\u001b[0m \u001b[0;34m=\u001b[0m  \u001b[0mforward_pass\u001b[0m\u001b[0;34m(\u001b[0m\u001b[0mD_set\u001b[0m\u001b[0;34m,\u001b[0m \u001b[0mL_set\u001b[0m\u001b[0;34m,\u001b[0m \u001b[0mfeatures\u001b[0m\u001b[0;34m,\u001b[0m \u001b[0mtrain_nodes\u001b[0m\u001b[0;34m,\u001b[0m \u001b[0mlmb\u001b[0m\u001b[0;34m,\u001b[0m \u001b[0malpha\u001b[0m\u001b[0;34m,\u001b[0m \u001b[0moffset\u001b[0m\u001b[0;34m,\u001b[0m \u001b[0mwht\u001b[0m\u001b[0;34m)\u001b[0m\u001b[0;34m\u001b[0m\u001b[0;34m\u001b[0m\u001b[0m\n\u001b[0m\u001b[1;32m      6\u001b[0m   \u001b[0mdiffWeights\u001b[0m \u001b[0;34m=\u001b[0m \u001b[0mbackward_pass\u001b[0m \u001b[0;34m(\u001b[0m\u001b[0mD_set\u001b[0m\u001b[0;34m,\u001b[0m \u001b[0mL_set\u001b[0m\u001b[0;34m,\u001b[0m \u001b[0mfeatures\u001b[0m\u001b[0;34m,\u001b[0m \u001b[0mtrain_nodes\u001b[0m\u001b[0;34m,\u001b[0m \u001b[0mlmb\u001b[0m\u001b[0;34m,\u001b[0m \u001b[0malpha\u001b[0m\u001b[0;34m,\u001b[0m \u001b[0moffset\u001b[0m\u001b[0;34m,\u001b[0m \u001b[0mwht\u001b[0m\u001b[0;34m)\u001b[0m\u001b[0;34m\u001b[0m\u001b[0;34m\u001b[0m\u001b[0m\n\u001b[1;32m      7\u001b[0m   \u001b[0mwht\u001b[0m \u001b[0;34m=\u001b[0m \u001b[0;34m[\u001b[0m\u001b[0mwht\u001b[0m\u001b[0;34m[\u001b[0m\u001b[0mi\u001b[0m\u001b[0;34m]\u001b[0m \u001b[0;34m-\u001b[0m \u001b[0mdiffWeights\u001b[0m\u001b[0;34m[\u001b[0m\u001b[0mi\u001b[0m\u001b[0;34m]\u001b[0m \u001b[0;34m*\u001b[0m \u001b[0mlr\u001b[0m \u001b[0;32mfor\u001b[0m \u001b[0mi\u001b[0m \u001b[0;32min\u001b[0m \u001b[0mrange\u001b[0m\u001b[0;34m(\u001b[0m\u001b[0mlen\u001b[0m\u001b[0;34m(\u001b[0m\u001b[0mwht\u001b[0m\u001b[0;34m)\u001b[0m\u001b[0;34m)\u001b[0m\u001b[0;34m]\u001b[0m\u001b[0;34m\u001b[0m\u001b[0;34m\u001b[0m\u001b[0m\n",
            "\u001b[0;31mNameError\u001b[0m: name 'forward_pass' is not defined"
          ]
        }
      ]
    },
    {
      "cell_type": "code",
      "metadata": {
        "id": "Bp0U5_x1GK1z",
        "colab_type": "code",
        "outputId": "a26e67aa-9b6f-409f-e4e5-6337eab71dd2",
        "colab": {
          "base_uri": "https://localhost:8080/",
          "height": 207
        }
      },
      "source": [
        "fprintalpha = 0.3\n",
        "A, dw = features2EdgeStrength(features, weights)\n",
        "T_matrices = EdgeStrengthToTransitionMatrices(A, alpha, train_nodes)\n",
        "diffQ = diffTransition(A, dw)"
      ],
      "execution_count": 0,
      "outputs": [
        {
          "output_type": "error",
          "ename": "NameError",
          "evalue": "ignored",
          "traceback": [
            "\u001b[0;31m---------------------------------------------------------------------------\u001b[0m",
            "\u001b[0;31mNameError\u001b[0m                                 Traceback (most recent call last)",
            "\u001b[0;32m<ipython-input-17-031541a249d5>\u001b[0m in \u001b[0;36m<module>\u001b[0;34m()\u001b[0m\n\u001b[1;32m      1\u001b[0m \u001b[0mfprintalpha\u001b[0m \u001b[0;34m=\u001b[0m \u001b[0;36m0.3\u001b[0m\u001b[0;34m\u001b[0m\u001b[0;34m\u001b[0m\u001b[0m\n\u001b[1;32m      2\u001b[0m \u001b[0mA\u001b[0m\u001b[0;34m,\u001b[0m \u001b[0mdw\u001b[0m \u001b[0;34m=\u001b[0m \u001b[0mfeatures2EdgeStrength\u001b[0m\u001b[0;34m(\u001b[0m\u001b[0mfeatures\u001b[0m\u001b[0;34m,\u001b[0m \u001b[0mweights\u001b[0m\u001b[0;34m)\u001b[0m\u001b[0;34m\u001b[0m\u001b[0;34m\u001b[0m\u001b[0m\n\u001b[0;32m----> 3\u001b[0;31m \u001b[0mT_matrices\u001b[0m \u001b[0;34m=\u001b[0m \u001b[0mEdgeStrengthToTransitionMatrices\u001b[0m\u001b[0;34m(\u001b[0m\u001b[0mA\u001b[0m\u001b[0;34m,\u001b[0m \u001b[0malpha\u001b[0m\u001b[0;34m,\u001b[0m \u001b[0mtrain_nodes\u001b[0m\u001b[0;34m)\u001b[0m\u001b[0;34m\u001b[0m\u001b[0;34m\u001b[0m\u001b[0m\n\u001b[0m\u001b[1;32m      4\u001b[0m \u001b[0mdiffQ\u001b[0m \u001b[0;34m=\u001b[0m \u001b[0mdiffTransition\u001b[0m\u001b[0;34m(\u001b[0m\u001b[0mA\u001b[0m\u001b[0;34m,\u001b[0m \u001b[0mdw\u001b[0m\u001b[0;34m)\u001b[0m\u001b[0;34m\u001b[0m\u001b[0;34m\u001b[0m\u001b[0m\n",
            "\u001b[0;31mNameError\u001b[0m: name 'alpha' is not defined"
          ]
        }
      ]
    },
    {
      "cell_type": "code",
      "metadata": {
        "id": "PrOZtAHwK_Pe",
        "colab_type": "code",
        "outputId": "00c4ccab-e92b-4301-e697-d1b887b5bf54",
        "colab": {
          "base_uri": "https://localhost:8080/",
          "height": 175
        }
      },
      "source": [
        "offset = 0.1\n",
        "diffWeights = lossDiff(T_matrices, diffQ, train_nodes, offset, D_set, L_set)"
      ],
      "execution_count": 0,
      "outputs": [
        {
          "output_type": "error",
          "ename": "NameError",
          "evalue": "ignored",
          "traceback": [
            "\u001b[0;31m---------------------------------------------------------------------------\u001b[0m",
            "\u001b[0;31mNameError\u001b[0m                                 Traceback (most recent call last)",
            "\u001b[0;32m<ipython-input-18-9e113f47c0e0>\u001b[0m in \u001b[0;36m<module>\u001b[0;34m()\u001b[0m\n\u001b[1;32m      1\u001b[0m \u001b[0moffset\u001b[0m \u001b[0;34m=\u001b[0m \u001b[0;36m0.1\u001b[0m\u001b[0;34m\u001b[0m\u001b[0;34m\u001b[0m\u001b[0m\n\u001b[0;32m----> 2\u001b[0;31m \u001b[0mdiffWeights\u001b[0m \u001b[0;34m=\u001b[0m \u001b[0mlossDiff\u001b[0m\u001b[0;34m(\u001b[0m\u001b[0mT_matrices\u001b[0m\u001b[0;34m,\u001b[0m \u001b[0mdiffQ\u001b[0m\u001b[0;34m,\u001b[0m \u001b[0mtrain_nodes\u001b[0m\u001b[0;34m,\u001b[0m \u001b[0moffset\u001b[0m\u001b[0;34m,\u001b[0m \u001b[0mD_set\u001b[0m\u001b[0;34m,\u001b[0m \u001b[0mL_set\u001b[0m\u001b[0;34m)\u001b[0m\u001b[0;34m\u001b[0m\u001b[0;34m\u001b[0m\u001b[0m\n\u001b[0m",
            "\u001b[0;31mNameError\u001b[0m: name 'lossDiff' is not defined"
          ]
        }
      ]
    },
    {
      "cell_type": "code",
      "metadata": {
        "id": "DdBXwlVOFtWY",
        "colab_type": "code",
        "outputId": "011f73f8-96b2-4ebf-ee04-f4e13eae86ff",
        "colab": {
          "base_uri": "https://localhost:8080/",
          "height": 175
        }
      },
      "source": [
        "\n",
        "forward_pass(D_set, L_set, features, train_nodes, lmb, alpha, offset, weights)"
      ],
      "execution_count": 0,
      "outputs": [
        {
          "output_type": "error",
          "ename": "NameError",
          "evalue": "ignored",
          "traceback": [
            "\u001b[0;31m---------------------------------------------------------------------------\u001b[0m",
            "\u001b[0;31mNameError\u001b[0m                                 Traceback (most recent call last)",
            "\u001b[0;32m<ipython-input-19-cc114713de80>\u001b[0m in \u001b[0;36m<module>\u001b[0;34m()\u001b[0m\n\u001b[1;32m      1\u001b[0m \u001b[0;34m\u001b[0m\u001b[0m\n\u001b[0;32m----> 2\u001b[0;31m \u001b[0mforward_pass\u001b[0m\u001b[0;34m(\u001b[0m\u001b[0mD_set\u001b[0m\u001b[0;34m,\u001b[0m \u001b[0mL_set\u001b[0m\u001b[0;34m,\u001b[0m \u001b[0mfeatures\u001b[0m\u001b[0;34m,\u001b[0m \u001b[0mtrain_nodes\u001b[0m\u001b[0;34m,\u001b[0m \u001b[0mlmb\u001b[0m\u001b[0;34m,\u001b[0m \u001b[0malpha\u001b[0m\u001b[0;34m,\u001b[0m \u001b[0moffset\u001b[0m\u001b[0;34m,\u001b[0m \u001b[0mweights\u001b[0m\u001b[0;34m)\u001b[0m\u001b[0;34m\u001b[0m\u001b[0;34m\u001b[0m\u001b[0m\n\u001b[0m",
            "\u001b[0;31mNameError\u001b[0m: name 'forward_pass' is not defined"
          ]
        }
      ]
    },
    {
      "cell_type": "code",
      "metadata": {
        "id": "KO77RyuM5ZWD",
        "colab_type": "code",
        "outputId": "94a50db5-3e1a-4367-bdfe-62fcd81d3e9c",
        "colab": {
          "base_uri": "https://localhost:8080/",
          "height": 50
        }
      },
      "source": [
        "weights"
      ],
      "execution_count": 0,
      "outputs": [
        {
          "output_type": "execute_result",
          "data": {
            "text/plain": [
              "array([0.369406  , 0.04976344, 0.07715745, 0.72408957, 0.43554452,\n",
              "       0.0068483 ])"
            ]
          },
          "metadata": {
            "tags": []
          },
          "execution_count": 22
        }
      ]
    },
    {
      "cell_type": "code",
      "metadata": {
        "id": "BF1c1PzgPLm-",
        "colab_type": "code",
        "colab": {}
      },
      "source": [
        "backward_pass(D_set, L_set, features, train_nodes, 0.2, 0.3, 0.1, weights)"
      ],
      "execution_count": 0,
      "outputs": []
    },
    {
      "cell_type": "code",
      "metadata": {
        "id": "kz9dpFjmgQRH",
        "colab_type": "code",
        "colab": {}
      },
      "source": [
        "lmb = 1\n",
        "alpha = 0.2\n",
        "offset = 0.1\n",
        "w = np.array(weights,dtype='complex', order='F')"
      ],
      "execution_count": 0,
      "outputs": []
    },
    {
      "cell_type": "code",
      "metadata": {
        "id": "8_Fr8_DECeAk",
        "colab_type": "code",
        "colab": {}
      },
      "source": [
        "beta_Opt = fmin_l_bfgs_b(func = forward_pass,\n",
        "                         x0 = w, \n",
        "                         fprime=backward_pass,\n",
        "                         args = (D_set, L_set, features, train_nodes, lmb, alpha, offset))\n",
        "                        # approx_grad=True)\n"
      ],
      "execution_count": 0,
      "outputs": []
    },
    {
      "cell_type": "code",
      "metadata": {
        "id": "ZhuwIoNVkcBD",
        "colab_type": "code",
        "colab": {}
      },
      "source": [
        "ind2map = {'User': {},\n",
        "           'PR': {},\n",
        "           }\n",
        "for key in test_node_mapping:\n",
        "  ID, typ =  key\n",
        "  if typ == 'User':\n",
        "    ind2map['User'][test_node_mapping[key]] = ID\n",
        "  else:\n",
        "    ind2map['PR'][test_node_mapping[key]] = ID\n",
        "\n",
        "  #ind2map[test_node_mapping[key][0]] = "
      ],
      "execution_count": 0,
      "outputs": []
    },
    {
      "cell_type": "code",
      "metadata": {
        "id": "Oxy6koucfcO2",
        "colab_type": "code",
        "outputId": "2dc499d7-4fac-481b-ee68-9fd27708be27",
        "colab": {
          "base_uri": "https://localhost:8080/",
          "height": 817
        }
      },
      "source": [
        "test_comments"
      ],
      "execution_count": 0,
      "outputs": [
        {
          "output_type": "execute_result",
          "data": {
            "text/html": [
              "<div>\n",
              "<style scoped>\n",
              "    .dataframe tbody tr th:only-of-type {\n",
              "        vertical-align: middle;\n",
              "    }\n",
              "\n",
              "    .dataframe tbody tr th {\n",
              "        vertical-align: top;\n",
              "    }\n",
              "\n",
              "    .dataframe thead th {\n",
              "        text-align: right;\n",
              "    }\n",
              "</style>\n",
              "<table border=\"1\" class=\"dataframe\">\n",
              "  <thead>\n",
              "    <tr style=\"text-align: right;\">\n",
              "      <th></th>\n",
              "      <th>id</th>\n",
              "      <th>comment</th>\n",
              "      <th>commenter_id</th>\n",
              "      <th>commenter_login</th>\n",
              "      <th>pr_id</th>\n",
              "      <th>user_id</th>\n",
              "      <th>username</th>\n",
              "      <th>title</th>\n",
              "      <th>description</th>\n",
              "      <th>pr_created_at</th>\n",
              "      <th>comment_created_at</th>\n",
              "    </tr>\n",
              "  </thead>\n",
              "  <tbody>\n",
              "    <tr>\n",
              "      <th>31064</th>\n",
              "      <td>208301939</td>\n",
              "      <td>I am pretty sure these lifecycle tests _should...</td>\n",
              "      <td>49258</td>\n",
              "      <td>spiffxp</td>\n",
              "      <td>67084</td>\n",
              "      <td>49258</td>\n",
              "      <td>spiffxp</td>\n",
              "      <td>Remove [Conformance] from tests in test/e2e_node</td>\n",
              "      <td>Conformance tests live inside of test/e2e, non...</td>\n",
              "      <td>2018-08-07 16:36:21+00:00</td>\n",
              "      <td>2018-08-07 16:37:23+00:00</td>\n",
              "    </tr>\n",
              "    <tr>\n",
              "      <th>31065</th>\n",
              "      <td>201088136</td>\n",
              "      <td>Probably we should move this function down to ...</td>\n",
              "      <td>1796778</td>\n",
              "      <td>misterikkit</td>\n",
              "      <td>65714</td>\n",
              "      <td>1701782</td>\n",
              "      <td>resouer</td>\n",
              "      <td>Re-design equivalence class cache to two level...</td>\n",
              "      <td>&lt;!--  Thanks for sending a pull request!  Here...</td>\n",
              "      <td>2018-07-02 14:27:00+00:00</td>\n",
              "      <td>2018-07-09 17:39:54+00:00</td>\n",
              "    </tr>\n",
              "    <tr>\n",
              "      <th>31066</th>\n",
              "      <td>220324430</td>\n",
              "      <td>It looks like Pop returns `FIFOClosedError` an...</td>\n",
              "      <td>1796778</td>\n",
              "      <td>misterikkit</td>\n",
              "      <td>68700</td>\n",
              "      <td>1425903</td>\n",
              "      <td>Huang-Wei</td>\n",
              "      <td>shutdown schedulingQueue gracefully</td>\n",
              "      <td>**What this PR does / why we need it**:\\r\\n\\r\\...</td>\n",
              "      <td>2018-09-15 00:10:46+00:00</td>\n",
              "      <td>2018-09-25 19:27:15+00:00</td>\n",
              "    </tr>\n",
              "    <tr>\n",
              "      <th>31067</th>\n",
              "      <td>198569000</td>\n",
              "      <td>I ended-up updating :-) Thanks!</td>\n",
              "      <td>1929644</td>\n",
              "      <td>apelisse</td>\n",
              "      <td>65453</td>\n",
              "      <td>1929644</td>\n",
              "      <td>apelisse</td>\n",
              "      <td>Print error when APIServer fails to start</td>\n",
              "      <td>**What this PR does / why we need it**: Print ...</td>\n",
              "      <td>2018-06-25 23:39:24+00:00</td>\n",
              "      <td>2018-06-27 17:00:32+00:00</td>\n",
              "    </tr>\n",
              "    <tr>\n",
              "      <th>31068</th>\n",
              "      <td>235530811</td>\n",
              "      <td>Hmm, what in this change forces it to go over ...</td>\n",
              "      <td>1146263</td>\n",
              "      <td>awly</td>\n",
              "      <td>71299</td>\n",
              "      <td>1787169</td>\n",
              "      <td>mikedanese</td>\n",
              "      <td>Unify Kubelet server TLS options and run docke...</td>\n",
              "      <td>### first commit\\r\\n\\r\\ndelete the TLSOptions ...</td>\n",
              "      <td>2018-11-21 03:38:18+00:00</td>\n",
              "      <td>2018-11-21 20:31:51+00:00</td>\n",
              "    </tr>\n",
              "    <tr>\n",
              "      <th>...</th>\n",
              "      <td>...</td>\n",
              "      <td>...</td>\n",
              "      <td>...</td>\n",
              "      <td>...</td>\n",
              "      <td>...</td>\n",
              "      <td>...</td>\n",
              "      <td>...</td>\n",
              "      <td>...</td>\n",
              "      <td>...</td>\n",
              "      <td>...</td>\n",
              "      <td>...</td>\n",
              "    </tr>\n",
              "    <tr>\n",
              "      <th>68986</th>\n",
              "      <td>417644308</td>\n",
              "      <td>/retest</td>\n",
              "      <td>10743879</td>\n",
              "      <td>wojtek-t</td>\n",
              "      <td>68131</td>\n",
              "      <td>10743879</td>\n",
              "      <td>wojtek-t</td>\n",
              "      <td>Fix ipam controller to not drop nodes forever ...</td>\n",
              "      <td>https://github.com/kubernetes/kubernetes/pull/...</td>\n",
              "      <td>2018-08-31 11:44:45+00:00</td>\n",
              "      <td>2018-08-31 12:08:07+00:00</td>\n",
              "    </tr>\n",
              "    <tr>\n",
              "      <th>68987</th>\n",
              "      <td>425841890</td>\n",
              "      <td>@loburm please rebase</td>\n",
              "      <td>10743879</td>\n",
              "      <td>wojtek-t</td>\n",
              "      <td>68823</td>\n",
              "      <td>7943996</td>\n",
              "      <td>loburm</td>\n",
              "      <td>Extract cpu requests to separate env variables.</td>\n",
              "      <td>This PR doesn't change current behavior of clu...</td>\n",
              "      <td>2018-09-19 10:26:11+00:00</td>\n",
              "      <td>2018-10-01 09:20:27+00:00</td>\n",
              "    </tr>\n",
              "    <tr>\n",
              "      <th>68988</th>\n",
              "      <td>444289211</td>\n",
              "      <td>/ok-to-test\\r\\n/lgtm\\r\\n/approve</td>\n",
              "      <td>10743879</td>\n",
              "      <td>wojtek-t</td>\n",
              "      <td>71726</td>\n",
              "      <td>30532651</td>\n",
              "      <td>mbrannock</td>\n",
              "      <td>Create managed instance groups for nodes in pa...</td>\n",
              "      <td>NaN</td>\n",
              "      <td>2018-12-04 22:47:24+00:00</td>\n",
              "      <td>2018-12-04 22:47:58+00:00</td>\n",
              "    </tr>\n",
              "    <tr>\n",
              "      <th>68989</th>\n",
              "      <td>444289369</td>\n",
              "      <td>/kind cleanup\\r\\n</td>\n",
              "      <td>10743879</td>\n",
              "      <td>wojtek-t</td>\n",
              "      <td>71726</td>\n",
              "      <td>30532651</td>\n",
              "      <td>mbrannock</td>\n",
              "      <td>Create managed instance groups for nodes in pa...</td>\n",
              "      <td>NaN</td>\n",
              "      <td>2018-12-04 22:47:24+00:00</td>\n",
              "      <td>2018-12-04 22:48:32+00:00</td>\n",
              "    </tr>\n",
              "    <tr>\n",
              "      <th>68990</th>\n",
              "      <td>398384255</td>\n",
              "      <td>Fixed compile errors - reapplying label.</td>\n",
              "      <td>10743879</td>\n",
              "      <td>wojtek-t</td>\n",
              "      <td>65216</td>\n",
              "      <td>10743879</td>\n",
              "      <td>wojtek-t</td>\n",
              "      <td>Log long operations on iptables</td>\n",
              "      <td>Ref #48107</td>\n",
              "      <td>2018-06-19 12:32:17+00:00</td>\n",
              "      <td>2018-06-19 12:39:27+00:00</td>\n",
              "    </tr>\n",
              "  </tbody>\n",
              "</table>\n",
              "<p>37927 rows × 11 columns</p>\n",
              "</div>"
            ],
            "text/plain": [
              "              id  ...        comment_created_at\n",
              "31064  208301939  ... 2018-08-07 16:37:23+00:00\n",
              "31065  201088136  ... 2018-07-09 17:39:54+00:00\n",
              "31066  220324430  ... 2018-09-25 19:27:15+00:00\n",
              "31067  198569000  ... 2018-06-27 17:00:32+00:00\n",
              "31068  235530811  ... 2018-11-21 20:31:51+00:00\n",
              "...          ...  ...                       ...\n",
              "68986  417644308  ... 2018-08-31 12:08:07+00:00\n",
              "68987  425841890  ... 2018-10-01 09:20:27+00:00\n",
              "68988  444289211  ... 2018-12-04 22:47:58+00:00\n",
              "68989  444289369  ... 2018-12-04 22:48:32+00:00\n",
              "68990  398384255  ... 2018-06-19 12:39:27+00:00\n",
              "\n",
              "[37927 rows x 11 columns]"
            ]
          },
          "metadata": {
            "tags": []
          },
          "execution_count": 184
        }
      ]
    },
    {
      "cell_type": "code",
      "metadata": {
        "id": "hnkKXQ5eeTti",
        "colab_type": "code",
        "colab": {}
      },
      "source": [
        "test_comments = data['test_comments']\n",
        "seen_prs = {}\n",
        "for pr, group in test_comments.groupby('pr_id'):\n",
        "  if pr not in new_labels:\n",
        "    continue\n",
        "  cur_commenters = set(group.commenter_id.unique())\n",
        "  cur_dset = set(new_labels[pr])\n",
        "\n",
        "  seen_prs[pr] = cur_commenters - cur_dset"
      ],
      "execution_count": 0,
      "outputs": []
    },
    {
      "cell_type": "code",
      "metadata": {
        "id": "WIe4NtwJqSPb",
        "colab_type": "code",
        "colab": {}
      },
      "source": [
        "test_nodes = data['unique_test_prs']\n",
        "test_nodes = [test_node_mapping[(k, 'PR')] for k in test_nodes]\n"
      ],
      "execution_count": 0,
      "outputs": []
    },
    {
      "cell_type": "code",
      "metadata": {
        "id": "YybPg2TdUZvm",
        "colab_type": "code",
        "colab": {}
      },
      "source": [
        "data['test_D_sets']"
      ],
      "execution_count": 0,
      "outputs": []
    },
    {
      "cell_type": "code",
      "metadata": {
        "id": "ud1wIhYD17Z7",
        "colab_type": "code",
        "colab": {}
      },
      "source": [
        "ind2map['User'][ind]"
      ],
      "execution_count": 0,
      "outputs": []
    },
    {
      "cell_type": "code",
      "metadata": {
        "id": "IqdjZczxr5Fz",
        "colab_type": "code",
        "colab": {}
      },
      "source": [
        "labels = data['test_D_sets']\n",
        "labels[]"
      ],
      "execution_count": 0,
      "outputs": []
    },
    {
      "cell_type": "code",
      "metadata": {
        "id": "FsQEmKorWBVN",
        "colab_type": "code",
        "outputId": "6b377708-054e-43e8-9804-181c5b195c4d",
        "colab": {
          "base_uri": "https://localhost:8080/",
          "height": 53
        }
      },
      "source": [
        "labels.keys()"
      ],
      "execution_count": 0,
      "outputs": [
        {
          "output_type": "execute_result",
          "data": {
            "text/plain": [
              "dict_keys([3215, 1780, 9, 575, 843, 2390, 2188, 3250, 264, 1616, 2189, 1045, 1206, 1618, 2557, 124, 1619, 2014, 3027, 1047, 778, 1209, 1622, 1210, 1211, 2327, 994, 625, 2016, 153, 2392, 2017, 266, 267, 2992, 2558, 2560, 2976, 2561, 1748, 1628, 2382, 2563, 1765, 1629, 1630, 104, 1048, 105, 11, 1631, 1632, 2565, 2394, 1633, 666, 2197, 2202, 2018, 2566, 1215, 269, 1784, 1218, 2452, 2568, 1219, 2019, 2204, 271, 2205, 1184, 2571, 3225, 1049, 1226, 1021, 2023, 2396, 274, 2572, 2328, 2330, 1229, 2398, 3226, 1740, 276, 812, 2383, 1190, 2579, 2210, 278, 600, 601, 3227, 2400, 1725, 1233, 279, 1785, 1234, 2582, 2211, 280, 579, 281, 2584, 2402, 2212, 845, 3615, 2591, 959, 3013, 282, 283, 1236, 2213, 1238, 2593, 1242, 1243, 13, 995, 846, 3289, 3293, 284, 3485, 960, 961, 1247, 125, 1249, 126, 285, 1250, 1251, 626, 2434, 156, 1727, 286, 1728, 2217, 3253, 288, 2956, 1883, 963, 1884, 290, 964, 2220, 2221, 107, 782, 1052, 18, 1885, 2602, 1164, 3354, 1182, 1053, 2603, 628, 1713, 814, 866, 667, 1886, 1054, 1055, 2604, 2495, 2031, 1262, 965, 2605, 2855, 2032, 299, 821, 783, 301, 654, 302, 668, 1789, 2033, 1790, 303, 1056, 304, 19, 1264, 307, 669, 1265, 308, 2609, 3565, 1267, 310, 2226, 2227, 315, 316, 317, 655, 671, 1272, 319, 323, 325, 1058, 3034, 21, 1277, 2496, 3035, 3617, 3439, 3415, 2229, 22, 2486, 1278, 672, 2333, 849, 2406, 2457, 2614, 1888, 787, 2230, 603, 1280, 1281, 1285, 969, 2616, 1286, 1287, 1592, 326, 676, 1288, 3073, 327, 2232, 1059, 1289, 679, 328, 329, 1292, 604, 1293, 2137, 2994, 2233, 330, 331, 1295, 1183, 1296, 1297, 680, 334, 2234, 2236, 335, 788, 336, 1301, 166, 338, 1302, 339, 2035, 2239, 110, 1305, 340, 3185, 928, 2409, 341, 1307, 2625, 344, 1309, 1310, 2143, 815, 2995, 972, 2243, 2628, 1311, 1061, 685, 346, 1026, 27, 1176, 347, 348, 1027, 2629, 790, 687, 1315, 1316, 1317, 689, 630, 690, 791, 3076, 1319, 350, 351, 352, 631, 1320, 1322, 2246, 1323, 1324, 1325, 129, 3079, 353, 2631, 632, 354, 633, 656, 355, 28, 2634, 131, 2636, 1328, 1158, 851, 158, 2412, 1332, 691, 2247, 1333, 773, 1335, 1337, 32, 33, 1338, 1340, 1894, 2980, 356, 2248, 606, 692, 357, 358, 2250, 3549, 796, 1895, 359, 1345, 694, 360, 1347, 1896, 361, 1349, 34, 2251, 1350, 1897, 2252, 798, 1354, 1900, 1356, 35, 365, 3176, 2254, 2642, 1359, 3522, 2255, 366, 1064, 2043, 1902, 36, 369, 2643, 1906, 370, 2044, 371, 1797, 2258, 657, 2259, 2998, 1729, 38, 373, 374, 698, 375, 1907, 2645, 1908, 376, 1066, 973, 39, 378, 1366, 1367, 774, 40, 41, 2462, 386, 2906, 3104, 387, 3230, 634, 699, 389, 700, 3084, 3490, 1070, 42, 391, 43, 595, 45, 2837, 392, 393, 2147, 1751, 2263, 398, 974, 399, 46, 400, 1909, 3232, 3317, 401, 47, 162, 2266, 977, 3217, 1071, 403, 978, 1910, 405, 1379, 3449, 979, 980, 701, 2928, 981, 1640, 406, 2267, 407, 163, 408, 409, 49, 2268, 2656, 411, 134, 412, 413, 608, 1383, 1191, 2051, 1387, 588, 703, 609, 417, 50, 418, 2465, 51, 1389, 1644, 421, 422, 1645, 704, 2271, 2052, 635, 52, 424, 425, 705, 706, 3543, 707, 2415, 1395, 428, 2659, 1396, 2274, 2275, 1397, 2660, 2661, 431, 2416, 2500, 1398, 589, 1597, 432, 1651, 3038, 1913, 2850, 2277, 3089, 1404, 168, 2278, 1075, 435, 590, 113, 2279, 2468, 1914, 2490, 1804, 1915, 436, 1594, 3276, 1916, 1406, 1024, 1407, 1408, 983, 3456, 2341, 1917, 1918, 3341, 1919, 1920, 2861, 1192, 437, 3220, 438, 1076, 710, 53, 711, 1921, 2981, 1193, 2469, 1078, 1412, 2502, 443, 802, 54, 659, 444, 1416, 3142, 1752, 1417, 823, 1418, 2364, 57, 2055, 1079, 1419, 114, 3040, 445, 2930, 446, 1766, 1420, 1923, 447, 1423, 985, 1424, 1426, 449, 2666, 169, 170, 854, 453, 454, 455, 2668, 136, 1082, 713, 172, 1083, 457, 458, 459, 2916, 714, 2151, 1428, 3342, 2281, 715, 460, 1809, 2671, 2418, 1432, 2931, 1434, 462, 1171, 1436, 2058, 869, 463, 465, 150, 1438, 3043, 855, 1086, 1440, 466, 2503, 2967, 1598, 174, 2060, 1087, 1031, 467, 3187, 3278, 3279, 2471, 164, 468, 1442, 469, 1930, 1443, 1753, 2890, 3108, 997, 2673, 2674, 59, 60, 471, 717, 1446, 2491, 1931, 3621, 2505, 2675, 1932, 475, 476, 1089, 759, 3497, 477, 3622, 479, 137, 2842, 1934, 2064, 1449, 1090, 1935, 1936, 480, 115, 1815, 2982, 1452, 2968, 856, 481, 1197, 1091, 1940, 1816, 2065, 2677, 610, 721, 987, 3047, 3566, 2360, 2679, 484, 1944, 2066, 857, 3111, 2680, 2067, 485, 67, 2681, 874, 486, 487, 2068, 1466, 726, 727, 825, 1656, 3605, 489, 1094, 1095, 1470, 490, 1174, 1472, 875, 2285, 143, 660, 1098, 998, 730, 3647, 858, 2685, 733, 69, 2156, 2072, 1948, 2686, 877, 1475, 2073, 1476, 2157, 734, 1478, 1479, 735, 736, 1480, 3712, 1482, 3280, 1483, 738, 988, 1100, 1661, 1662, 495, 496, 1663, 497, 498, 1950, 740, 2691, 2287, 70, 2692, 1101, 1489, 2693, 3003, 1664, 116, 1952, 71, 999, 72, 1668, 1102, 1827, 1493, 1494, 500, 1495, 611, 2844, 1673, 1499, 117, 1105, 1106, 501, 1175, 2819, 2696, 502, 2697, 503, 1500, 860, 1502, 2812, 1504, 178, 2907, 504, 1108, 2289, 505, 1735, 2507, 507, 816, 179, 3014, 1676, 2700, 2290, 74, 508, 1509, 2701, 949, 510, 511, 2349, 1957, 1958, 1828, 512, 1959, 1512, 3550, 880, 762, 513, 881, 514, 1680, 76, 516, 1686, 2384, 2957, 2984, 2711, 1116, 882, 1962, 77, 883, 2292, 1119, 1120, 885, 3272, 2712, 518, 78, 1700, 1705, 1964, 1121, 1025, 519, 1965, 886, 887, 2295, 614, 888, 615, 1832, 1200, 3053, 1124, 521, 522, 861, 1833, 523, 890, 754, 644, 2086, 1967, 1536, 891, 892, 929, 1708, 524, 525, 526, 527, 1856, 183, 532, 898, 2422, 184, 145, 146, 1128, 1971, 1973, 862, 1835, 2508, 3093, 1130, 2299, 1132, 534, 83, 2899, 1975, 645, 535, 2847, 902, 903, 185, 2089, 904, 905, 906, 863, 1837, 141, 2723, 86, 538, 1134, 539, 907, 2987, 1839, 1709, 2158, 2725, 2728, 2729, 1549, 186, 543, 187, 1978, 1979, 1980, 2733, 1136, 159, 3284, 3470, 1552, 910, 87, 911, 803, 1142, 88, 545, 2880, 89, 2737, 1841, 3514, 1144, 90, 2739, 1555, 3098, 546, 1556, 1145, 1008, 1009, 547, 2370, 805, 2305, 3626, 1986, 3059, 3472, 1147, 1010, 1011, 2873, 2749, 1562, 661, 2477, 1564, 1989, 189, 2094, 1566, 550, 662, 91, 3007, 2307, 917, 3531, 2096, 1202, 2097, 2098, 1600, 1992, 1570, 93, 865, 3673, 3009, 809, 3285, 1150, 2509, 94, 3010, 920, 1571, 555, 1763, 923, 1573, 1151, 1738, 1152, 148, 1015, 1577, 1153, 2761, 3124, 3126, 3127, 1154, 1757, 2902, 1997, 1844, 3011, 924, 1849, 1580, 559, 165, 1581, 1852, 2820, 1583, 2769, 3117, 1845, 3012, 596, 2352, 1155, 98, 597, 1759, 562, 563, 99, 2480, 2440, 3102, 2511, 1156, 2481, 2318, 2780, 568, 757, 3517, 3344, 192, 193, 194, 2162, 3410, 776, 620, 1018, 831, 1157, 3576, 2517, 817, 926, 196, 930, 197, 991, 1019, 198, 199, 200, 992, 2519, 201, 1860, 2375, 1717, 2962, 3611, 931, 202, 0, 204, 832, 3213, 151, 1, 205, 1035, 208, 209, 2376, 572, 833, 211, 212, 213, 214, 2445, 1863, 215, 216, 593, 1037, 1773, 217, 219, 220, 102, 2813, 3372, 222, 3679, 1865, 121, 227, 3548, 647, 952, 2447, 3, 122, 228, 3068, 1867, 1720, 230, 2167, 819, 231, 232, 933, 1868, 3069, 2168, 648, 1714, 1742, 2169, 237, 764, 241, 820, 1029, 935, 2814, 242, 243, 1871, 1872, 244, 1188, 2528, 1873, 2426, 767, 664, 573, 1876, 2909, 2173, 623, 2139, 2530, 838, 249, 2176, 594, 1877, 3325, 250, 251, 253, 769, 254, 255, 256, 1878, 1880, 777, 1881, 259, 653, 2325, 2356, 3245, 2494, 2534, 260, 2182, 1607, 2538, 939, 940, 927, 1609, 941, 3103, 1044, 2357, 1610, 2141, 2186, 942, 943, 2187, 2378, 1778, 1722, 944, 1723, 1189, 945, 1744, 2550, 1745, 2553, 2359, 1613, 1762])"
            ]
          },
          "metadata": {
            "tags": []
          },
          "execution_count": 135
        }
      ]
    },
    {
      "cell_type": "code",
      "metadata": {
        "id": "zKy1ijYoM-BN",
        "colab_type": "code",
        "outputId": "65f4cc28-a21c-4b62-8419-9ef4220a0beb",
        "colab": {
          "base_uri": "https://localhost:8080/",
          "height": 101,
          "referenced_widgets": [
            "4835ee3752d440eaa08a999b132716da",
            "c42eb51d32c54979aa471b8160700078",
            "bdcca135b60c4dd0b1d3692789129173",
            "5480c0bc411b498ea37b958256f57afd",
            "3b714cb9a33641cf922a961ab6dae7fa",
            "97560ed8d6a34458af45367dc2fec804",
            "b5a8937602fd4077b7141eda33d5e027",
            "5e391dd95477455aac5d926342442071"
          ]
        }
      },
      "source": [
        "test_features = data['test_features']\n",
        "test_nodes = labels.keys()#[test_node_mapping[(k, 'PR')] for k in data['unique_test_prs']]\n",
        "preds = getPredictions(test_features, beta_Opt[0], ind2map, test_nodes)"
      ],
      "execution_count": 0,
      "outputs": [
        {
          "output_type": "stream",
          "text": [
            "/usr/local/lib/python3.6/dist-packages/scipy/sparse/_index.py:126: SparseEfficiencyWarning: Changing the sparsity structure of a csr_matrix is expensive. lil_matrix is more efficient.\n",
            "  self._set_arrayXarray(i, j, x)\n"
          ],
          "name": "stderr"
        },
        {
          "output_type": "display_data",
          "data": {
            "application/vnd.jupyter.widget-view+json": {
              "model_id": "4835ee3752d440eaa08a999b132716da",
              "version_minor": 0,
              "version_major": 2
            },
            "text/plain": [
              "HBox(children=(IntProgress(value=1, bar_style='info', max=1), HTML(value='')))"
            ]
          },
          "metadata": {
            "tags": []
          }
        }
      ]
    },
    {
      "cell_type": "code",
      "metadata": {
        "id": "sY6zK--kVnoy",
        "colab_type": "code",
        "colab": {}
      },
      "source": [
        "for i in preds:\n",
        "  preds[i] = sorted(preds[i], reverse = True)"
      ],
      "execution_count": 0,
      "outputs": []
    },
    {
      "cell_type": "markdown",
      "metadata": {
        "id": "sgU6Kh3pVrpL",
        "colab_type": "text"
      },
      "source": [
        ""
      ]
    },
    {
      "cell_type": "code",
      "metadata": {
        "id": "-GcjBGeWFMEd",
        "colab_type": "code",
        "outputId": "9941bed0-7874-4195-f294-ea411d736883",
        "colab": {
          "base_uri": "https://localhost:8080/",
          "height": 53
        }
      },
      "source": [
        "preds.keys()"
      ],
      "execution_count": 0,
      "outputs": [
        {
          "output_type": "execute_result",
          "data": {
            "text/plain": [
              "dict_keys([65537, 65545, 65549, 65550, 65554, 65556, 65558, 65561, 65563, 65571, 65572, 65576, 65584, 65591, 65593, 65594, 65599, 65606, 65615, 65631, 65632, 65635, 65636, 65649, 65652, 65656, 65667, 65676, 65682, 65683, 65684, 65689, 65690, 65707, 65714, 65717, 65723, 65730, 65739, 65742, 65745, 65747, 65762, 65763, 65767, 65769, 65779, 65782, 65788, 65793, 65799, 65803, 65807, 65821, 65823, 65829, 65830, 65844, 65846, 65849, 65858, 65862, 65873, 65880, 65882, 65884, 65891, 65893, 65899, 65900, 65904, 65906, 65915, 65916, 65931, 65941, 65948, 65959, 65984, 65985, 65992, 65998, 66000, 66003, 66009, 66011, 66012, 66023, 66028, 66034, 66035, 66039, 66041, 66055, 66058, 66059, 66066, 66077, 66082, 66083, 66084, 66085, 66092, 66097, 66102, 66105, 66115, 66116, 66118, 66123, 66127, 66152, 66156, 66169, 66175, 66177, 66182, 66185, 66190, 66193, 66196, 66201, 66208, 66209, 66213, 66218, 66219, 66224, 66225, 66233, 66246, 66249, 66251, 66252, 66257, 66260, 66262, 66264, 66270, 66272, 66282, 66291, 66305, 66308, 66322, 66332, 66334, 66369, 66372, 66386, 66391, 66394, 66409, 66410, 66411, 66419, 66425, 66427, 66442, 66459, 66464, 66466, 66479, 66480, 66484, 66485, 66499, 66501, 66503, 66507, 66512, 66514, 66515, 66516, 66520, 66534, 66535, 66548, 66553, 66577, 66579, 66580, 66581, 66587, 66589, 66590, 66599, 66617, 66623, 66624, 66634, 66643, 66645, 66652, 66657, 66658, 66665, 66666, 66684, 66686, 66690, 66692, 66695, 66698, 66704, 66717, 66718, 66722, 66733, 66740, 66741, 66759, 66779, 66786, 66798, 66799, 66818, 66823, 66830, 66832, 66835, 66839, 66840, 66850, 66854, 66855, 66856, 66860, 66863, 66864, 66866, 66871, 66872, 66873, 66877, 66882, 66883, 66888, 66895, 66906, 66916, 66920, 66923, 66930, 66931, 66932, 66934, 66937, 66938, 66940, 66941, 66942, 66953, 66960, 66963, 66968, 66971, 66982, 66984, 66987, 66990, 66993, 66996, 67000, 67009, 67011, 67015, 67016, 67021, 67025, 67026, 67031, 67032, 67035, 67048, 67060, 67061, 67062, 67069, 67087, 67088, 67090, 67093, 67106, 67121, 67133, 67136, 67139, 67144, 67145, 67148, 67154, 67157, 67182, 67194, 67205, 67207, 67211, 67223, 67240, 67241, 67252, 67253, 67255, 67256, 67257, 67258, 67263, 67277, 67280, 67288, 67291, 67297, 67298, 67301, 67308, 67315, 67317, 67318, 67319, 67320, 67323, 67325, 67331, 67337, 67349, 67351, 67356, 67359, 67360, 67362, 67365, 67370, 67372, 67375, 67377, 67380, 67381, 67383, 67385, 67391, 67392, 67397, 67404, 67406, 67419, 67422, 67430, 67433, 67434, 67435, 67441, 67448, 67460, 67463, 67465, 67469, 67476, 67495, 67497, 67504, 67508, 67511, 67513, 67520, 67521, 67530, 67543, 67545, 67547, 67548, 67550, 67552, 67555, 67556, 67557, 67562, 67569, 67573, 67574, 67578, 67583, 67586, 67594, 67596, 67608, 67616, 67622, 67629, 67635, 67649, 67653, 67655, 67658, 67666, 67672, 67677, 67678, 67684, 67686, 67687, 67688, 67690, 67708, 67709, 67716, 67731, 67734, 67739, 67742, 67744, 67745, 67746, 67747, 67753, 67754, 67756, 67778, 67781, 67782, 67791, 67793, 67794, 67795, 67798, 67802, 67803, 67812, 67818, 67824, 67825, 67829, 67831, 67842, 67846, 67847, 67851, 67870, 67884, 67898, 67899, 67901, 67909, 67910, 67911, 67912, 67919, 67927, 67934, 67944, 67945, 67950, 67955, 67971, 67977, 67978, 67980, 67982, 67997, 67998, 68001, 68008, 68015, 68023, 68025, 68037, 68041, 68047, 68048, 68054, 68056, 68058, 68063, 68068, 68074, 68075, 68076, 68077, 68080, 68084, 68087, 68088, 68089, 68090, 68096, 68113, 68122, 68124, 68131, 68134, 68135, 68141, 68147, 68150, 68151, 68154, 68157, 68159, 68173, 68181, 68188, 68195, 68196, 68200, 68212, 68228, 68229, 68232, 68233, 68236, 68239, 68241, 68253, 68255, 68259, 68266, 68267, 68268, 68272, 68275, 68283, 68289, 68296, 68297, 68300, 68318, 68345, 68353, 68363, 68379, 68381, 68386, 68388, 68393, 68402, 68403, 68405, 68406, 68408, 68409, 68411, 68414, 68417, 68426, 68428, 68429, 68430, 68435, 68440, 68442, 68450, 68452, 68459, 68481, 68483, 68484, 68485, 68492, 68494, 68495, 68497, 68516, 68519, 68520, 68525, 68530, 68536, 68538, 68545, 68557, 68559, 68562, 68563, 68565, 68566, 68569, 68575, 68576, 68579, 68581, 68584, 68585, 68594, 68597, 68599, 68601, 68615, 68621, 68625, 68626, 68629, 68632, 68633, 68635, 68642, 68649, 68657, 68664, 68668, 68673, 68674, 68678, 68681, 68683, 68697, 68699, 68702, 68706, 68724, 68728, 68741, 68745, 68749, 68752, 68754, 68759, 68760, 68764, 68767, 68774, 68777, 68780, 68789, 68793, 68795, 68799, 68802, 68803, 68812, 68821, 68822, 68836, 68847, 68850, 68859, 68873, 68879, 68881, 68886, 68887, 68890, 68896, 68898, 68900, 68902, 68910, 68920, 68922, 68938, 68942, 68943, 68949, 68968, 68977, 68982, 68984, 68994, 69002, 69003, 69013, 69018, 69020, 69027, 69029, 69033, 69035, 69043, 69050, 69055, 69057, 69059, 69062, 69080, 69084, 69092, 69105, 69108, 69111, 69120, 69127, 69130, 69131, 69133, 69135, 69140, 69152, 69167, 69171, 69176, 69185, 69186, 69187, 69192, 69207, 69209, 69212, 69215, 69225, 69232, 69239, 69241, 69246, 69249, 69251, 69252, 69266, 69269, 69272, 69273, 69289, 69291, 69297, 69303, 69308, 69310, 69313, 69315, 69316, 69320, 69321, 69322, 69330, 69331, 69333, 69340, 69344, 69349, 69354, 69359, 69366, 69368, 69371, 69386, 69388, 69389, 69395, 69412, 69415, 69427, 69430, 69432, 69437, 69441, 69449, 69462, 69470, 69484, 69486, 69495, 69501, 69516, 69525, 69529, 69536, 69551, 69552, 69554, 69566, 69582, 69583, 69589, 69591, 69593, 69598, 69611, 69617, 69622, 69623, 69627, 69636, 69641, 69648, 69655, 69662, 69663, 69666, 69670, 69675, 69677, 69684, 69685, 69690, 69691, 69698, 69701, 69702, 69704, 69708, 69716, 69718, 69730, 69737, 69739, 69747, 69750, 69753, 69755, 69756, 69758, 69760, 69765, 69790, 69796, 69806, 69812, 69813, 69814, 69817, 69820, 69821, 69830, 69832, 69834, 69837, 69848, 69863, 69868, 69870, 69878, 69883, 69890, 69898, 69899, 69902, 69916, 69929, 69930, 69935, 69937, 69940, 69958, 69960, 69969, 69976, 69977, 69984, 69995, 70006, 70018, 70021, 70024, 70025, 70028, 70031, 70034, 70035, 70038, 70039, 70042, 70045, 70049, 70051, 70053, 70056, 70059, 70080, 70081, 70085, 70087, 70092, 70107, 70109, 70136, 70138, 70141, 70144, 70154, 70157, 70164, 70166, 70168, 70170, 70174, 70199, 70204, 70205, 70209, 70210, 70211, 70213, 70216, 70217, 70225, 70227, 70230, 70243, 70245, 70265, 70276, 70277, 70291, 70299, 70315, 70344, 70355, 70362, 70367, 70369, 70370, 70389, 70408, 70409, 70426, 70430, 70431, 70440, 70441, 70449, 70457, 70461, 70466, 70476, 70477, 70480, 70494, 70508, 70515, 70520, 70533, 70534, 70553, 70555, 70556, 70558, 70559, 70578, 70589, 70598, 70600, 70603, 70606, 70608, 70620, 70626, 70633, 70646, 70663, 70670, 70675, 70676, 70678, 70682, 70683, 70688, 70691, 70692, 70696, 70710, 70718, 70734, 70736, 70746, 70755, 70757, 70761, 70764, 70766, 70770, 70775, 70778, 70780, 70793, 70800, 70809, 70811, 70821, 70823, 70824, 70826, 70828, 70842, 70856, 70858, 70862, 70866, 70868, 70874, 70875, 70876, 70883, 70884, 70886, 70891, 70893, 70901, 70902, 70903, 70941, 70950, 70953, 70954, 70959, 70967, 70968, 70983, 70987, 70989, 70992, 70994, 70998, 70999, 71007, 71008, 71011, 71020, 71039, 71047, 71054, 71058, 71063, 71068, 71069, 71074, 71081, 71094, 71095, 71100, 71117, 71124, 71135, 71145, 71149, 71152, 71156, 71158, 71173, 71174, 71176, 71179, 71206, 71208, 71212, 71223, 71225, 71227, 71235, 71241, 71242, 71245, 71272, 71300, 71314, 71315, 71318, 71322, 71323, 71325, 71336, 71346, 71370, 71372, 71380, 71384, 71399, 71412, 71428, 71431, 71432, 71440, 71442, 71443, 71445, 71449, 71467, 71471, 71475, 71483, 71488, 71509, 71512, 71540, 71544, 71550, 71551, 71553, 71558, 71559, 71573, 71581, 71589, 71615, 71617, 71629, 71634, 71650, 71675, 71686, 71710, 71717, 71720, 71721, 71723, 71731, 71739, 71757, 71802, 71846, 71855, 71868, 71875, 71885, 71893, 71896, 71918, 71924, 71946, 71955, 71978, 72006, 72011, 72028, 72038, 72042, 72049, 72059, 72062, 72071, 72114, 72118, 72133, 72140, 72143, 72145, 72153, 72176, 72190, 72221, 72255, 72285, 72291, 72384, 64592, 64597, 64598, 64601, 64607, 64610, 64611, 64621, 64624, 64630, 64631, 64636, 64640, 64643, 64644, 64646, 64648, 64654, 64660, 64661, 64662, 64663, 64664, 64666, 64670, 64674, 64675, 64680, 64684, 64688, 64696, 64705, 64709, 64717, 64718, 64727, 64731, 64732, 64738, 64741, 64746, 64749, 64752, 64758, 64761, 64766, 64768, 64777, 64782, 64795, 64796, 64798, 64803, 64812, 64815, 64820, 64829, 64836, 64838, 64839, 64842, 64860, 64862, 64877, 64892, 64896, 64907, 64910, 64916, 64919, 64929, 64930, 64931, 64934, 64954, 64955, 64968, 64969, 64971, 64973, 64976, 64987, 64988, 64996, 64999, 65002, 65009, 65022, 65027, 65034, 65035, 65041, 65049, 65054, 65059, 65063, 65064, 65070, 65074, 65075, 65087, 65092, 65100, 65102, 65105, 65124, 65135, 65147, 65152, 65154, 65156, 65157, 65164, 65176, 65188, 65193, 65198, 65199, 65202, 65206, 65216, 65226, 65234, 65238, 65247, 65250, 65251, 65254, 65256, 65291, 65296, 65298, 65306, 65309, 65330, 65331, 65334, 65338, 65343, 65350, 65357, 65379, 65382, 65384, 65385, 65389, 65394, 65395, 65396, 65407, 65416, 65420, 65433, 65440, 65446, 65454, 65472, 65480, 65482, 65485, 65491, 65495, 65499, 65503, 65509, 65510, 65511, 65527, 65528, 65531, 65533])"
            ]
          },
          "metadata": {
            "tags": []
          },
          "execution_count": 161
        }
      ]
    },
    {
      "cell_type": "code",
      "metadata": {
        "id": "74WuFVwfmETr",
        "colab_type": "code",
        "outputId": "d4efb40e-c4da-42ec-a20f-43428f624d7d",
        "colab": {
          "base_uri": "https://localhost:8080/",
          "height": 196
        }
      },
      "source": [
        "iter = 0\n",
        "for pr_id, pred in preds.items():\n",
        "    print([cand for score, cand in sorted(pred, key=lambda x: x[0], reverse=True)][:10])\n",
        "    if iter == 10:\n",
        "        break\n",
        "    iter += 1"
      ],
      "execution_count": 0,
      "outputs": [
        {
          "output_type": "stream",
          "text": [
            "[2745300, 26879063, 1891250, 331852, 24448061, 16105680, 980082, 18107181, 8681801, 10052848]\n",
            "[16105680, 7711875, 980082, 12049380, 408385, 331852, 730123, 1701782, 8944180, 23304]\n",
            "[278, 24448061, 1745006, 1689416, 980082, 5459214, 10052848, 331852, 16105680, 22652369]\n",
            "[8739301, 2090881, 30171, 7813699, 980082, 16105680, 331852, 18107181, 14308438, 1796778]\n",
            "[5442475, 98927, 331852, 169553, 5013060, 23304, 980082, 730123, 30410021, 1117321]\n",
            "[20979322, 1332699, 837034, 4760200, 8681801, 331852, 5595220, 174200, 35932340, 10524058]\n",
            "[8225098, 1929644, 980082, 7387162, 647318, 12049380, 31416425, 730123, 331852, 3902875]\n",
            "[18107181, 3262098, 980082, 14308438, 331852, 10524058, 23304, 676637, 24448061, 16105680]\n",
            "[23304, 224224, 331852, 980082, 1745006, 169553, 1163175, 16105680, 952828, 49258]\n",
            "[408385, 8944180, 7711875, 980082, 331852, 16105680, 12049380, 23304, 730123, 18107181]\n",
            "[12049380, 31416425, 1555564, 980082, 331852, 730123, 16105680, 647318, 8225098, 1929644]\n"
          ],
          "name": "stdout"
        }
      ]
    },
    {
      "cell_type": "code",
      "metadata": {
        "id": "U7rP8D2Jahyc",
        "colab_type": "code",
        "outputId": "139a95ce-dded-4982-961e-8e7d0ae753a4",
        "colab": {
          "base_uri": "https://localhost:8080/",
          "height": 342
        }
      },
      "source": [
        "preds[65549][:20]"
      ],
      "execution_count": 0,
      "outputs": [
        {
          "output_type": "execute_result",
          "data": {
            "text/plain": [
              "[(0.08125131775493746, 278),\n",
              " (0.07422944389743852, 24448061),\n",
              " (0.06581299436797208, 1745006),\n",
              " (0.04983323936111244, 1689416),\n",
              " (0.012086341696137773, 980082),\n",
              " (0.011344298300236304, 5459214),\n",
              " (0.009768653475588895, 10052848),\n",
              " (0.00727034209828323, 331852),\n",
              " (0.00533498475692792, 16105680),\n",
              " (0.004835037642374914, 22652369),\n",
              " (0.004519825233976234, 4178417),\n",
              " (0.004431546888017968, 676637),\n",
              " (0.004152826862351777, 23304),\n",
              " (0.004025463275423232, 1286651),\n",
              " (0.0037880187349683715, 36450643),\n",
              " (0.0033967289160559398, 20229685),\n",
              " (0.0031880669300750524, 91730),\n",
              " (0.0031050009680804506, 7901030),\n",
              " (0.002382421176776201, 647318),\n",
              " (0.00229993897099038, 22076)]"
            ]
          },
          "metadata": {
            "tags": []
          },
          "execution_count": 193
        }
      ]
    },
    {
      "cell_type": "code",
      "metadata": {
        "id": "CnzOL78JauVu",
        "colab_type": "code",
        "colab": {}
      },
      "source": [
        "new_labels = {}\n",
        "for k in labels:\n",
        "  new_id = ind2map['PR'][k]\n",
        "  new_labels[new_id] = [ind2map['User'][ind] for ind in labels[k]]\n"
      ],
      "execution_count": 0,
      "outputs": []
    },
    {
      "cell_type": "code",
      "metadata": {
        "id": "YDhWCguzanM-",
        "colab_type": "code",
        "outputId": "4f00497d-e2ae-44f8-e210-0895359ca61d",
        "colab": {
          "base_uri": "https://localhost:8080/",
          "height": 33
        }
      },
      "source": [
        "new_labels[65558]"
      ],
      "execution_count": 0,
      "outputs": [
        {
          "output_type": "execute_result",
          "data": {
            "text/plain": [
              "[31416425, 730123]"
            ]
          },
          "metadata": {
            "tags": []
          },
          "execution_count": 177
        }
      ]
    },
    {
      "cell_type": "code",
      "metadata": {
        "id": "GN2Pppu0X2Gj",
        "colab_type": "code",
        "outputId": "32ecee2e-5222-452a-cfae-f029b2789c21",
        "colab": {
          "base_uri": "https://localhost:8080/",
          "height": 53
        }
      },
      "source": [
        "test_nodes = [test_node_mapping[(k, 'PR')] for k in data['unique_test_prs']]\n",
        "print(sorted(test_nodes))"
      ],
      "execution_count": 0,
      "outputs": [
        {
          "output_type": "stream",
          "text": [
            "[0, 1, 2, 3, 4, 5, 6, 7, 8, 9, 10, 11, 12, 13, 14, 15, 16, 17, 18, 19, 20, 21, 22, 23, 24, 25, 26, 27, 28, 29, 30, 31, 32, 33, 34, 35, 36, 37, 38, 39, 40, 41, 42, 43, 44, 45, 46, 47, 48, 49, 50, 51, 52, 53, 54, 55, 56, 57, 58, 59, 60, 61, 62, 63, 64, 65, 66, 67, 68, 69, 70, 71, 72, 73, 74, 75, 76, 77, 78, 79, 80, 81, 82, 83, 84, 85, 86, 87, 88, 89, 90, 91, 92, 93, 94, 95, 96, 97, 98, 99, 100, 101, 102, 103, 104, 105, 106, 107, 108, 109, 110, 111, 112, 113, 114, 115, 116, 117, 118, 119, 120, 121, 122, 123, 124, 125, 126, 127, 128, 129, 130, 131, 132, 133, 134, 135, 136, 137, 138, 139, 140, 141, 142, 143, 144, 145, 146, 147, 148, 149, 150, 151, 152, 153, 154, 155, 156, 157, 158, 159, 160, 161, 162, 163, 164, 165, 166, 167, 168, 169, 170, 171, 172, 173, 174, 175, 176, 177, 178, 179, 180, 181, 182, 183, 184, 185, 186, 187, 188, 189, 190, 191, 192, 193, 194, 195, 196, 197, 198, 199, 200, 201, 202, 203, 204, 205, 206, 207, 208, 209, 210, 211, 212, 213, 214, 215, 216, 217, 218, 219, 220, 221, 222, 223, 224, 225, 226, 227, 228, 229, 230, 231, 232, 233, 234, 235, 236, 237, 238, 239, 240, 241, 242, 243, 244, 245, 246, 247, 248, 249, 250, 251, 252, 253, 254, 255, 256, 257, 258, 259, 260, 261, 262, 263, 264, 265, 266, 267, 268, 269, 270, 271, 272, 273, 274, 275, 276, 277, 278, 279, 280, 281, 282, 283, 284, 285, 286, 287, 288, 289, 290, 291, 292, 293, 294, 295, 296, 297, 298, 299, 300, 301, 302, 303, 304, 305, 306, 307, 308, 309, 310, 311, 312, 313, 314, 315, 316, 317, 318, 319, 320, 321, 322, 323, 324, 325, 326, 327, 328, 329, 330, 331, 332, 333, 334, 335, 336, 337, 338, 339, 340, 341, 342, 343, 344, 345, 346, 347, 348, 349, 350, 351, 352, 353, 354, 355, 356, 357, 358, 359, 360, 361, 362, 363, 364, 365, 366, 367, 368, 369, 370, 371, 372, 373, 374, 375, 376, 377, 378, 379, 380, 381, 382, 383, 384, 385, 386, 387, 388, 389, 390, 391, 392, 393, 394, 395, 396, 397, 398, 399, 400, 401, 402, 403, 404, 405, 406, 407, 408, 409, 410, 411, 412, 413, 414, 415, 416, 417, 418, 419, 420, 421, 422, 423, 424, 425, 426, 427, 428, 429, 430, 431, 432, 433, 434, 435, 436, 437, 438, 439, 440, 441, 442, 443, 444, 445, 446, 447, 448, 449, 450, 451, 452, 453, 454, 455, 456, 457, 458, 459, 460, 461, 462, 463, 464, 465, 466, 467, 468, 469, 470, 471, 472, 473, 474, 475, 476, 477, 478, 479, 480, 481, 482, 483, 484, 485, 486, 487, 488, 489, 490, 491, 492, 493, 494, 495, 496, 497, 498, 499, 500, 501, 502, 503, 504, 505, 506, 507, 508, 509, 510, 511, 512, 513, 514, 515, 516, 517, 518, 519, 520, 521, 522, 523, 524, 525, 526, 527, 528, 529, 530, 531, 532, 533, 534, 535, 536, 537, 538, 539, 540, 541, 542, 543, 544, 545, 546, 547, 548, 549, 550, 551, 552, 553, 554, 555, 556, 557, 558, 559, 560, 561, 562, 563, 564, 565, 566, 567, 568, 569, 570, 571, 572, 573, 574, 575, 576, 577, 578, 579, 580, 581, 582, 583, 584, 585, 586, 587, 588, 589, 590, 591, 592, 593, 594, 595, 596, 597, 598, 599, 600, 601, 602, 603, 604, 605, 606, 607, 608, 609, 610, 611, 612, 613, 614, 615, 616, 617, 618, 619, 620, 621, 622, 623, 624, 625, 626, 627, 628, 629, 630, 631, 632, 633, 634, 635, 636, 637, 638, 639, 640, 641, 642, 643, 644, 645, 646, 647, 648, 649, 650, 651, 652, 653, 654, 655, 656, 657, 658, 659, 660, 661, 662, 663, 664, 665, 666, 667, 668, 669, 670, 671, 672, 673, 674, 675, 676, 677, 678, 679, 680, 681, 682, 683, 684, 685, 686, 687, 688, 689, 690, 691, 692, 693, 694, 695, 696, 697, 698, 699, 700, 701, 702, 703, 704, 705, 706, 707, 708, 709, 710, 711, 712, 713, 714, 715, 716, 717, 718, 719, 720, 721, 722, 723, 724, 725, 726, 727, 728, 729, 730, 731, 732, 733, 734, 735, 736, 737, 738, 739, 740, 741, 742, 743, 744, 745, 746, 747, 748, 749, 750, 751, 752, 753, 754, 755, 756, 757, 758, 759, 760, 761, 762, 763, 764, 765, 766, 767, 768, 769, 770, 771, 772, 773, 774, 775, 776, 777, 778, 779, 780, 781, 782, 783, 784, 785, 786, 787, 788, 789, 790, 791, 792, 793, 794, 795, 796, 797, 798, 799, 800, 801, 802, 803, 804, 805, 806, 807, 808, 809, 810, 811, 812, 813, 814, 815, 816, 817, 818, 819, 820, 821, 822, 823, 824, 825, 826, 827, 828, 829, 830, 831, 832, 833, 834, 835, 836, 837, 838, 839, 840, 841, 842, 843, 844, 845, 846, 847, 848, 849, 850, 851, 852, 853, 854, 855, 856, 857, 858, 859, 860, 861, 862, 863, 864, 865, 866, 867, 868, 869, 870, 871, 872, 873, 874, 875, 876, 877, 878, 879, 880, 881, 882, 883, 884, 885, 886, 887, 888, 889, 890, 891, 892, 893, 894, 895, 896, 897, 898, 899, 900, 901, 902, 903, 904, 905, 906, 907, 908, 909, 910, 911, 912, 913, 914, 915, 916, 917, 918, 919, 920, 921, 922, 923, 924, 925, 926, 927, 928, 929, 930, 931, 932, 933, 934, 935, 936, 937, 938, 939, 940, 941, 942, 943, 944, 945, 946, 947, 948, 949, 950, 951, 952, 953, 954, 955, 956, 957, 958, 959, 960, 961, 962, 963, 964, 965, 966, 967, 968, 969, 970, 971, 972, 973, 974, 975, 976, 977, 978, 979, 980, 981, 982, 983, 984, 985, 986, 987, 988, 989, 990, 991, 992, 993, 994, 995, 996, 997, 998, 999, 1000, 1001, 1002, 1003, 1004, 1005, 1006, 1007, 1008, 1009, 1010, 1011, 1012, 1013, 1014, 1015, 1016, 1017, 1018, 1019, 1020, 1021, 1022, 1023, 1024, 1025, 1026, 1027, 1028, 1029, 1030, 1031, 1032, 1033, 1034, 1035, 1036, 1037, 1038, 1039, 1040, 1041, 1042, 1043, 1044, 1045, 1046, 1047, 1048, 1049, 1050, 1051, 1052, 1053, 1054, 1055, 1056, 1057, 1058, 1059, 1060, 1061, 1062, 1063, 1064, 1065, 1066, 1067, 1068, 1069, 1070, 1071, 1072, 1073, 1074, 1075, 1076, 1077, 1078, 1079, 1080, 1081, 1082, 1083, 1084, 1085, 1086, 1087, 1088, 1089, 1090, 1091, 1092, 1093, 1094, 1095, 1096, 1097, 1098, 1099, 1100, 1101, 1102, 1103, 1104, 1105, 1106, 1107, 1108, 1109, 1110, 1111, 1112, 1113, 1114, 1115, 1116, 1117, 1118, 1119, 1120, 1121, 1122, 1123, 1124, 1125, 1126, 1127, 1128, 1129, 1130, 1131, 1132, 1133, 1134, 1135, 1136, 1137, 1138, 1139, 1140, 1141, 1142, 1143, 1144, 1145, 1146, 1147, 1148, 1149, 1150, 1151, 1152, 1153, 1154, 1155, 1156, 1157, 1158, 1159, 1160, 1161, 1162, 1163, 1164, 1165, 1166, 1167, 1168, 1169, 1170, 1171, 1172, 1173, 1174, 1175, 1176, 1177, 1178, 1179, 1180, 1181, 1182, 1183, 1184, 1185, 1186, 1187, 1188, 1189, 1190, 1191, 1192, 1193, 1194, 1195, 1196, 1197, 1198, 1199, 1200, 1201, 1202, 1203, 1204, 1205, 1206, 1207, 1208, 1209, 1210, 1211, 1212, 1213, 1214, 1215, 1216, 1217, 1218, 1219, 1220, 1221, 1222, 1223, 1224, 1225, 1226, 1227, 1228, 1229, 1230, 1231, 1232, 1233, 1234, 1235, 1236, 1237, 1238, 1239, 1240, 1241, 1242, 1243, 1244, 1245, 1246, 1247, 1248, 1249, 1250, 1251, 1252, 1253, 1254, 1255, 1256, 1257, 1258, 1259, 1260, 1261, 1262, 1263, 1264, 1265, 1266, 1267, 1268, 1269, 1270, 1271, 1272, 1273, 1274, 1275, 1276, 1277, 1278, 1279, 1280, 1281, 1282, 1283, 1284, 1285, 1286, 1287, 1288, 1289, 1290, 1291, 1292, 1293, 1294, 1295, 1296, 1297, 1298, 1299, 1300, 1301, 1302, 1303, 1304, 1305, 1306, 1307, 1308, 1309, 1310, 1311, 1312, 1313, 1314, 1315, 1316, 1317, 1318, 1319, 1320, 1321, 1322, 1323, 1324, 1325, 1326, 1327, 1328, 1329, 1330, 1331, 1332, 1333, 1334, 1335, 1336, 1337, 1338, 1339, 1340, 1341, 1342, 1343, 1344, 1345, 1346, 1347, 1348, 1349, 1350, 1351, 1352, 1353, 1354, 1355, 1356, 1357, 1358, 1359, 1360, 1361, 1362, 1363, 1364, 1365, 1366, 1367, 1368, 1369, 1370, 1371, 1372, 1373, 1374, 1375, 1376, 1377, 1378, 1379, 1380, 1381, 1382, 1383, 1384, 1385, 1386, 1387, 1388, 1389, 1390, 1391, 1392, 1393, 1394, 1395, 1396, 1397, 1398, 1399, 1400, 1401, 1402, 1403, 1404, 1405, 1406, 1407, 1408, 1409, 1410, 1411, 1412, 1413, 1414, 1415, 1416, 1417, 1418, 1419, 1420, 1421, 1422, 1423, 1424, 1425, 1426, 1427, 1428, 1429, 1430, 1431, 1432, 1433, 1434, 1435, 1436, 1437, 1438, 1439, 1440, 1441, 1442, 1443, 1444, 1445, 1446, 1447, 1448, 1449, 1450, 1451, 1452, 1453, 1454, 1455, 1456, 1457, 1458, 1459, 1460, 1461, 1462, 1463, 1464, 1465, 1466, 1467, 1468, 1469, 1470, 1471, 1472, 1473, 1474, 1475, 1476, 1477, 1478, 1479, 1480, 1481, 1482, 1483, 1484, 1485, 1486, 1487, 1488, 1489, 1490, 1491, 1492, 1493, 1494, 1495, 1496, 1497, 1498, 1499, 1500, 1501, 1502, 1503, 1504, 1505, 1506, 1507, 1508, 1509, 1510, 1511, 1512, 1513, 1514, 1515, 1516, 1517, 1518, 1519, 1520, 1521, 1522, 1523, 1524, 1525, 1526, 1527, 1528, 1529, 1530, 1531, 1532, 1533, 1534, 1535, 1536, 1537, 1538, 1539, 1540, 1541, 1542, 1543, 1544, 1545, 1546, 1547, 1548, 1549, 1550, 1551, 1552, 1553, 1554, 1555, 1556, 1557, 1558, 1559, 1560, 1561, 1562, 1563, 1564, 1565, 1566, 1567, 1568, 1569, 1570, 1571, 1572, 1573, 1574, 1575, 1576, 1577, 1578, 1579, 1580, 1581, 1582, 1583, 1584, 1585, 1586, 1587, 1588, 1589, 1590, 1591, 1592, 1593, 1594, 1595, 1596, 1597, 1598, 1599, 1600, 1601, 1602, 1603, 1604, 1605, 1606, 1607, 1608, 1609, 1610, 1611, 1612, 1613, 1614, 1615, 1616, 1617, 1618, 1619, 1620, 1621, 1622, 1623, 1624, 1625, 1626, 1627, 1628, 1629, 1630, 1631, 1632, 1633, 1634, 1635, 1636, 1637, 1638, 1639, 1640, 1641, 1642, 1643, 1644, 1645, 1646, 1647, 1648, 1649, 1650, 1651, 1652, 1653, 1654, 1655, 1656, 1657, 1658, 1659, 1660, 1661, 1662, 1663, 1664, 1665, 1666, 1667, 1668, 1669, 1670, 1671, 1672, 1673, 1674, 1675, 1676, 1677, 1678, 1679, 1680, 1681, 1682, 1683, 1684, 1685, 1686, 1687, 1688, 1689, 1690, 1691, 1692, 1693, 1694, 1695, 1696, 1697, 1698, 1699, 1700, 1701, 1702, 1703, 1704, 1705, 1706, 1707, 1708, 1709, 1710, 1711, 1712, 1713, 1714, 1715, 1716, 1717, 1718, 1719, 1720, 1721, 1722, 1723, 1724, 1725, 1726, 1727, 1728, 1729, 1730, 1731, 1732, 1733, 1734, 1735, 1736, 1737, 1738, 1739, 1740, 1741, 1742, 1743, 1744, 1745, 1746, 1747, 1748, 1749, 1750, 1751, 1752, 1753, 1754, 1755, 1756, 1757, 1758, 1759, 1760, 1761, 1762, 1763, 1764, 1765, 1766, 1767, 1768, 1769, 1770, 1771, 1772, 1773, 1774, 1775, 1776, 1777, 1778, 1779, 1780, 1781, 1782, 1783, 1784, 1785, 1786, 1787, 1788, 1789, 1790, 1791, 1792, 1793, 1794, 1795, 1796, 1797, 1798, 1799, 1800, 1801, 1802, 1803, 1804, 1805, 1806, 1807, 1808, 1809, 1810, 1811, 1812, 1813, 1814, 1815, 1816, 1817, 1818, 1819, 1820, 1821, 1822, 1823, 1824, 1825, 1826, 1827, 1828, 1829, 1830, 1831, 1832, 1833, 1834, 1835, 1836, 1837, 1838, 1839, 1840, 1841, 1842, 1843, 1844, 1845, 1846, 1847, 1848, 1849, 1850, 1851, 1852, 1853, 1854, 1855, 1856, 1857, 1858, 1859, 1860, 1861, 1862, 1863, 1864, 1865, 1866, 1867, 1868, 1869, 1870, 1871, 1872, 1873, 1874, 1875, 1876, 1877, 1878, 1879, 1880, 1881, 1882, 1883, 1884, 1885, 1886, 1887, 1888, 1889, 1890, 1891, 1892, 1893, 1894, 1895, 1896, 1897, 1898, 1899, 1900, 1901, 1902, 1903, 1904, 1905, 1906, 1907, 1908, 1909, 1910, 1911, 1912, 1913, 1914, 1915, 1916, 1917, 1918, 1919, 1920, 1921, 1922, 1923, 1924, 1925, 1926, 1927, 1928, 1929, 1930, 1931, 1932, 1933, 1934, 1935, 1936, 1937, 1938, 1939, 1940, 1941, 1942, 1943, 1944, 1945, 1946, 1947, 1948, 1949, 1950, 1951, 1952, 1953, 1954, 1955, 1956, 1957, 1958, 1959, 1960, 1961, 1962, 1963, 1964, 1965, 1966, 1967, 1968, 1969, 1970, 1971, 1972, 1973, 1974, 1975, 1976, 1977, 1978, 1979, 1980, 1981, 1982, 1983, 1984, 1985, 1986, 1987, 1988, 1989, 1990, 1991, 1992, 1993, 1994, 1995, 1996, 1997, 1998, 1999, 2000, 2001, 2002, 2003, 2004, 2005, 2006, 2007, 2008, 2009, 2010, 2011, 2012, 2013, 2014, 2015, 2016, 2017, 2018, 2019, 2020, 2021, 2022, 2023, 2024, 2025, 2026, 2027, 2028, 2029, 2030, 2031, 2032, 2033, 2034, 2035, 2036, 2037, 2038, 2039, 2040, 2041, 2042, 2043, 2044, 2045, 2046, 2047, 2048, 2049, 2050, 2051, 2052, 2053, 2054, 2055, 2056, 2057, 2058, 2059, 2060, 2061, 2062, 2063, 2064, 2065, 2066, 2067, 2068, 2069, 2070, 2071, 2072, 2073, 2074, 2075, 2076, 2077, 2078, 2079, 2080, 2081, 2082, 2083, 2084, 2085, 2086, 2087, 2088, 2089, 2090, 2091, 2092, 2093, 2094, 2095, 2096, 2097, 2098, 2099, 2100, 2101, 2102, 2103, 2104, 2105, 2106, 2107, 2108, 2109, 2110, 2111, 2112, 2113, 2114, 2115, 2116, 2117, 2118, 2119, 2120, 2121, 2122, 2123, 2124, 2125, 2126, 2127, 2128, 2129, 2130, 2131, 2132, 2133, 2134, 2135, 2136, 2137, 2138, 2139, 2140, 2141, 2142, 2143, 2144, 2145, 2146, 2147, 2148, 2149, 2150, 2151, 2152, 2153, 2154, 2155, 2156, 2157, 2158, 2159, 2160, 2161, 2162, 2163, 2164, 2165, 2166, 2167, 2168, 2169, 2170, 2171, 2172, 2173, 2174, 2175, 2176, 2177, 2178, 2179, 2180, 2181, 2182, 2183, 2184, 2185, 2186, 2187, 2188, 2189, 2190, 2191, 2192, 2193, 2194, 2195, 2196, 2197, 2198, 2199, 2200, 2201, 2202, 2203, 2204, 2205, 2206, 2207, 2208, 2209, 2210, 2211, 2212, 2213, 2214, 2215, 2216, 2217, 2218, 2219, 2220, 2221, 2222, 2223, 2224, 2225, 2226, 2227, 2228, 2229, 2230, 2231, 2232, 2233, 2234, 2235, 2236, 2237, 2238, 2239, 2240, 2241, 2242, 2243, 2244, 2245, 2246, 2247, 2248, 2249, 2250, 2251, 2252, 2253, 2254, 2255, 2256, 2257, 2258, 2259, 2260, 2261, 2262, 2263, 2264, 2265, 2266, 2267, 2268, 2269, 2270, 2271, 2272, 2273, 2274, 2275, 2276, 2277, 2278, 2279, 2280, 2281, 2282, 2283, 2284, 2285, 2286, 2287, 2288, 2289, 2290, 2291, 2292, 2293, 2294, 2295, 2296, 2297, 2298, 2299, 2300, 2301, 2302, 2303, 2304, 2305, 2306, 2307, 2308, 2309, 2310, 2311, 2312, 2313, 2314, 2315, 2316, 2317, 2318, 2319, 2320, 2321, 2322, 2323, 2324, 2325, 2326, 2327, 2328, 2329, 2330, 2331, 2332, 2333, 2334, 2335, 2336, 2337, 2338, 2339, 2340, 2341, 2342, 2343, 2344, 2345, 2346, 2347, 2348, 2349, 2350, 2351, 2352, 2353, 2354, 2355, 2356, 2357, 2358, 2359, 2360, 2361, 2362, 2363, 2364, 2365, 2366, 2367, 2368, 2369, 2370, 2371, 2372, 2373, 2374, 2375, 2376, 2377, 2378, 2379, 2380, 2381, 2382, 2383, 2384, 2385, 2386, 2387, 2388, 2389, 2390, 2391, 2392, 2393, 2394, 2395, 2396, 2397, 2398, 2399, 2400, 2401, 2402, 2403, 2404, 2405, 2406, 2407, 2408, 2409, 2410, 2411, 2412, 2413, 2414, 2415, 2416, 2417, 2418, 2419, 2420, 2421, 2422, 2423, 2424, 2425, 2426, 2427, 2428, 2429, 2430, 2431, 2432, 2433, 2434, 2435, 2436, 2437, 2438, 2439, 2440, 2441, 2442, 2443, 2444, 2445, 2446, 2447, 2448, 2449, 2450, 2451, 2452, 2453, 2454, 2455, 2456, 2457, 2458, 2459, 2460, 2461, 2462, 2463, 2464, 2465, 2466, 2467, 2468, 2469, 2470, 2471, 2472, 2473, 2474, 2475, 2476, 2477, 2478, 2479, 2480, 2481, 2482, 2483, 2484, 2485, 2486, 2487, 2488, 2489, 2490, 2491, 2492, 2493, 2494, 2495, 2496, 2497, 2498, 2499, 2500, 2501, 2502, 2503, 2504, 2505, 2506, 2507, 2508, 2509, 2510, 2511, 2512, 2513, 2514, 2515, 2516, 2517, 2518, 2519, 2520, 2521, 2522, 2523, 2524, 2525, 2526, 2527, 2528, 2529, 2530, 2531, 2532, 2533, 2534, 2535, 2536, 2537, 2538, 2539, 2540, 2541, 2542, 2543, 2544, 2545, 2546, 2547, 2548, 2549, 2550, 2551, 2552, 2553, 2554, 2555, 2556, 2557, 2558, 2559, 2560, 2561, 2562, 2563, 2564, 2565, 2566, 2567, 2568, 2569, 2570, 2571, 2572, 2573, 2574, 2575, 2576, 2577, 2578, 2579, 2580, 2581, 2582, 2583, 2584, 2585, 2586, 2587, 2588, 2589, 2590, 2591, 2592, 2593, 2594, 2595, 2596, 2597, 2598, 2599, 2600, 2601, 2602, 2603, 2604, 2605, 2606, 2607, 2608, 2609, 2610, 2611, 2612, 2613, 2614, 2615, 2616, 2617, 2618, 2619, 2620, 2621, 2622, 2623, 2624, 2625, 2626, 2627, 2628, 2629, 2630, 2631, 2632, 2633, 2634, 2635, 2636, 2637, 2638, 2639, 2640, 2641, 2642, 2643, 2644, 2645, 2646, 2647, 2648, 2649, 2650, 2651, 2652, 2653, 2654, 2655, 2656, 2657, 2658, 2659, 2660, 2661, 2662, 2663, 2664, 2665, 2666, 2667, 2668, 2669, 2670, 2671, 2672, 2673, 2674, 2675, 2676, 2677, 2678, 2679, 2680, 2681, 2682, 2683, 2684, 2685, 2686, 2687, 2688, 2689, 2690, 2691, 2692, 2693, 2694, 2695, 2696, 2697, 2698, 2699, 2700, 2701, 2702, 2703, 2704, 2705, 2706, 2707, 2708, 2709, 2710, 2711, 2712, 2713, 2714, 2715, 2716, 2717, 2718, 2719, 2720, 2721, 2722, 2723, 2724, 2725, 2726, 2727, 2728, 2729, 2730, 2731, 2732, 2733, 2734, 2735, 2736, 2737, 2738, 2739, 2740, 2741, 2742, 2743, 2744, 2745, 2746, 2747, 2748, 2749, 2750, 2751, 2752, 2753, 2754, 2755, 2756, 2757, 2758, 2759, 2760, 2761, 2762, 2763, 2764, 2765, 2766, 2767, 2768, 2769, 2770, 2771, 2772, 2773, 2774, 2775, 2776, 2777, 2778, 2779, 2780, 2781, 2782, 2783, 2784, 2785, 2786, 2787, 2788, 2789, 2790, 2791, 2792, 2793, 2794, 2795, 2796, 2797, 2798, 2799, 2800, 2801, 2802, 2803, 2804, 2805, 2806, 2807, 2808, 2809, 2810, 2811, 2812, 2813, 2814, 2815, 2816, 2817, 2818, 2819, 2820, 2821, 2822, 2823, 2824, 2825, 2826, 2827, 2828, 2829, 2830, 2831, 2832, 2833, 2834, 2835, 2836, 2837, 2838, 2839, 2840, 2841, 2842, 2843, 2844, 2845, 2846, 2847, 2848, 2849, 2850, 2851, 2852, 2853, 2854, 2855, 2856, 2857, 2858, 2859, 2860, 2861, 2862, 2863, 2864, 2865, 2866, 2867, 2868, 2869, 2870, 2871, 2872, 2873, 2874, 2875, 2876, 2877, 2878, 2879, 2880, 2881, 2882, 2883, 2884, 2885, 2886, 2887, 2888, 2889, 2890, 2891, 2892, 2893, 2894, 2895, 2896, 2897, 2898, 2899, 2900, 2901, 2902, 2903, 2904, 2905, 2906, 2907, 2908, 2909, 2910, 2911, 2912, 2913, 2914, 2915, 2916, 2917, 2918, 2919, 2920, 2921, 2922, 2923, 2924, 2925, 2926, 2927, 2928, 2929, 2930, 2931, 2932, 2933, 2934, 2935, 2936, 2937, 2938, 2939, 2940, 2941, 2942, 2943, 2944, 2945, 2946, 2947, 2948, 2949, 2950, 2951, 2952, 2953, 2954, 2955, 2956, 2957, 2958, 2959, 2960, 2961, 2962, 2963, 2964, 2965, 2966, 2967, 2968, 2969, 2970, 2971, 2972, 2973, 2974, 2975, 2976, 2977, 2978, 2979, 2980, 2981, 2982, 2983, 2984, 2985, 2986, 2987, 2988, 2989, 2990, 2991, 2992, 2993, 2994, 2995, 2996, 2997, 2998, 2999, 3000, 3001, 3002, 3003, 3004, 3005, 3006, 3007, 3008, 3009, 3010, 3011, 3012, 3013, 3014, 3015, 3016, 3017, 3018, 3019, 3020, 3021, 3022, 3023, 3024, 3025, 3026, 3027, 3028, 3029, 3030, 3031, 3032, 3033, 3034, 3035, 3036, 3037, 3038, 3039, 3040, 3041, 3042, 3043, 3044, 3045, 3046, 3047, 3048, 3049, 3050, 3051, 3052, 3053, 3054, 3055, 3056, 3057, 3058, 3059, 3060, 3061, 3062, 3063, 3064, 3065, 3066, 3067, 3068, 3069, 3070, 3071, 3072, 3073, 3074, 3075, 3076, 3077, 3078, 3079, 3080, 3081, 3082, 3083, 3084, 3085, 3086, 3087, 3088, 3089, 3090, 3091, 3092, 3093, 3094, 3095, 3096, 3097, 3098, 3099, 3100, 3101, 3102, 3103, 3104, 3105, 3106, 3107, 3108, 3109, 3110, 3111, 3112, 3113, 3114, 3115, 3116, 3117, 3118, 3119, 3120, 3121, 3122, 3123, 3124, 3125, 3126, 3127, 3128, 3129, 3130, 3131, 3132, 3133, 3134, 3135, 3136, 3137, 3138, 3139, 3140, 3141, 3142, 3143, 3144, 3145, 3146, 3147, 3148, 3149, 3150, 3151, 3152, 3153, 3154, 3155, 3156, 3157, 3158, 3159, 3160, 3161, 3162, 3163, 3164, 3165, 3166, 3167, 3168, 3169, 3170, 3171, 3172, 3173, 3174, 3175, 3176, 3177, 3178, 3179, 3180, 3181, 3182, 3183, 3184, 3185, 3186, 3187, 3188, 3189, 3190, 3191, 3192, 3193, 3194, 3195, 3196, 3197, 3198, 3199, 3200, 3201, 3202, 3203, 3204, 3205, 3206, 3207, 3208, 3209, 3210, 3211, 3212, 3213, 3214, 3215, 3216, 3217, 3218, 3219, 3220, 3221, 3222, 3223, 3224, 3225, 3226, 3227, 3228, 3229, 3230, 3231, 3232, 3233, 3234, 3235, 3236, 3237, 3238, 3239, 3240, 3241, 3242, 3243, 3244, 3245, 3246, 3247, 3248, 3249, 3250, 3251, 3252, 3253, 3254, 3255, 3256, 3257, 3258, 3259, 3260, 3261, 3262, 3263, 3264, 3265, 3266, 3267, 3268, 3269, 3270, 3271, 3272, 3273, 3274, 3275, 3276, 3277, 3278, 3279, 3280, 3281, 3282, 3283, 3284, 3285, 3286, 3287, 3288, 3289, 3290, 3291, 3292, 3293, 3294, 3295, 3296, 3297, 3298, 3299, 3300, 3301, 3302, 3303, 3304, 3305, 3306, 3307, 3308, 3309, 3310, 3311, 3312, 3313, 3314, 3315, 3316, 3317, 3318, 3319, 3320, 3321, 3322, 3323, 3324, 3325, 3326, 3327, 3328, 3329, 3330, 3331, 3332, 3333, 3334, 3335, 3336, 3337, 3338, 3339, 3340, 3341, 3342, 3343, 3344, 3345, 3346, 3347, 3348, 3349, 3350, 3351, 3352, 3353, 3354, 3355, 3356, 3357, 3358, 3359, 3360, 3361, 3362, 3363, 3364, 3365, 3366, 3367, 3368, 3369, 3370, 3371, 3372, 3373, 3374, 3375, 3376, 3377, 3378, 3379, 3380, 3381, 3382, 3383, 3384, 3385, 3386, 3387, 3388, 3389, 3390, 3391, 3392, 3393, 3394, 3395, 3396, 3397, 3398, 3399, 3400, 3401, 3402, 3403, 3404, 3405, 3406, 3407, 3408, 3409, 3410, 3411, 3412, 3413, 3414, 3415, 3416, 3417, 3418, 3419, 3420, 3421, 3422, 3423, 3424, 3425, 3426, 3427, 3428, 3429, 3430, 3431, 3432, 3433, 3434, 3435, 3436, 3437, 3438, 3439, 3440, 3441, 3442, 3443, 3444, 3445, 3446, 3447, 3448, 3449, 3450, 3451, 3452, 3453, 3454, 3455, 3456, 3457, 3458, 3459, 3460, 3461, 3462, 3463, 3464, 3465, 3466, 3467, 3468, 3469, 3470, 3471, 3472, 3473, 3474, 3475, 3476, 3477, 3478, 3479, 3480, 3481, 3482, 3483, 3484, 3485, 3486, 3487, 3488, 3489, 3490, 3491, 3492, 3493, 3494, 3495, 3496, 3497, 3498, 3499, 3500, 3501, 3502, 3503, 3504, 3505, 3506, 3507, 3508, 3509, 3510, 3511, 3512, 3513, 3514, 3515, 3516, 3517, 3518, 3519, 3520, 3521, 3522, 3523, 3524, 3525, 3526, 3527, 3528, 3529, 3530, 3531, 3532, 3533, 3534, 3535, 3536, 3537, 3538, 3539, 3540, 3541, 3542, 3543, 3544, 3545, 3546, 3547, 3548, 3549, 3550, 3551, 3552, 3553, 3554, 3555, 3556, 3557, 3558, 3559, 3560, 3561, 3562, 3563, 3564, 3565, 3566, 3567, 3568, 3569, 3570, 3571, 3572, 3573, 3574, 3575, 3576, 3577, 3578, 3579, 3580, 3581, 3582, 3583, 3584, 3585, 3586, 3587, 3588, 3589, 3590, 3591, 3592, 3593, 3594, 3595, 3596, 3597, 3598, 3599, 3600, 3601, 3602, 3603, 3604, 3605, 3606, 3607, 3608, 3609, 3610, 3611, 3612, 3613, 3614, 3615, 3616, 3617, 3618, 3619, 3620, 3621, 3622, 3623, 3624, 3625, 3626, 3627, 3628, 3629, 3630, 3631, 3632, 3633, 3634, 3635, 3636, 3637, 3638, 3639, 3640, 3641, 3642, 3643, 3644, 3645, 3646, 3647, 3648, 3649, 3650, 3651, 3652, 3653, 3654, 3655, 3656, 3657, 3658, 3659, 3660, 3661, 3662, 3663, 3664, 3665, 3666, 3667, 3668, 3669, 3670, 3671, 3672, 3673, 3674, 3675, 3676, 3677, 3678, 3679, 3680, 3681, 3682, 3683, 3684, 3685, 3686, 3687, 3688, 3689, 3690, 3691, 3692, 3693, 3694, 3695, 3696, 3697, 3698, 3699, 3700, 3701, 3702, 3703, 3704, 3705, 3706, 3707, 3708, 3709, 3710, 3711, 3712, 3713, 3714, 3715, 3716, 3717, 3718, 3719, 3720, 3721, 3722, 3723, 3724, 3725, 3726, 3727, 3728, 3729, 3730, 3731, 3732, 3733, 3734, 3735, 3736, 3737, 3738, 3739, 3740, 3741, 3742, 3743, 3744, 3745, 3746, 3747, 3748, 3749, 3750, 3751, 3752, 3753, 3754, 3755, 3756, 3757, 3758, 3759, 3760, 3761, 3762, 3763, 3764, 3765, 3766, 3767, 3768, 3769, 3770, 3771, 3772, 3773, 3774, 3775, 3776, 3777, 3778, 3779, 3780, 3781, 3782, 3783, 3784, 3785, 3786, 3787, 3788, 3789, 3790, 3791, 3792, 3793, 3794, 3795, 3796, 3797, 3798, 3799, 3800, 3801, 3802, 3803, 3804, 3805, 3806, 3807, 3808, 3809, 3810, 3811, 3812, 3813, 3814, 3815, 3816, 3817, 3818, 3819, 3820, 3821, 3822, 3823, 3824, 3825, 3826, 3827, 3828, 3829, 3830, 3831, 3832, 3833, 3834, 3835, 3836]\n"
          ],
          "name": "stdout"
        }
      ]
    },
    {
      "cell_type": "code",
      "metadata": {
        "id": "lyPOJNaNZoa_",
        "colab_type": "code",
        "outputId": "1ac7e8a1-215e-4bcc-cbce-5e5b2d232942",
        "colab": {
          "base_uri": "https://localhost:8080/",
          "height": 53
        }
      },
      "source": [
        "print(sorted(labels.keys()))"
      ],
      "execution_count": 0,
      "outputs": [
        {
          "output_type": "stream",
          "text": [
            "[0, 1, 3, 9, 11, 13, 18, 19, 21, 22, 27, 28, 32, 33, 34, 35, 36, 38, 39, 40, 41, 42, 43, 45, 46, 47, 49, 50, 51, 52, 53, 54, 57, 59, 60, 67, 69, 70, 71, 72, 74, 76, 77, 78, 83, 86, 87, 88, 89, 90, 91, 93, 94, 98, 99, 102, 104, 105, 107, 110, 113, 114, 115, 116, 117, 121, 122, 124, 125, 126, 129, 131, 134, 136, 137, 141, 143, 145, 146, 148, 150, 151, 153, 156, 158, 159, 162, 163, 164, 165, 166, 168, 169, 170, 172, 174, 178, 179, 183, 184, 185, 186, 187, 189, 192, 193, 194, 196, 197, 198, 199, 200, 201, 202, 204, 205, 208, 209, 211, 212, 213, 214, 215, 216, 217, 219, 220, 222, 227, 228, 230, 231, 232, 237, 241, 242, 243, 244, 249, 250, 251, 253, 254, 255, 256, 259, 260, 264, 266, 267, 269, 271, 274, 276, 278, 279, 280, 281, 282, 283, 284, 285, 286, 288, 290, 299, 301, 302, 303, 304, 307, 308, 310, 315, 316, 317, 319, 323, 325, 326, 327, 328, 329, 330, 331, 334, 335, 336, 338, 339, 340, 341, 344, 346, 347, 348, 350, 351, 352, 353, 354, 355, 356, 357, 358, 359, 360, 361, 365, 366, 369, 370, 371, 373, 374, 375, 376, 378, 386, 387, 389, 391, 392, 393, 398, 399, 400, 401, 403, 405, 406, 407, 408, 409, 411, 412, 413, 417, 418, 421, 422, 424, 425, 428, 431, 432, 435, 436, 437, 438, 443, 444, 445, 446, 447, 449, 453, 454, 455, 457, 458, 459, 460, 462, 463, 465, 466, 467, 468, 469, 471, 475, 476, 477, 479, 480, 481, 484, 485, 486, 487, 489, 490, 495, 496, 497, 498, 500, 501, 502, 503, 504, 505, 507, 508, 510, 511, 512, 513, 514, 516, 518, 519, 521, 522, 523, 524, 525, 526, 527, 532, 534, 535, 538, 539, 543, 545, 546, 547, 550, 555, 559, 562, 563, 568, 572, 573, 575, 579, 588, 589, 590, 593, 594, 595, 596, 597, 600, 601, 603, 604, 606, 608, 609, 610, 611, 614, 615, 620, 623, 625, 626, 628, 630, 631, 632, 633, 634, 635, 644, 645, 647, 648, 653, 654, 655, 656, 657, 659, 660, 661, 662, 664, 666, 667, 668, 669, 671, 672, 676, 679, 680, 685, 687, 689, 690, 691, 692, 694, 698, 699, 700, 701, 703, 704, 705, 706, 707, 710, 711, 713, 714, 715, 717, 721, 726, 727, 730, 733, 734, 735, 736, 738, 740, 754, 757, 759, 762, 764, 767, 769, 773, 774, 776, 777, 778, 782, 783, 787, 788, 790, 791, 796, 798, 802, 803, 805, 809, 812, 814, 815, 816, 817, 819, 820, 821, 823, 825, 831, 832, 833, 838, 843, 845, 846, 849, 851, 854, 855, 856, 857, 858, 860, 861, 862, 863, 865, 866, 869, 874, 875, 877, 880, 881, 882, 883, 885, 886, 887, 888, 890, 891, 892, 898, 902, 903, 904, 905, 906, 907, 910, 911, 917, 920, 923, 924, 926, 927, 928, 929, 930, 931, 933, 935, 939, 940, 941, 942, 943, 944, 945, 949, 952, 959, 960, 961, 963, 964, 965, 969, 972, 973, 974, 977, 978, 979, 980, 981, 983, 985, 987, 988, 991, 992, 994, 995, 997, 998, 999, 1008, 1009, 1010, 1011, 1015, 1018, 1019, 1021, 1024, 1025, 1026, 1027, 1029, 1031, 1035, 1037, 1044, 1045, 1047, 1048, 1049, 1052, 1053, 1054, 1055, 1056, 1058, 1059, 1061, 1064, 1066, 1070, 1071, 1075, 1076, 1078, 1079, 1082, 1083, 1086, 1087, 1089, 1090, 1091, 1094, 1095, 1098, 1100, 1101, 1102, 1105, 1106, 1108, 1116, 1119, 1120, 1121, 1124, 1128, 1130, 1132, 1134, 1136, 1142, 1144, 1145, 1147, 1150, 1151, 1152, 1153, 1154, 1155, 1156, 1157, 1158, 1164, 1171, 1174, 1175, 1176, 1182, 1183, 1184, 1188, 1189, 1190, 1191, 1192, 1193, 1197, 1200, 1202, 1206, 1209, 1210, 1211, 1215, 1218, 1219, 1226, 1229, 1233, 1234, 1236, 1238, 1242, 1243, 1247, 1249, 1250, 1251, 1262, 1264, 1265, 1267, 1272, 1277, 1278, 1280, 1281, 1285, 1286, 1287, 1288, 1289, 1292, 1293, 1295, 1296, 1297, 1301, 1302, 1305, 1307, 1309, 1310, 1311, 1315, 1316, 1317, 1319, 1320, 1322, 1323, 1324, 1325, 1328, 1332, 1333, 1335, 1337, 1338, 1340, 1345, 1347, 1349, 1350, 1354, 1356, 1359, 1366, 1367, 1379, 1383, 1387, 1389, 1395, 1396, 1397, 1398, 1404, 1406, 1407, 1408, 1412, 1416, 1417, 1418, 1419, 1420, 1423, 1424, 1426, 1428, 1432, 1434, 1436, 1438, 1440, 1442, 1443, 1446, 1449, 1452, 1466, 1470, 1472, 1475, 1476, 1478, 1479, 1480, 1482, 1483, 1489, 1493, 1494, 1495, 1499, 1500, 1502, 1504, 1509, 1512, 1536, 1549, 1552, 1555, 1556, 1562, 1564, 1566, 1570, 1571, 1573, 1577, 1580, 1581, 1583, 1592, 1594, 1597, 1598, 1600, 1607, 1609, 1610, 1613, 1616, 1618, 1619, 1622, 1628, 1629, 1630, 1631, 1632, 1633, 1640, 1644, 1645, 1651, 1656, 1661, 1662, 1663, 1664, 1668, 1673, 1676, 1680, 1686, 1700, 1705, 1708, 1709, 1713, 1714, 1717, 1720, 1722, 1723, 1725, 1727, 1728, 1729, 1735, 1738, 1740, 1742, 1744, 1745, 1748, 1751, 1752, 1753, 1757, 1759, 1762, 1763, 1765, 1766, 1773, 1778, 1780, 1784, 1785, 1789, 1790, 1797, 1804, 1809, 1815, 1816, 1827, 1828, 1832, 1833, 1835, 1837, 1839, 1841, 1844, 1845, 1849, 1852, 1856, 1860, 1863, 1865, 1867, 1868, 1871, 1872, 1873, 1876, 1877, 1878, 1880, 1881, 1883, 1884, 1885, 1886, 1888, 1894, 1895, 1896, 1897, 1900, 1902, 1906, 1907, 1908, 1909, 1910, 1913, 1914, 1915, 1916, 1917, 1918, 1919, 1920, 1921, 1923, 1930, 1931, 1932, 1934, 1935, 1936, 1940, 1944, 1948, 1950, 1952, 1957, 1958, 1959, 1962, 1964, 1965, 1967, 1971, 1973, 1975, 1978, 1979, 1980, 1986, 1989, 1992, 1997, 2014, 2016, 2017, 2018, 2019, 2023, 2031, 2032, 2033, 2035, 2043, 2044, 2051, 2052, 2055, 2058, 2060, 2064, 2065, 2066, 2067, 2068, 2072, 2073, 2086, 2089, 2094, 2096, 2097, 2098, 2137, 2139, 2141, 2143, 2147, 2151, 2156, 2157, 2158, 2162, 2167, 2168, 2169, 2173, 2176, 2182, 2186, 2187, 2188, 2189, 2197, 2202, 2204, 2205, 2210, 2211, 2212, 2213, 2217, 2220, 2221, 2226, 2227, 2229, 2230, 2232, 2233, 2234, 2236, 2239, 2243, 2246, 2247, 2248, 2250, 2251, 2252, 2254, 2255, 2258, 2259, 2263, 2266, 2267, 2268, 2271, 2274, 2275, 2277, 2278, 2279, 2281, 2285, 2287, 2289, 2290, 2292, 2295, 2299, 2305, 2307, 2318, 2325, 2327, 2328, 2330, 2333, 2341, 2349, 2352, 2356, 2357, 2359, 2360, 2364, 2370, 2375, 2376, 2378, 2382, 2383, 2384, 2390, 2392, 2394, 2396, 2398, 2400, 2402, 2406, 2409, 2412, 2415, 2416, 2418, 2422, 2426, 2434, 2440, 2445, 2447, 2452, 2457, 2462, 2465, 2468, 2469, 2471, 2477, 2480, 2481, 2486, 2490, 2491, 2494, 2495, 2496, 2500, 2502, 2503, 2505, 2507, 2508, 2509, 2511, 2517, 2519, 2528, 2530, 2534, 2538, 2550, 2553, 2557, 2558, 2560, 2561, 2563, 2565, 2566, 2568, 2571, 2572, 2579, 2582, 2584, 2591, 2593, 2602, 2603, 2604, 2605, 2609, 2614, 2616, 2625, 2628, 2629, 2631, 2634, 2636, 2642, 2643, 2645, 2656, 2659, 2660, 2661, 2666, 2668, 2671, 2673, 2674, 2675, 2677, 2679, 2680, 2681, 2685, 2686, 2691, 2692, 2693, 2696, 2697, 2700, 2701, 2711, 2712, 2723, 2725, 2728, 2729, 2733, 2737, 2739, 2749, 2761, 2769, 2780, 2812, 2813, 2814, 2819, 2820, 2837, 2842, 2844, 2847, 2850, 2855, 2861, 2873, 2880, 2890, 2899, 2902, 2906, 2907, 2909, 2916, 2928, 2930, 2931, 2956, 2957, 2962, 2967, 2968, 2976, 2980, 2981, 2982, 2984, 2987, 2992, 2994, 2995, 2998, 3003, 3007, 3009, 3010, 3011, 3012, 3013, 3014, 3027, 3034, 3035, 3038, 3040, 3043, 3047, 3053, 3059, 3068, 3069, 3073, 3076, 3079, 3084, 3089, 3093, 3098, 3102, 3103, 3104, 3108, 3111, 3117, 3124, 3126, 3127, 3142, 3176, 3185, 3187, 3213, 3215, 3217, 3220, 3225, 3226, 3227, 3230, 3232, 3245, 3250, 3253, 3272, 3276, 3278, 3279, 3280, 3284, 3285, 3289, 3293, 3317, 3325, 3341, 3342, 3344, 3354, 3372, 3410, 3415, 3439, 3449, 3456, 3470, 3472, 3485, 3490, 3497, 3514, 3517, 3522, 3531, 3543, 3548, 3549, 3550, 3565, 3566, 3576, 3605, 3611, 3615, 3617, 3621, 3622, 3626, 3647, 3673, 3679, 3712]\n"
          ],
          "name": "stdout"
        }
      ]
    },
    {
      "cell_type": "code",
      "metadata": {
        "id": "pOx0096NW0Ns",
        "colab_type": "code",
        "outputId": "61d0d33a-f8d2-42e9-cbc7-d24dba109db7",
        "colab": {
          "base_uri": "https://localhost:8080/",
          "height": 158
        }
      },
      "source": [
        "p\n"
      ],
      "execution_count": 0,
      "outputs": [
        {
          "output_type": "error",
          "ename": "KeyError",
          "evalue": "ignored",
          "traceback": [
            "\u001b[0;31m---------------------------------------------------------------------------\u001b[0m",
            "\u001b[0;31mKeyError\u001b[0m                                  Traceback (most recent call last)",
            "\u001b[0;32m<ipython-input-154-dea2af4f602d>\u001b[0m in \u001b[0;36m<module>\u001b[0;34m()\u001b[0m\n\u001b[0;32m----> 1\u001b[0;31m \u001b[0mlabels\u001b[0m\u001b[0;34m[\u001b[0m\u001b[0mtest_node_mapping\u001b[0m\u001b[0;34m[\u001b[0m\u001b[0;34m(\u001b[0m\u001b[0;36m65536\u001b[0m\u001b[0;34m,\u001b[0m \u001b[0;34m\"PR\"\u001b[0m\u001b[0;34m)\u001b[0m\u001b[0;34m]\u001b[0m\u001b[0;34m]\u001b[0m\u001b[0;34m\u001b[0m\u001b[0;34m\u001b[0m\u001b[0m\n\u001b[0m",
            "\u001b[0;31mKeyError\u001b[0m: 8"
          ]
        }
      ]
    },
    {
      "cell_type": "code",
      "metadata": {
        "id": "xKvAhPZWoqGZ",
        "colab_type": "code",
        "outputId": "530949ea-cabb-4b92-e839-e10337ee67f2",
        "colab": {
          "base_uri": "https://localhost:8080/",
          "height": 33
        }
      },
      "source": [
        "data['test_comments'].pr_id.unique()[:2]"
      ],
      "execution_count": 0,
      "outputs": [
        {
          "output_type": "execute_result",
          "data": {
            "text/plain": [
              "array([67084, 65714])"
            ]
          },
          "metadata": {
            "tags": []
          },
          "execution_count": 94
        }
      ]
    },
    {
      "cell_type": "code",
      "metadata": {
        "id": "6NiMZPTU45V-",
        "colab_type": "code",
        "outputId": "25922447-2c7a-4a37-b232-2e5bb27d7122",
        "colab": {
          "base_uri": "https://localhost:8080/",
          "height": 33
        }
      },
      "source": [
        "joblib.dump(preds, \"SRW_predictions2.joblib\")\n",
        "joblib.dump(new_labels, \"SRW_labels.joblib\")"
      ],
      "execution_count": 0,
      "outputs": [
        {
          "output_type": "execute_result",
          "data": {
            "text/plain": [
              "['SRW_labels.joblib']"
            ]
          },
          "metadata": {
            "tags": []
          },
          "execution_count": 178
        }
      ]
    },
    {
      "cell_type": "code",
      "metadata": {
        "id": "KUTSkATQf8yJ",
        "colab_type": "code",
        "outputId": "e5d764b9-dae1-4476-d5b7-241934d15b40",
        "colab": {
          "base_uri": "https://localhost:8080/",
          "height": 33
        }
      },
      "source": [
        "joblib.dump(preds, \"seen_prs.joblib\")\n"
      ],
      "execution_count": 0,
      "outputs": [
        {
          "output_type": "execute_result",
          "data": {
            "text/plain": [
              "['seen_prs.joblib']"
            ]
          },
          "metadata": {
            "tags": []
          },
          "execution_count": 189
        }
      ]
    },
    {
      "cell_type": "code",
      "metadata": {
        "id": "ZRQD-sRvgPod",
        "colab_type": "code",
        "colab": {}
      },
      "source": [
        "!pip install -U -q PyDrive\n",
        "from pydrive.auth import GoogleAuth\n",
        "from pydrive.drive import GoogleDrive\n",
        "from google.colab import auth\n",
        "from oauth2client.client import GoogleCredentials\n",
        "\n",
        "# Authenticate and create the PyDrive client.\n",
        "# This only needs to be done once in a notebook.\n",
        "auth.authenticate_user()\n",
        "gauth = GoogleAuth()\n",
        "gauth.credentials = GoogleCredentials.get_application_default()\n",
        "drive = GoogleDrive(gauth)"
      ],
      "execution_count": 0,
      "outputs": []
    },
    {
      "cell_type": "code",
      "metadata": {
        "id": "BqbGe_KDgdc6",
        "colab_type": "code",
        "outputId": "d750c08d-07cd-4ad8-a7d0-e34dd32c3dd0",
        "colab": {
          "base_uri": "https://localhost:8080/",
          "height": 33
        }
      },
      "source": [
        "uploaded = drive.CreateFile({'title': 'seen_prs.joblib'})\n",
        "uploaded.SetContentFile('seen_prs.joblib')\n",
        "uploaded.Upload()\n",
        "print('Uploaded file with ID {}'.format(uploaded.get('id')))"
      ],
      "execution_count": 0,
      "outputs": [
        {
          "output_type": "stream",
          "text": [
            "Uploaded file with ID 1wOMTy00SL1kfGyFAoDjD91d5hO48aMHz\n"
          ],
          "name": "stdout"
        }
      ]
    },
    {
      "cell_type": "code",
      "metadata": {
        "id": "d2tTqJeqOF41",
        "colab_type": "code",
        "outputId": "2a3bfd8c-219c-4056-82e3-2414120da4b9",
        "colab": {
          "base_uri": "https://localhost:8080/",
          "height": 180
        }
      },
      "source": [
        "sorted(preds[67084], reverse = True)[:10]"
      ],
      "execution_count": 0,
      "outputs": [
        {
          "output_type": "execute_result",
          "data": {
            "text/plain": [
              "[(0.07511063283598196, 7725777),\n",
              " (0.07262797188756387, 49258),\n",
              " (0.06527554934304847, 169553),\n",
              " (0.01981685778754738, 331852),\n",
              " (0.014839395813946055, 980082),\n",
              " (0.014755688735443601, 23304),\n",
              " (0.0068612731865367975, 16105680),\n",
              " (0.005643800941662718, 24448061),\n",
              " (0.005160179656343874, 1163175),\n",
              " (0.005019127478342404, 5013060)]"
            ]
          },
          "metadata": {
            "tags": []
          },
          "execution_count": 109
        }
      ]
    },
    {
      "cell_type": "code",
      "metadata": {
        "id": "CM4Zm5-e494x",
        "colab_type": "code",
        "colab": {}
      },
      "source": [
        "def getPredictions(features, weights, node_mappings, nodes):\n",
        "  A, _ = features2EdgeStrength(features, weights)\n",
        "  nnodes = A.shape[0]\n",
        "  T_matrices = EdgeStrengthToTransitionMatrices(A, alpha, nodes)\n",
        "  #print(T_matrices[0], T_matrices[1])\n",
        "  pred_dict = {}\n",
        "\n",
        "  for i, row in tqdm(enumerate(nodes)):\n",
        "    curid = node_mappings['PR'][row]\n",
        "    pred_dict[curid] = []\n",
        "    pp = np.repeat(1.0/nnodes, nnodes)\n",
        "    pgrank = iterPageRank(pp, T_matrices[i])\n",
        "    #print (pgrank.shape)\n",
        "    scores = pgrank.toarray()[0]\n",
        "    #ranking = np.argsort(scores)\n",
        "    #rankings, score =  zip(*sorted(zip(scores, index)))\n",
        "    for ind, s in enumerate(scores):\n",
        "        if ind in node_mappings['User'] and ind != row:\n",
        "          pred_dict[curid].append((s, node_mappings['User'][ind])) #= [k for k in zip(scores, list(range(len(scores))))]\n",
        "                                    \n",
        "  return pred_dict\n",
        "\n",
        "\n"
      ],
      "execution_count": 0,
      "outputs": []
    },
    {
      "cell_type": "code",
      "metadata": {
        "id": "OX-iZ9r8-XcZ",
        "colab_type": "code",
        "outputId": "06dfd9ec-fafb-4efd-f2a5-9e1b785ee5ef",
        "colab": {
          "base_uri": "https://localhost:8080/",
          "height": 158
        }
      },
      "source": [
        "print(test_node_mapping)"
      ],
      "execution_count": 0,
      "outputs": [
        {
          "output_type": "error",
          "ename": "NameError",
          "evalue": "ignored",
          "traceback": [
            "\u001b[0;31m---------------------------------------------------------------------------\u001b[0m",
            "\u001b[0;31mNameError\u001b[0m                                 Traceback (most recent call last)",
            "\u001b[0;32m<ipython-input-1-22cfafcb8f81>\u001b[0m in \u001b[0;36m<module>\u001b[0;34m()\u001b[0m\n\u001b[0;32m----> 1\u001b[0;31m \u001b[0mprint\u001b[0m\u001b[0;34m(\u001b[0m\u001b[0mtest_node_mapping\u001b[0m\u001b[0;34m)\u001b[0m\u001b[0;34m\u001b[0m\u001b[0;34m\u001b[0m\u001b[0m\n\u001b[0m",
            "\u001b[0;31mNameError\u001b[0m: name 'test_node_mapping' is not defined"
          ]
        }
      ]
    },
    {
      "cell_type": "code",
      "metadata": {
        "id": "l3XvZDIybNiE",
        "colab_type": "code",
        "colab": {}
      },
      "source": [
        ""
      ],
      "execution_count": 0,
      "outputs": []
    }
  ]
}