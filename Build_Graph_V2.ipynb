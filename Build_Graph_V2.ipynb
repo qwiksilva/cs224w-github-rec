{
 "cells": [
  {
   "cell_type": "code",
   "execution_count": 18,
   "metadata": {},
   "outputs": [],
   "source": [
    "import matplotlib.pyplot as plt\n",
    "import pandas as pd\n",
    "import networkx as nx\n",
    "from collections import Counter\n",
    "from datetime import datetime\n",
    "import time\n",
    "from tqdm import tqdm"
   ]
  },
  {
   "cell_type": "code",
   "execution_count": 19,
   "metadata": {},
   "outputs": [],
   "source": [
    "def build_user_graph(graph, data, add_attributes=False, directed=True):\n",
    "    pr_id_list = data['number'].unique()\n",
    "    for pr_id in tqdm(pr_id_list):\n",
    "        pr_owner_set, reviewer_set = extract_node_ids(pr_id, data)\n",
    "\n",
    "        # Owner node\n",
    "        for pr_owner_id in pr_owner_set:\n",
    "            if not graph.has_node(pr_owner_id):\n",
    "                #user_metadata = extract_metadata(pr_owner_id, data) if add_attributes else {}\n",
    "                graph.add_node(pr_owner_id, is_user=True) #, **user_metadata)\n",
    "\n",
    "            # Reviewer node\n",
    "            for reviewer_id in reviewer_set:\n",
    "                if not graph.has_node(reviewer_id):\n",
    "                    user_metadata = extract_metadata(reviewer_id, data) if add_attributes else {}\n",
    "                    graph.add_node(reviewer_id, is_user=True) #, **user_metadata)\n",
    "                \n",
    "                if not graph.has_edge(pr_owner_id, reviewer_id):\n",
    "                    if directed:\n",
    "                        weight = get_edge_weight(pr_owner_id, reviewer_id, data)\n",
    "                    else:\n",
    "                        weight = get_edge_weight(pr_owner_id, reviewer_id, data)\n",
    "                    graph.add_edge(pr_owner_id, reviewer_id, weight=weight)\n",
    "\n",
    "    return graph\n",
    "\n",
    "def get_num_comments(owner, commenter, data):\n",
    "    comments = data[(data['commenter_id']==commenter) & \\\n",
    "        ((data['head_commit_author_id']==owner)|(data['base_commit_committer_id']==owner))]\n",
    "    num_comments = len(comments)\n",
    "    return num_comments  \n",
    "\n",
    "def get_edge_weight(pr_owner_id, reviewer_id, data):\n",
    "    df = data[(data['commenter_id']==reviewer_id) & data['user_id'] == pr_owner_id]\n",
    "    \n",
    "    comment_times = df['comment_created_at'].map(convert_to_tic)\n",
    "    df['weight'] = comment_times\n",
    "    df = df.sort_values(by='weight')\n",
    "\n",
    "    decay = 0.8\n",
    "    counts = Counter()\n",
    "    for index, row in df.iterrows():\n",
    "        row['weight'] *= decay**counts[(row['number'], row['commenter_id'])]\n",
    "        counts[(row['number'], row['commenter_id'])] += 1\n",
    "\n",
    "    weight = df['weight'].sum()\n",
    "    return weight\n",
    "\n",
    "def extract_node_ids(pr_id, data):\n",
    "    # Extract PR owner and metadata\n",
    "    pr_df = data.loc[data.number == pr_id, :]\n",
    "    commenter_set = set(pr_df.commenter_id.values)\n",
    "    pr_owner_set = set(pr_df.user_id)\n",
    "    reviewer_set = commenter_set - pr_owner_set\n",
    "    return pr_owner_set, reviewer_set\n",
    "\n",
    "def extract_metadata(target, data):\n",
    "    metadata_cols = ['commenter_username', 'commenter_follower_count',\n",
    "                    'commenter_total_github_commit_count', 'commenter_base_repo_commit_count']\n",
    "    metadata_dict = data.loc[(data.commenter_id == target), metadata_cols].iloc[0].to_dict()\n",
    "    return metadata_dict\n",
    "\n",
    "def convert_to_tic(s):\n",
    "    #Jan, 1, 2014\n",
    "    start_time = time.mktime(datetime(2014, 1, 1).timetuple())\n",
    "    #Jan, 1, 2019\n",
    "    end_time = time.mktime(datetime(2019, 1, 1).timetuple())\n",
    "    time_delta = end_time-start_time\n",
    "    return float(time.mktime(pd.to_datetime(s).timetuple()) - start_time) / time_delta\n"
   ]
  },
  {
   "cell_type": "code",
   "execution_count": 7,
   "metadata": {},
   "outputs": [],
   "source": [
    "df = pd.read_csv('comments_kubernetes.csv')"
   ]
  },
  {
   "cell_type": "code",
   "execution_count": 20,
   "metadata": {},
   "outputs": [
    {
     "name": "stderr",
     "output_type": "stream",
     "text": [
      "100%|██████████| 57010/57010 [15:08<00:00, 62.76it/s]\n"
     ]
    }
   ],
   "source": [
    "earec = nx.DiGraph()\n",
    "earec = build_user_graph(earec, df)"
   ]
  },
  {
   "cell_type": "code",
   "execution_count": 21,
   "metadata": {},
   "outputs": [
    {
     "data": {
      "image/png": "[encoded data removed]",
      "text/plain": [
       "<Figure size 432x288 with 1 Axes>"
      ]
     },
     "metadata": {},
     "output_type": "display_data"
    }
   ],
   "source": [
    "degree_sequence = sorted([d for n, d in earec.degree()], reverse=True)\n",
    "degreeCount = Counter(degree_sequence)\n",
    "deg, cnt = zip(*degreeCount.items())\n",
    "\n",
    "fig, ax = plt.subplots()\n",
    "plt.plot(deg, cnt, '+', color='b')\n",
    "ax.set_yscale('log')\n",
    "ax.set_xscale('log')\n",
    "\n",
    "plt.title(\"Degree Histogram\")\n",
    "plt.ylabel(\"Count\")\n",
    "plt.xlabel(\"Degree\")\n",
    "plt.savefig(\"degree_hist.png\", format=\"PNG\")"
   ]
  },
  {
   "cell_type": "code",
   "execution_count": 22,
   "metadata": {},
   "outputs": [
    {
     "data": {
      "image/png": "[encoded data removed]",
      "text/plain": [
       "<Figure size 432x288 with 1 Axes>"
      ]
     },
     "metadata": {},
     "output_type": "display_data"
    }
   ],
   "source": [
    "degree_sequence = sorted([d for n, d in earec.in_degree()], reverse=True)\n",
    "degreeCount = Counter(degree_sequence)\n",
    "deg_in, cnt_in = zip(*degreeCount.items())\n",
    "\n",
    "degree_sequence = sorted([d for n, d in earec.out_degree()], reverse=True)\n",
    "degreeCount = Counter(degree_sequence)\n",
    "deg_out, cnt_out = zip(*degreeCount.items())\n",
    "\n",
    "fig, ax = plt.subplots()\n",
    "plt.plot(deg_in, cnt_in, '+', color='b', label='in degree')\n",
    "plt.plot(deg_out, cnt_out, '+', color='r', label='out degree')\n",
    "ax.set_yscale('log')\n",
    "ax.set_xscale('log')\n",
    "\n",
    "plt.title(\"Degree Histogram\")\n",
    "plt.ylabel(\"Count\")\n",
    "plt.xlabel(\"Degree\")\n",
    "plt.legend()\n",
    "plt.savefig(\"dir_degree_hist.png\", format=\"PNG\")"
   ]
  },
  {
   "cell_type": "code",
   "execution_count": 25,
   "metadata": {},
   "outputs": [
    {
     "name": "stdout",
     "output_type": "stream",
     "text": [
      "('Nodes', 12775)\n",
      "('Edges', 63679)\n"
     ]
    }
   ],
   "source": [
    "print('Nodes', len(earec.nodes()))\n",
    "print('Edges', len(earec.edges()))"
   ]
  },
  {
   "cell_type": "code",
   "execution_count": null,
   "metadata": {},
   "outputs": [],
   "source": []
  }
 ],
 "metadata": {
  "kernelspec": {
   "display_name": "Python 2",
   "language": "python",
   "name": "python2"
  },
  "language_info": {
   "codemirror_mode": {
    "name": "ipython",
    "version": 2
   },
   "file_extension": ".py",
   "mimetype": "text/x-python",
   "name": "python",
   "nbconvert_exporter": "python",
   "pygments_lexer": "ipython2",
   "version": "2.7.14"
  }
 },
 "nbformat": 4,
 "nbformat_minor": 2
}
