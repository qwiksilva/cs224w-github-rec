{
  "nbformat": 4,
  "nbformat_minor": 0,
  "metadata": {
    "colab": {
      "name": "evaluation-v2",
      "provenance": [],
      "collapsed_sections": [],
      "include_colab_link": true
    },
    "kernelspec": {
      "name": "python3",
      "display_name": "Python 3"
    }
  },
  "cells": [
    {
      "cell_type": "markdown",
      "metadata": {
        "id": "view-in-github",
        "colab_type": "text"
      },
      "source": [
        "<a href=\"https://colab.research.google.com/github/qwiksilva/cs224w-github-rec/blob/master/evaluation_v2.ipynb\" target=\"_parent\"><img src=\"https://colab.research.google.com/assets/colab-badge.svg\" alt=\"Open In Colab\"/></a>"
      ]
    },
    {
      "cell_type": "code",
      "metadata": {
        "id": "HSQPXmQKliE6",
        "colab_type": "code",
        "colab": {}
      },
      "source": [
        "from google.colab import drive\n",
        "drive.mount('/gdrive')"
      ],
      "execution_count": 0,
      "outputs": []
    },
    {
      "cell_type": "code",
      "metadata": {
        "id": "mgUgxWrzlnuy",
        "colab_type": "code",
        "colab": {}
      },
      "source": [
        "import pandas as pd\n",
        "import os\n",
        "import numpy as np\n",
        "import seaborn as sns\n",
        "import joblib\n",
        "\n",
        "import matplotlib.pyplot as plt\n",
        "from tqdm import tqdm_notebook as tqdm\n",
        "from collections import defaultdict\n",
        "from absl import logging\n",
        "# Reduce logging output.\n",
        "logging.set_verbosity(logging.ERROR)\n",
        "\n",
        "%matplotlib inline\n",
        "sns.set(color_codes=True)\n",
        "\n",
        "home = \"/gdrive/My Drive/Colab Notebooks/cs224w-data/final-data-12062019\""
      ],
      "execution_count": 0,
      "outputs": []
    },
    {
      "cell_type": "code",
      "metadata": {
        "id": "TPjCy4HylucS",
        "colab_type": "code",
        "colab": {}
      },
      "source": [
        "train_comments_df = joblib.load(os.path.join(home, 'train_comments_df_v4_2018_only.joblib'))\n",
        "test_comments_df = joblib.load(os.path.join(home, 'test_comments_df_v4_2018_only.joblib'))\n",
        "filepath_summary_df = joblib.load(os.path.join(home, 'filepath_feat_df_v4_2018_only.joblib'))\n",
        "train_dict = joblib.load(os.path.join(home, 'train_dict_v4_2018_only.joblib'))\n",
        "test_dict = joblib.load(os.path.join(home, 'test_dict_v4_2018_only.joblib'))"
      ],
      "execution_count": 0,
      "outputs": []
    },
    {
      "cell_type": "code",
      "metadata": {
        "id": "5ZxHJeTYlwUa",
        "colab_type": "code",
        "colab": {}
      },
      "source": [
        "def find_username(user_id_list, comments_df, commenter_id='commenter_id', commenter_login='commenter_login'):\n",
        "    return comments_df.loc[comments_df[commenter_id].isin(user_id_list), [commenter_id, commenter_login]].drop_duplicates().values\n",
        "\n",
        "def dump_stuff(obj, fname):\n",
        "    return joblib.dump(obj, os.path.join(home, '%s_v4_2018_only.joblib'%fname))\n",
        "\n",
        "def load_stuff(fname):\n",
        "    return joblib.load(os.path.join(home, '%s_v4_2018_only.joblib'%fname))\n",
        "\n",
        "def generate_results(pred_dict, test_dict, top_k=10, verbose=False):\n",
        "    ap = 0.0\n",
        "    ar = 0.0\n",
        "    amrr = 0.0\n",
        "    af1 = 0.0\n",
        "    for test_pr_id, gt_test_reviewers in test_dict.items():\n",
        "        pred = pred_dict[test_pr_id]\n",
        "        ranked_candidates = np.array([cand for cand, score in sorted(pred, key=lambda x: x[1], reverse=True)])\n",
        "        pred_set = ranked_candidates[:top_k]\n",
        "        actual_set = set(gt_test_reviewers)\n",
        "        precision = len(set(pred_set) & actual_set) / len(pred_set)\n",
        "        recall = len(set(pred_set) & actual_set) / len(actual_set)\n",
        "        f1 = (2 * precision * recall) / (precision + recall + 10**(-10))\n",
        "        gt_rank = []\n",
        "        mrr = 0.0\n",
        "        for gt_reviewer in gt_test_reviewers:\n",
        "            lookup = np.argwhere(ranked_candidates == gt_reviewer).tolist()\n",
        "            if len(lookup) == 0:\n",
        "                rank = 0\n",
        "            else:\n",
        "                rank = lookup[0][0] + 1\n",
        "                mrr += 1/rank\n",
        "            gt_rank.append(rank)\n",
        "        amrr += mrr/len(gt_rank)\n",
        "        ap += precision\n",
        "        ar += recall\n",
        "        af1 += f1\n",
        "    if verbose:\n",
        "        print(\"Top-%d-Average-Precision = %0.3f\\nTop-%d-Average-Recall = %0.3f\\nTop-%d-Average-F1 = %0.3f\\nAverage-MRR = %0.3f\" \n",
        "            %(top_k, ap/len(test_dict), top_k, ar/len(test_dict), top_k, af1/len(test_dict), amrr/len(test_dict)))\n",
        "    return ap/len(test_dict), ar/len(test_dict), af1/len(test_dict), amrr/len(test_dict)"
      ],
      "execution_count": 0,
      "outputs": []
    },
    {
      "cell_type": "code",
      "metadata": {
        "id": "NnQS_oOil7DA",
        "colab_type": "code",
        "colab": {}
      },
      "source": [
        "# Popularity baseline\n",
        "from collections import Counter\n",
        "import random\n",
        "freq = []\n",
        "for pr_id, user_list in train_dict.items():\n",
        "    freq.extend(user_list)\n",
        "popular_commenters = Counter(freq)\n",
        "popular_commenters = sorted(popular_commenters.items(), key=lambda x: x[1], reverse=True)\n",
        "popular_commenters_pred_dict = {} # {PR-id: [(cand1, score1), (cand2, score2), ]}\n",
        "for test_pr_id, score in test_dict.items():\n",
        "    popular_commenters_pred_dict[test_pr_id] = random.choices(popular_commenters, k=50, weights=[score for _, score in popular_commenters])"
      ],
      "execution_count": 0,
      "outputs": []
    },
    {
      "cell_type": "code",
      "metadata": {
        "id": "kiD8a2VTmGuA",
        "colab_type": "code",
        "colab": {}
      },
      "source": [
        "precs_pop = []\n",
        "recall_pop = []\n",
        "f1_pop = []\n",
        "mrr_pop = []\n",
        "hypeparam = range(10, 101, 10)\n",
        "\n",
        "for n in hypeparam:\n",
        "    p, r, f, m = generate_results(popular_commenters_pred_dict, test_dict, top_k=n, verbose=False)\n",
        "    precs_pop.append(p)\n",
        "    recall_pop.append(r)\n",
        "    f1_pop.append(f)\n",
        "    mrr_pop.append(m)"
      ],
      "execution_count": 0,
      "outputs": []
    },
    {
      "cell_type": "code",
      "metadata": {
        "id": "dx_pif6mmGw9",
        "colab_type": "code",
        "colab": {}
      },
      "source": [
        "# Activeness baseline\n",
        "core_df = pd.concat([train_comments_df, test_comments_df])\n",
        "creation_date_lookup = core_df.groupby('pr_id')['pr_created_at'].max()\n",
        "activeness_candidate = {}\n",
        "for test_pr_id in test_dict.keys():\n",
        "    past_df = core_df.loc[core_df.pr_created_at < creation_date_lookup[test_pr_id]]\n",
        "    pr_contributed_count = past_df.groupby('commenter_id')['pr_id'].nunique().to_dict()\n",
        "    activeness_candidate[test_pr_id] = sorted(pr_contributed_count.items(), key=lambda x: x[1], reverse=True)"
      ],
      "execution_count": 0,
      "outputs": []
    },
    {
      "cell_type": "code",
      "metadata": {
        "id": "siz9v87tpsJd",
        "colab_type": "code",
        "colab": {}
      },
      "source": [
        "_ = generate_results(activeness_candidate, test_dict, top_k=10, verbose=True)"
      ],
      "execution_count": 0,
      "outputs": []
    },
    {
      "cell_type": "code",
      "metadata": {
        "id": "OXl6vnoXO1mj",
        "colab_type": "code",
        "colab": {}
      },
      "source": [
        "precs_activeness = []\n",
        "recall_activeness = []\n",
        "f1_activeness = []\n",
        "mrr_activeness = []\n",
        "hypeparam = range(10, 101, 10)\n",
        "\n",
        "for n in hypeparam:\n",
        "    p, r, f, m = generate_results(activeness_candidate, test_dict, top_k=n, verbose=False)\n",
        "    precs_activeness.append(p)\n",
        "    recall_activeness.append(r)\n",
        "    f1_activeness.append(f)\n",
        "    mrr_activeness.append(m)"
      ],
      "execution_count": 0,
      "outputs": []
    },
    {
      "cell_type": "code",
      "metadata": {
        "id": "Kv89j8P0psMo",
        "colab_type": "code",
        "colab": {}
      },
      "source": [
        "# Expertise baseline\n",
        "train_pr_cosine_index_map = load_stuff('train_pr_cosine_index_map')\n",
        "test_cosine_sim_matrix = load_stuff('test_cosine_sim_matrix')\n",
        "test_pr_cosine_index_map = load_stuff('test_pr_cosine_index_map')\n",
        "\n",
        "train_index2pr_cosine_map = {}\n",
        "for train_pr_id, row_index in train_pr_cosine_index_map.items():\n",
        "    train_index2pr_cosine_map[row_index] = train_pr_id\n",
        "\n",
        "def generate_expertise_recset(num_neighbors=100):\n",
        "    expertise_result = {}\n",
        "    for test_pr_id, gt_test_reviewers in tqdm(test_dict.items(), desc=\"Expertise\"):\n",
        "        row_index = test_pr_cosine_index_map[test_pr_id]\n",
        "        sorted_idx = np.argsort(-test_cosine_sim_matrix[row_index,])\n",
        "        candidates = defaultdict(int)\n",
        "        for idx in sorted_idx[:num_neighbors]: # Plot this hyperparameter\n",
        "            neighbor_train_pr_id = train_index2pr_cosine_map[idx]\n",
        "            train_reviewers = train_dict[neighbor_train_pr_id]\n",
        "            for reviewer in train_reviewers:\n",
        "                candidates[reviewer] += 1\n",
        "        candidates = sorted(candidates.items(), key=lambda x: x[1], reverse=True)\n",
        "        expertise_result[test_pr_id] = candidates\n",
        "    return expertise_result"
      ],
      "execution_count": 0,
      "outputs": []
    },
    {
      "cell_type": "code",
      "metadata": {
        "id": "lftKQ4yitIE3",
        "colab_type": "code",
        "colab": {}
      },
      "source": [
        "precs_exp = []\n",
        "recall_exp = []\n",
        "f1_exp = []\n",
        "mrr_exp = []\n",
        "hypeparam = range(10, 101, 10)\n",
        "for n in hypeparam:\n",
        "    expertise_recset = generate_expertise_recset(50)\n",
        "    p, r, f, m = generate_results(expertise_recset, test_dict, top_k=n, verbose=False)\n",
        "    precs_exp.append(p)\n",
        "    recall_exp.append(r)\n",
        "    f1_exp.append(f)\n",
        "    mrr_exp.append(m)"
      ],
      "execution_count": 0,
      "outputs": []
    },
    {
      "cell_type": "code",
      "metadata": {
        "id": "GDXmmGSNMdpt",
        "colab_type": "code",
        "colab": {}
      },
      "source": [
        "fig, ax = plt.subplots(1, 1)\n",
        "sns.lineplot(recall_exp, precs_exp, ax=ax, legend='full', label='Expertise')\n",
        "sns.lineplot(recall_pop, precs_pop, ax=ax, legend='full', label='Popularity')\n",
        "sns.lineplot(recall_earec, precs_earec, ax=ax, legend='full', label='EARec')\n",
        "ax.set_ylabel('Precision')\n",
        "ax.set_xlabel('Recall')\n",
        "ax.set_title('Precision-Recall')\n",
        "fig.savefig('prec_recall_plot.png')"
      ],
      "execution_count": 0,
      "outputs": []
    },
    {
      "cell_type": "code",
      "metadata": {
        "id": "rGuFlB9bRRG8",
        "colab_type": "code",
        "colab": {}
      },
      "source": [
        "fig, ax = plt.subplots(1, 1)\n",
        "sns.lineplot(recall_exp, precs_exp, ax=ax, legend='full', label='Expertise')\n",
        "sns.lineplot(recall_activeness, precs_activeness, ax=ax, legend='full', label='Activeness Model')\n",
        "sns.lineplot(recall_earec, precs_earec, ax=ax, legend='full', label='EARec + RWR')\n",
        "sns.lineplot(recall_srw, precs_srw, ax=ax, legend='full', label='Bipartie SRW')\n",
        "ax.set_ylabel('Precision')\n",
        "ax.set_xlabel('Recall')\n",
        "ax.set_title('Precision-Recall')\n",
        "fig.savefig('prec_recall_plot_activeness.png')"
      ],
      "execution_count": 0,
      "outputs": []
    },
    {
      "cell_type": "code",
      "metadata": {
        "id": "O3UsGVg4RWt9",
        "colab_type": "code",
        "colab": {}
      },
      "source": [
        "print(np.max(mrr_pop))\n",
        "print(np.max(mrr_activeness))\n",
        "print(np.max(mrr_exp))\n",
        "print(np.max(mrr_earec))\n",
        "print(np.max(mrr_srw))"
      ],
      "execution_count": 0,
      "outputs": []
    },
    {
      "cell_type": "code",
      "metadata": {
        "id": "CLiqzr1sS-88",
        "colab_type": "code",
        "colab": {}
      },
      "source": [
        "print(f1_pop[0])\n",
        "print(f1_activeness[0])\n",
        "print(f1_exp[0])\n",
        "print(f1_earec[0])\n",
        "print(f1_srw[0])"
      ],
      "execution_count": 0,
      "outputs": []
    },
    {
      "cell_type": "code",
      "metadata": {
        "id": "BZ4tHSBgT3uY",
        "colab_type": "code",
        "colab": {}
      },
      "source": [
        "print(recall_pop[0])\n",
        "print(recall_activeness[0])\n",
        "print(recall_exp[0])\n",
        "print(recall_earec[0])\n",
        "print(recall_srw[0])"
      ],
      "execution_count": 0,
      "outputs": []
    },
    {
      "cell_type": "code",
      "metadata": {
        "id": "d3IVnaI2n3nj",
        "colab_type": "code",
        "colab": {}
      },
      "source": [
        "print(precs_pop[0])\n",
        "print(precs_activeness[0])\n",
        "print(precs_exp[0])\n",
        "print(precs_earec[0])\n",
        "print(precs_srw[0])"
      ],
      "execution_count": 0,
      "outputs": []
    },
    {
      "cell_type": "code",
      "metadata": {
        "id": "OEtnfy9BNw1n",
        "colab_type": "code",
        "colab": {}
      },
      "source": [
        "fig, ax = plt.subplots(1, 1)\n",
        "sns.lineplot(hypeparam, f1_exp, ax=ax, legend='full', label='Expertise')\n",
        "# sns.lineplot(hypeparam, f1_pop, ax=ax, legend='full', label='Popularity')\n",
        "sns.lineplot(hypeparam, f1_activeness, ax=ax, legend='full', label='Activeness')\n",
        "sns.lineplot(hypeparam, f1_earec, ax=ax, legend='full', label='EARec + RWR')\n",
        "sns.lineplot(hypeparam, f1_srw, ax=ax, legend='full', label='Bipartie SRW')\n",
        "\n",
        "ax.set_xlabel('k')\n",
        "ax.set_ylabel('F1@k')\n",
        "ax.set_title('F1 vs. Number of predictions k')\n",
        "fig.savefig('f1_plot_activeness.png')"
      ],
      "execution_count": 0,
      "outputs": []
    },
    {
      "cell_type": "code",
      "metadata": {
        "id": "-eiRFmHxpEDY",
        "colab_type": "code",
        "colab": {}
      },
      "source": [
        "    \\text{Expertise} & .149 & .194 & .096 & .405 \\\\ \\hline"
      ],
      "execution_count": 0,
      "outputs": []
    },
    {
      "cell_type": "code",
      "metadata": {
        "id": "FuN_iqsfpI2i",
        "colab_type": "code",
        "colab": {}
      },
      "source": [
        "    \\text{\\textbf{Bipartie Supervise Random Walk}} & \\textbf{.149} & \\textbf{.194} & \\textbf{.096} & \\textbf{.405} \\\\ \\hline"
      ],
      "execution_count": 0,
      "outputs": []
    },
    {
      "cell_type": "code",
      "metadata": {
        "id": "MZ3yryilMBrl",
        "colab_type": "code",
        "colab": {}
      },
      "source": [
        "fig, ax = plt.subplots(1, 1)\n",
        "sns.lineplot(hypeparam, precs_exp, ax=ax)\n",
        "sns.lineplot(hypeparam, precs_pop, ax=ax)\n",
        "sns.lineplot(hypeparam, precs_earec, ax=ax)"
      ],
      "execution_count": 0,
      "outputs": []
    },
    {
      "cell_type": "code",
      "metadata": {
        "id": "-ee5rRnAtZ9p",
        "colab_type": "code",
        "colab": {}
      },
      "source": [
        "# EARec Baseline\n",
        "earec = joblib.load(os.path.join(home, 'EARec_best_result_12102019.joblib'))"
      ],
      "execution_count": 0,
      "outputs": []
    },
    {
      "cell_type": "code",
      "metadata": {
        "id": "rTi4vIN08BuR",
        "colab_type": "code",
        "colab": {}
      },
      "source": [
        "precs_earec = []\n",
        "recall_earec = []\n",
        "f1_earec = []\n",
        "mrr_earec = []\n",
        "hypeparam = range(10, 101, 10)\n",
        "for n in hypeparam:\n",
        "    p, r, f, m = generate_results(earec, test_dict, top_k=n, verbose=False)\n",
        "    precs_earec.append(p)\n",
        "    recall_earec.append(r)\n",
        "    f1_earec.append(f)\n",
        "    mrr_earec.append(m)"
      ],
      "execution_count": 0,
      "outputs": []
    },
    {
      "cell_type": "code",
      "metadata": {
        "id": "fUTvrOTC_WRV",
        "colab_type": "code",
        "colab": {}
      },
      "source": [
        "# srw Baseline\n",
        "seen = joblib.load(os.path.join(home, 'preds', 'seen_prs.joblib'))"
      ],
      "execution_count": 0,
      "outputs": []
    },
    {
      "cell_type": "code",
      "metadata": {
        "id": "uaD34yylhgSH",
        "colab_type": "code",
        "colab": {}
      },
      "source": [
        "srw_labels = joblib.load(os.path.join(home, 'preds', 'SRW_labels.joblib'))"
      ],
      "execution_count": 0,
      "outputs": []
    },
    {
      "cell_type": "code",
      "metadata": {
        "id": "3ROhUXXtjpYa",
        "colab_type": "code",
        "colab": {}
      },
      "source": [
        "srw_preds[65545][:10]"
      ],
      "execution_count": 0,
      "outputs": []
    },
    {
      "cell_type": "code",
      "metadata": {
        "id": "oO7Sr5EnkTvR",
        "colab_type": "code",
        "colab": {}
      },
      "source": [
        "srw_labels[65545]"
      ],
      "execution_count": 0,
      "outputs": []
    },
    {
      "cell_type": "code",
      "metadata": {
        "id": "aM7pFKJuhpCu",
        "colab_type": "code",
        "colab": {}
      },
      "source": [
        "srw_preds = joblib.load(os.path.join(home, 'preds', 'SRW_predictions2.joblib'))"
      ],
      "execution_count": 0,
      "outputs": []
    },
    {
      "cell_type": "code",
      "metadata": {
        "id": "ZxYe5mwVi8cy",
        "colab_type": "code",
        "colab": {}
      },
      "source": [
        "def generate_results_srw(pred_dict, test_dict, top_k=10, verbose=False):\n",
        "    ap = 0.0\n",
        "    ar = 0.0\n",
        "    amrr = 0.0\n",
        "    af1 = 0.0\n",
        "    for test_pr_id, gt_test_reviewers in test_dict.items():\n",
        "        pred = pred_dict[test_pr_id]\n",
        "        ranked_candidates = np.array([cand for score, cand in sorted(pred, key=lambda x: x[0], reverse=True)])\n",
        "        pred_set = ranked_candidates[:top_k]\n",
        "        actual_set = set(gt_test_reviewers)\n",
        "        precision = len(set(pred_set) & actual_set) / len(pred_set)\n",
        "        recall = len(set(pred_set) & actual_set) / len(actual_set)\n",
        "        f1 = (2 * precision * recall) / (precision + recall + 10**(-10))\n",
        "        gt_rank = []\n",
        "        mrr = 0.0\n",
        "        for gt_reviewer in gt_test_reviewers:\n",
        "            lookup = np.argwhere(ranked_candidates == gt_reviewer).tolist()\n",
        "            if len(lookup) == 0:\n",
        "                rank = 0\n",
        "            else:\n",
        "                rank = lookup[0][0] + 1\n",
        "                mrr += 1/rank\n",
        "            gt_rank.append(rank)\n",
        "        amrr += mrr/len(gt_rank)\n",
        "        ap += precision\n",
        "        ar += recall\n",
        "        af1 += f1\n",
        "    if verbose:\n",
        "        print(\"Top-%d-Average-Precision = %0.3f\\nTop-%d-Average-Recall = %0.3f\\nTop-%d-Average-F1 = %0.3f\\nAverage-MRR = %0.3f\" \n",
        "            %(top_k, ap/len(test_dict), top_k, ar/len(test_dict), top_k, af1/len(test_dict), amrr/len(test_dict)))\n",
        "    return ap/len(test_dict), ar/len(test_dict), af1/len(test_dict), amrr/len(test_dict)"
      ],
      "execution_count": 0,
      "outputs": []
    },
    {
      "cell_type": "code",
      "metadata": {
        "id": "xz92KY3KltKE",
        "colab_type": "code",
        "colab": {}
      },
      "source": [
        "iter = 0\n",
        "for pr_id, pred in srw_preds.items():\n",
        "    print([cand for score, cand in sorted(pred, key=lambda x: x[0], reverse=True)][:10])\n",
        "    if iter == 10:\n",
        "        break\n",
        "    iter += 1"
      ],
      "execution_count": 0,
      "outputs": []
    },
    {
      "cell_type": "code",
      "metadata": {
        "id": "utoG3fnLlXdv",
        "colab_type": "code",
        "colab": {}
      },
      "source": [
        "precs_srw = []\n",
        "recall_srw = []\n",
        "f1_srw = []\n",
        "mrr_srw = []\n",
        "hypeparam = range(10, 101, 10)\n",
        "\n",
        "for n in hypeparam:\n",
        "    p, r, f, m = generate_results_srw(srw_preds, srw_labels, top_k=n)\n",
        "    precs_srw.append(p)\n",
        "    recall_srw.append(r)\n",
        "    f1_srw.append(f)\n",
        "    mrr_srw.append(m)"
      ],
      "execution_count": 0,
      "outputs": []
    },
    {
      "cell_type": "code",
      "metadata": {
        "id": "eGeCh1WLjlhg",
        "colab_type": "code",
        "colab": {}
      },
      "source": [
        "for n in hypeparam:\n",
        "    _ = generate_results_srw(srw_preds, srw_labels, top_k=n, verbose=True)"
      ],
      "execution_count": 0,
      "outputs": []
    },
    {
      "cell_type": "code",
      "metadata": {
        "id": "eVfPEVWXj9rz",
        "colab_type": "code",
        "colab": {}
      },
      "source": [
        ""
      ],
      "execution_count": 0,
      "outputs": []
    },
    {
      "cell_type": "code",
      "metadata": {
        "id": "KyxFAJ_tCIh4",
        "colab_type": "code",
        "colab": {}
      },
      "source": [
        "proper_srw = defaultdict(list)\n",
        "for pr_id, pred in srw.items():\n",
        "    for score, cand in pred:\n",
        "        proper_srw[pr_id].append((cand, score))"
      ],
      "execution_count": 0,
      "outputs": []
    },
    {
      "cell_type": "code",
      "metadata": {
        "id": "Qhe2mr8CGsMx",
        "colab_type": "code",
        "colab": {}
      },
      "source": [
        "_ = generate_results(proper_srw, test_dict, top_k=n, verbose=True)"
      ],
      "execution_count": 0,
      "outputs": []
    },
    {
      "cell_type": "code",
      "metadata": {
        "id": "RxaLhFN8IXqS",
        "colab_type": "code",
        "colab": {}
      },
      "source": [
        "[cand for cand, score in sorted(proper_srw[65793], key=lambda x: x[1], reverse=True)][:10]"
      ],
      "execution_count": 0,
      "outputs": []
    },
    {
      "cell_type": "code",
      "metadata": {
        "id": "eoc0kNimIHne",
        "colab_type": "code",
        "colab": {}
      },
      "source": [
        ""
      ],
      "execution_count": 0,
      "outputs": []
    },
    {
      "cell_type": "code",
      "metadata": {
        "id": "Dm8YW9doHgt3",
        "colab_type": "code",
        "colab": {}
      },
      "source": [
        "iter = 0\n",
        "for pr_id, gt_test_reviewers in test_dict.items():\n",
        "    pred = proper_srw[pr_id]\n",
        "    ranked_candidates = [cand for cand, score in sorted(pred, key=lambda x: x[1], reverse=True)]\n",
        "    pred_set = ranked_candidates[:10]\n",
        "    actual_set = set(gt_test_reviewers)\n",
        "    print(pr_id, pred_set, actual_set)\n",
        "    if iter == 50:\n",
        "        break\n",
        "    iter += 1"
      ],
      "execution_count": 0,
      "outputs": []
    },
    {
      "cell_type": "code",
      "metadata": {
        "id": "TFYMW60SA4Rg",
        "colab_type": "code",
        "colab": {}
      },
      "source": [
        "for n in range(10, 101, 10):\n",
        "    _ = generate_results(proper_srw, test_dict, top_k=n, verbose=True)"
      ],
      "execution_count": 0,
      "outputs": []
    },
    {
      "cell_type": "code",
      "metadata": {
        "id": "vHGNak9pBr3D",
        "colab_type": "code",
        "colab": {}
      },
      "source": [
        "srw[67084]"
      ],
      "execution_count": 0,
      "outputs": []
    },
    {
      "cell_type": "code",
      "metadata": {
        "id": "l_UifdH0A_p_",
        "colab_type": "code",
        "colab": {}
      },
      "source": [
        "iter = 0\n",
        "for pr_id, pred in srw.items():\n",
        "    print(pr_id)\n",
        "    print(sorted(pred, key=lambda x: x[0], reverse=True))\n",
        "    if iter == 10:\n",
        "        break\n",
        "    iter += 1"
      ],
      "execution_count": 0,
      "outputs": []
    },
    {
      "cell_type": "code",
      "metadata": {
        "id": "hNxZVoYEtaFr",
        "colab_type": "code",
        "colab": {}
      },
      "source": [
        ""
      ],
      "execution_count": 0,
      "outputs": []
    },
    {
      "cell_type": "code",
      "metadata": {
        "id": "gjeOUKY6l2cJ",
        "colab_type": "code",
        "colab": {}
      },
      "source": [
        "def find_username(user_id_list, comments_df, commenter_id='commenter_id', commenter_login='commenter_login'):\n",
        "    return comments_df.loc[comments_df[commenter_id].isin(user_id_list), [commenter_id, commenter_login]].drop_duplicates().values\n",
        "\n",
        "def dump_stuff(obj, fname):\n",
        "    return joblib.dump(obj, os.path.join(home, '%s_v4_2018_only.joblib'%fname))\n",
        "\n",
        "def load_stuff(fname):\n",
        "    return joblib.load(os.path.join(home, '%s_v4_2018_only.joblib'%fname))"
      ],
      "execution_count": 0,
      "outputs": []
    },
    {
      "cell_type": "code",
      "metadata": {
        "id": "4ilnWP7Mnc6H",
        "colab_type": "code",
        "colab": {}
      },
      "source": [
        "find_username([cand for cand, _ in popular_commenters_pred_dict[70431][:20]], train_comments_df)"
      ],
      "execution_count": 0,
      "outputs": []
    },
    {
      "cell_type": "code",
      "metadata": {
        "id": "ELfA0DONnncS",
        "colab_type": "code",
        "colab": {}
      },
      "source": [
        "find_username([980082], train_comments_df)"
      ],
      "execution_count": 0,
      "outputs": []
    },
    {
      "cell_type": "code",
      "metadata": {
        "id": "DflgvMqOrEsE",
        "colab_type": "code",
        "colab": {}
      },
      "source": [
        "train_comments_df.shape"
      ],
      "execution_count": 0,
      "outputs": []
    },
    {
      "cell_type": "code",
      "metadata": {
        "id": "P0yezKBEJyXK",
        "colab_type": "code",
        "colab": {}
      },
      "source": [
        ""
      ],
      "execution_count": 0,
      "outputs": []
    },
    {
      "cell_type": "markdown",
      "metadata": {
        "id": "JhS0mJbDK5Ev",
        "colab_type": "text"
      },
      "source": [
        "# Plots"
      ]
    },
    {
      "cell_type": "code",
      "metadata": {
        "id": "J4kQwoIzK5-b",
        "colab_type": "code",
        "colab": {}
      },
      "source": [
        "def generate_pr_user_feat_df(core_df):\n",
        "    combine = [core_df.groupby(['commenter_id', 'pr_id'])['comment_created_at'].min(),\n",
        "               core_df.groupby(['commenter_id', 'pr_id'])['comment_created_at'].max(),\n",
        "               core_df.groupby(['commenter_id', 'pr_id'])['comment'].count()]\n",
        "    colnames = ['first_comment', 'last_comment', 'num_comment']\n",
        "    pr_user_feat_df = pd.concat(combine, axis=1)\n",
        "    pr_user_feat_df.columns = colnames\n",
        "    user_gb_list = [core_df.groupby(['user_id', 'pr_id'])['username'].nunique().groupby('user_id').count(),\n",
        "                    core_df.groupby(['commenter_id', 'pr_id'])['commenter_login'].nunique().groupby('commenter_id').count()]\n",
        "    user_df = pd.concat(user_gb_list, axis=1)\n",
        "    user_df.columns = ['num_pr_submitted', 'num_pr_commented']\n",
        "    user_df.rename_axis('commenter_id')\n",
        "    pr_user_feat_df = pr_user_feat_df.join(user_df, on='commenter_id').fillna(value=0)\n",
        "    pr_user_feat_df = pr_user_feat_df.join(core_df.groupby('pr_id')['pr_created_at'].max(), on='pr_id')\n",
        "    pr_user_feat_df['first_comment_age'] = (pr_user_feat_df['first_comment'] - pr_user_feat_df['pr_created_at']).apply(lambda x: x.total_seconds()/86400)\n",
        "    pr_user_feat_df['last_comment_age'] = (pr_user_feat_df['last_comment'] - pr_user_feat_df['pr_created_at']).apply(lambda x: x.total_seconds()/86400)\n",
        "    return pr_user_feat_df\n",
        "\n",
        "train_pr_user_df = generate_pr_user_feat_df(train_comments_df)\n",
        "test_pr_user_df = generate_pr_user_feat_df(test_comments_df)"
      ],
      "execution_count": 0,
      "outputs": []
    },
    {
      "cell_type": "code",
      "metadata": {
        "id": "FVERZXxfK6us",
        "colab_type": "code",
        "colab": {}
      },
      "source": [
        "train_pr_user_df"
      ],
      "execution_count": 0,
      "outputs": []
    },
    {
      "cell_type": "code",
      "metadata": {
        "id": "-ABFxQbRK7pb",
        "colab_type": "code",
        "colab": {}
      },
      "source": [
        "# PR comment KDE Plot\n",
        "fig, axes = plt.subplots(1, 2, figsize=(10, 5))\n",
        "sns.kdeplot(train_pr_user_df.groupby('pr_id')['num_comment'].sum(), ax=axes[0], label='Train Jan-June 2018')\n",
        "sns.kdeplot(test_pr_user_df.groupby('pr_id')['num_comment'].sum(), ax=axes[0], label='Test June-Dec 2018', linestyle='--')\n",
        "axes[0].set_xlabel('Number of Comments')\n",
        "axes[0].set_ylabel('Number of PR Density')\n",
        "axes[0].set_title('PR vs. Comments KDE Plot')\n",
        "\n",
        "sns.kdeplot(train_pr_user_df.reset_index().groupby('pr_id')['commenter_id'].nunique(), ax=axes[1], label='Train Jan-June 2018')\n",
        "sns.kdeplot(test_pr_user_df.reset_index().groupby('pr_id')['commenter_id'].nunique(), ax=axes[1], label='Test June-Dec 2018', linestyle='--')\n",
        "axes[1].set_xlabel('Number of Users')\n",
        "axes[1].set_title('PR vs. Users KDE Plot')\n",
        "\n",
        "plt.tight_layout()\n",
        "fig.savefig('./pr_comments_distplots.png')"
      ],
      "execution_count": 0,
      "outputs": []
    },
    {
      "cell_type": "code",
      "metadata": {
        "id": "P84AZbP0OeCk",
        "colab_type": "code",
        "colab": {}
      },
      "source": [
        "# PR comment distribution\n",
        "fig, axes = plt.subplots(1, 2, figsize=(10, 5))\n",
        "sns.kdeplot(train_pr_user_df.groupby('commenter_id')['num_pr_submitted'].max(), ax=axes[0], label='Train Jan-June 2018')\n",
        "sns.kdeplot(test_pr_user_df.groupby('commenter_id')['num_pr_submitted'].max(), ax=axes[0], label='Test June-Dec 2018', linestyle='--')\n",
        "axes[0].set_xlabel('Number of PRs Submitted')\n",
        "axes[0].set_ylabel('Number of Users Density')\n",
        "axes[0].set_title('Users vs. PR Submitted KDE Plot')\n",
        "\n",
        "sns.kdeplot(train_pr_user_df.groupby('commenter_id')['num_pr_commented'].max(), ax=axes[1], label='Train Jan-June 2018')\n",
        "sns.kdeplot(test_pr_user_df.groupby('commenter_id')['num_pr_commented'].max(), ax=axes[1], label='Test June-Dec 2018', linestyle='--')\n",
        "axes[1].set_xlabel('Number of PRs Commented')\n",
        "axes[1].set_title('Users vs. PR Commented KDE Plot')\n",
        "\n",
        "plt.tight_layout()\n",
        "\n",
        "fig.savefig('./pr_user_distplots.png')"
      ],
      "execution_count": 0,
      "outputs": []
    },
    {
      "cell_type": "code",
      "metadata": {
        "id": "zLXOBGFjT8B4",
        "colab_type": "code",
        "colab": {}
      },
      "source": [
        "train_comments_df['month_created'] = train_comments_df.pr_created_at.apply(lambda x: x.month)"
      ],
      "execution_count": 0,
      "outputs": []
    },
    {
      "cell_type": "code",
      "metadata": {
        "id": "YzNqv99KaShq",
        "colab_type": "code",
        "colab": {}
      },
      "source": [
        "train_comments_df.groupby('month_created')['pr_id'].nunique()"
      ],
      "execution_count": 0,
      "outputs": []
    },
    {
      "cell_type": "code",
      "metadata": {
        "id": "lVL1CxN5afpf",
        "colab_type": "code",
        "colab": {}
      },
      "source": [
        "test_comments_df['month_created'] = test_comments_df.pr_created_at.apply(lambda x: x.month)\n",
        "test_comments_df.groupby('month_created')['pr_id'].nunique()"
      ],
      "execution_count": 0,
      "outputs": []
    },
    {
      "cell_type": "code",
      "metadata": {
        "id": "4Gzgtp9Ea8f_",
        "colab_type": "code",
        "colab": {}
      },
      "source": [
        "monthly_pr = pd.concat([train_comments_df.groupby('month_created')['pr_id'].nunique(), test_comments_df.groupby('month_created')['pr_id'].nunique()]).reset_index()\n",
        "sns.barplot(x='month_created', y='pr_id', data=monthly_pr)"
      ],
      "execution_count": 0,
      "outputs": []
    },
    {
      "cell_type": "code",
      "metadata": {
        "id": "8LcJDuoEbHnb",
        "colab_type": "code",
        "colab": {}
      },
      "source": [
        ""
      ],
      "execution_count": 0,
      "outputs": []
    },
    {
      "cell_type": "code",
      "metadata": {
        "id": "cDkKRXZWalcQ",
        "colab_type": "code",
        "colab": {}
      },
      "source": [
        "monthly_user = train_pr_user_df.groupby(['pr_id', 'commenter_id'])['first_comment'].min().reset_index()\n",
        "monthly_user['first_comment_month'] = monthly_user.first_comment.apply(lambda x: x.month)"
      ],
      "execution_count": 0,
      "outputs": []
    },
    {
      "cell_type": "code",
      "metadata": {
        "id": "L4DQLi_1cYD_",
        "colab_type": "code",
        "colab": {}
      },
      "source": [
        "monthly_user_count = monthly_user.groupby(['first_comment_month'])['commenter_id'].nunique()"
      ],
      "execution_count": 0,
      "outputs": []
    },
    {
      "cell_type": "code",
      "metadata": {
        "id": "H-zDRh83clY-",
        "colab_type": "code",
        "colab": {}
      },
      "source": [
        "monthly_user_count"
      ],
      "execution_count": 0,
      "outputs": []
    },
    {
      "cell_type": "code",
      "metadata": {
        "id": "mgssDmyuO3RF",
        "colab_type": "code",
        "colab": {}
      },
      "source": [
        "sns.kdeplot(train_comments_df.groupby(['commenter_id', 'pr_id'])['commenter_login'].nunique().groupby('commenter_id').count())"
      ],
      "execution_count": 0,
      "outputs": []
    },
    {
      "cell_type": "code",
      "metadata": {
        "id": "HNe1BOy-O-fN",
        "colab_type": "code",
        "colab": {}
      },
      "source": [
        "sns.kdeplot(train_comments_df.groupby(['user_id', 'pr_id'])['username'].nunique().groupby('user_id').count())"
      ],
      "execution_count": 0,
      "outputs": []
    },
    {
      "cell_type": "code",
      "metadata": {
        "id": "d8LALWCnPQK-",
        "colab_type": "code",
        "colab": {}
      },
      "source": [
        "import matplotlib.pyplot as plt\n",
        "plt.scatter(train_comments_df.groupby(['user_id', 'pr_id'])['username'].nunique().groupby('user_id').count())"
      ],
      "execution_count": 0,
      "outputs": []
    },
    {
      "cell_type": "code",
      "metadata": {
        "id": "7_s1xFySPe2N",
        "colab_type": "code",
        "colab": {}
      },
      "source": [
        "train_comments_df.shape"
      ],
      "execution_count": 0,
      "outputs": []
    },
    {
      "cell_type": "code",
      "metadata": {
        "id": "VJxnMBfYq-YM",
        "colab_type": "code",
        "colab": {}
      },
      "source": [
        "len(test_dict)"
      ],
      "execution_count": 0,
      "outputs": []
    },
    {
      "cell_type": "code",
      "metadata": {
        "id": "FRySgM_3rDEF",
        "colab_type": "code",
        "colab": {}
      },
      "source": [
        "test_comments_df.commenter_id.nunique()"
      ],
      "execution_count": 0,
      "outputs": []
    },
    {
      "cell_type": "code",
      "metadata": {
        "id": "xuFPFac9rF69",
        "colab_type": "code",
        "colab": {}
      },
      "source": [
        ""
      ],
      "execution_count": 0,
      "outputs": []
    }
  ]
}