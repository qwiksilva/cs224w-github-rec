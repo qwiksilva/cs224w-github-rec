{
  "nbformat": 4,
  "nbformat_minor": 0,
  "metadata": {
    "colab": {
      "name": "baseline-v7",
      "provenance": [],
      "include_colab_link": true
    },
    "kernelspec": {
      "name": "python3",
      "display_name": "Python 3"
    },
    "widgets": {
      "application/vnd.jupyter.widget-state+json": {
        "368d6b1071c9428ea28cfc0a2ddef6ca": {
          "model_module": "@jupyter-widgets/controls",
          "model_name": "HBoxModel",
          "state": {
            "_view_name": "HBoxView",
            "_dom_classes": [],
            "_model_name": "HBoxModel",
            "_view_module": "@jupyter-widgets/controls",
            "_model_module_version": "1.5.0",
            "_view_count": null,
            "_view_module_version": "1.5.0",
            "box_style": "",
            "layout": "IPY_MODEL_0d8ddecf20fd4520a068318b154062db",
            "_model_module": "@jupyter-widgets/controls",
            "children": [
              "IPY_MODEL_ad188eb974bb4a5c8b5a4d2f9c3e25e2",
              "IPY_MODEL_e0abfb3980f449baa7c76af3ef6eaff4"
            ]
          }
        },
        "0d8ddecf20fd4520a068318b154062db": {
          "model_module": "@jupyter-widgets/base",
          "model_name": "LayoutModel",
          "state": {
            "_view_name": "LayoutView",
            "grid_template_rows": null,
            "right": null,
            "justify_content": null,
            "_view_module": "@jupyter-widgets/base",
            "overflow": null,
            "_model_module_version": "1.2.0",
            "_view_count": null,
            "flex_flow": null,
            "width": null,
            "min_width": null,
            "border": null,
            "align_items": null,
            "bottom": null,
            "_model_module": "@jupyter-widgets/base",
            "top": null,
            "grid_column": null,
            "overflow_y": null,
            "overflow_x": null,
            "grid_auto_flow": null,
            "grid_area": null,
            "grid_template_columns": null,
            "flex": null,
            "_model_name": "LayoutModel",
            "justify_items": null,
            "grid_row": null,
            "max_height": null,
            "align_content": null,
            "visibility": null,
            "align_self": null,
            "height": null,
            "min_height": null,
            "padding": null,
            "grid_auto_rows": null,
            "grid_gap": null,
            "max_width": null,
            "order": null,
            "_view_module_version": "1.2.0",
            "grid_template_areas": null,
            "object_position": null,
            "object_fit": null,
            "grid_auto_columns": null,
            "margin": null,
            "display": null,
            "left": null
          }
        },
        "ad188eb974bb4a5c8b5a4d2f9c3e25e2": {
          "model_module": "@jupyter-widgets/controls",
          "model_name": "IntProgressModel",
          "state": {
            "_view_name": "ProgressView",
            "style": "IPY_MODEL_3912ec208ce4419aa7c6626b5bd41715",
            "_dom_classes": [],
            "description": "Expertise",
            "_model_name": "IntProgressModel",
            "bar_style": "success",
            "max": 3837,
            "_view_module": "@jupyter-widgets/controls",
            "_model_module_version": "1.5.0",
            "value": 3837,
            "_view_count": null,
            "_view_module_version": "1.5.0",
            "orientation": "horizontal",
            "min": 0,
            "description_tooltip": null,
            "_model_module": "@jupyter-widgets/controls",
            "layout": "IPY_MODEL_65250a21907148dd83508927a0cb38a9"
          }
        },
        "e0abfb3980f449baa7c76af3ef6eaff4": {
          "model_module": "@jupyter-widgets/controls",
          "model_name": "HTMLModel",
          "state": {
            "_view_name": "HTMLView",
            "style": "IPY_MODEL_8c8af896a8b54bdda7ca5765ea23f334",
            "_dom_classes": [],
            "description": "",
            "_model_name": "HTMLModel",
            "placeholder": "​",
            "_view_module": "@jupyter-widgets/controls",
            "_model_module_version": "1.5.0",
            "value": "100% 3837/3837 [00:01&lt;00:00, 2485.75it/s]",
            "_view_count": null,
            "_view_module_version": "1.5.0",
            "description_tooltip": null,
            "_model_module": "@jupyter-widgets/controls",
            "layout": "IPY_MODEL_4550ff3c1c1f44508fe48aee10789685"
          }
        },
        "3912ec208ce4419aa7c6626b5bd41715": {
          "model_module": "@jupyter-widgets/controls",
          "model_name": "ProgressStyleModel",
          "state": {
            "_view_name": "StyleView",
            "_model_name": "ProgressStyleModel",
            "description_width": "initial",
            "_view_module": "@jupyter-widgets/base",
            "_model_module_version": "1.5.0",
            "_view_count": null,
            "_view_module_version": "1.2.0",
            "bar_color": null,
            "_model_module": "@jupyter-widgets/controls"
          }
        },
        "65250a21907148dd83508927a0cb38a9": {
          "model_module": "@jupyter-widgets/base",
          "model_name": "LayoutModel",
          "state": {
            "_view_name": "LayoutView",
            "grid_template_rows": null,
            "right": null,
            "justify_content": null,
            "_view_module": "@jupyter-widgets/base",
            "overflow": null,
            "_model_module_version": "1.2.0",
            "_view_count": null,
            "flex_flow": null,
            "width": null,
            "min_width": null,
            "border": null,
            "align_items": null,
            "bottom": null,
            "_model_module": "@jupyter-widgets/base",
            "top": null,
            "grid_column": null,
            "overflow_y": null,
            "overflow_x": null,
            "grid_auto_flow": null,
            "grid_area": null,
            "grid_template_columns": null,
            "flex": null,
            "_model_name": "LayoutModel",
            "justify_items": null,
            "grid_row": null,
            "max_height": null,
            "align_content": null,
            "visibility": null,
            "align_self": null,
            "height": null,
            "min_height": null,
            "padding": null,
            "grid_auto_rows": null,
            "grid_gap": null,
            "max_width": null,
            "order": null,
            "_view_module_version": "1.2.0",
            "grid_template_areas": null,
            "object_position": null,
            "object_fit": null,
            "grid_auto_columns": null,
            "margin": null,
            "display": null,
            "left": null
          }
        },
        "8c8af896a8b54bdda7ca5765ea23f334": {
          "model_module": "@jupyter-widgets/controls",
          "model_name": "DescriptionStyleModel",
          "state": {
            "_view_name": "StyleView",
            "_model_name": "DescriptionStyleModel",
            "description_width": "",
            "_view_module": "@jupyter-widgets/base",
            "_model_module_version": "1.5.0",
            "_view_count": null,
            "_view_module_version": "1.2.0",
            "_model_module": "@jupyter-widgets/controls"
          }
        },
        "4550ff3c1c1f44508fe48aee10789685": {
          "model_module": "@jupyter-widgets/base",
          "model_name": "LayoutModel",
          "state": {
            "_view_name": "LayoutView",
            "grid_template_rows": null,
            "right": null,
            "justify_content": null,
            "_view_module": "@jupyter-widgets/base",
            "overflow": null,
            "_model_module_version": "1.2.0",
            "_view_count": null,
            "flex_flow": null,
            "width": null,
            "min_width": null,
            "border": null,
            "align_items": null,
            "bottom": null,
            "_model_module": "@jupyter-widgets/base",
            "top": null,
            "grid_column": null,
            "overflow_y": null,
            "overflow_x": null,
            "grid_auto_flow": null,
            "grid_area": null,
            "grid_template_columns": null,
            "flex": null,
            "_model_name": "LayoutModel",
            "justify_items": null,
            "grid_row": null,
            "max_height": null,
            "align_content": null,
            "visibility": null,
            "align_self": null,
            "height": null,
            "min_height": null,
            "padding": null,
            "grid_auto_rows": null,
            "grid_gap": null,
            "max_width": null,
            "order": null,
            "_view_module_version": "1.2.0",
            "grid_template_areas": null,
            "object_position": null,
            "object_fit": null,
            "grid_auto_columns": null,
            "margin": null,
            "display": null,
            "left": null
          }
        },
        "a3e2cc36d35740c4bb38ce3158be3cb0": {
          "model_module": "@jupyter-widgets/controls",
          "model_name": "HBoxModel",
          "state": {
            "_view_name": "HBoxView",
            "_dom_classes": [],
            "_model_name": "HBoxModel",
            "_view_module": "@jupyter-widgets/controls",
            "_model_module_version": "1.5.0",
            "_view_count": null,
            "_view_module_version": "1.5.0",
            "box_style": "",
            "layout": "IPY_MODEL_aeb5dc71caed420b9436f39848925451",
            "_model_module": "@jupyter-widgets/controls",
            "children": [
              "IPY_MODEL_173d6477a1f246a4a165d5b76d5e7489",
              "IPY_MODEL_ce3a001555db4021905235272299f95b"
            ]
          }
        },
        "aeb5dc71caed420b9436f39848925451": {
          "model_module": "@jupyter-widgets/base",
          "model_name": "LayoutModel",
          "state": {
            "_view_name": "LayoutView",
            "grid_template_rows": null,
            "right": null,
            "justify_content": null,
            "_view_module": "@jupyter-widgets/base",
            "overflow": null,
            "_model_module_version": "1.2.0",
            "_view_count": null,
            "flex_flow": null,
            "width": null,
            "min_width": null,
            "border": null,
            "align_items": null,
            "bottom": null,
            "_model_module": "@jupyter-widgets/base",
            "top": null,
            "grid_column": null,
            "overflow_y": null,
            "overflow_x": null,
            "grid_auto_flow": null,
            "grid_area": null,
            "grid_template_columns": null,
            "flex": null,
            "_model_name": "LayoutModel",
            "justify_items": null,
            "grid_row": null,
            "max_height": null,
            "align_content": null,
            "visibility": null,
            "align_self": null,
            "height": null,
            "min_height": null,
            "padding": null,
            "grid_auto_rows": null,
            "grid_gap": null,
            "max_width": null,
            "order": null,
            "_view_module_version": "1.2.0",
            "grid_template_areas": null,
            "object_position": null,
            "object_fit": null,
            "grid_auto_columns": null,
            "margin": null,
            "display": null,
            "left": null
          }
        },
        "173d6477a1f246a4a165d5b76d5e7489": {
          "model_module": "@jupyter-widgets/controls",
          "model_name": "IntProgressModel",
          "state": {
            "_view_name": "ProgressView",
            "style": "IPY_MODEL_8f330ba7f90c4507a381b83266f5a25e",
            "_dom_classes": [],
            "description": "Expertise",
            "_model_name": "IntProgressModel",
            "bar_style": "success",
            "max": 3837,
            "_view_module": "@jupyter-widgets/controls",
            "_model_module_version": "1.5.0",
            "value": 3837,
            "_view_count": null,
            "_view_module_version": "1.5.0",
            "orientation": "horizontal",
            "min": 0,
            "description_tooltip": null,
            "_model_module": "@jupyter-widgets/controls",
            "layout": "IPY_MODEL_83895755882647628d80a0c6f622e5ad"
          }
        },
        "ce3a001555db4021905235272299f95b": {
          "model_module": "@jupyter-widgets/controls",
          "model_name": "HTMLModel",
          "state": {
            "_view_name": "HTMLView",
            "style": "IPY_MODEL_2f79ee17c7f6482da37b4fa54e34f505",
            "_dom_classes": [],
            "description": "",
            "_model_name": "HTMLModel",
            "placeholder": "​",
            "_view_module": "@jupyter-widgets/controls",
            "_model_module_version": "1.5.0",
            "value": "100% 3837/3837 [00:00&lt;00:00, 44979.41it/s]",
            "_view_count": null,
            "_view_module_version": "1.5.0",
            "description_tooltip": null,
            "_model_module": "@jupyter-widgets/controls",
            "layout": "IPY_MODEL_ca807fd0700f47e085a71839e8979923"
          }
        },
        "8f330ba7f90c4507a381b83266f5a25e": {
          "model_module": "@jupyter-widgets/controls",
          "model_name": "ProgressStyleModel",
          "state": {
            "_view_name": "StyleView",
            "_model_name": "ProgressStyleModel",
            "description_width": "initial",
            "_view_module": "@jupyter-widgets/base",
            "_model_module_version": "1.5.0",
            "_view_count": null,
            "_view_module_version": "1.2.0",
            "bar_color": null,
            "_model_module": "@jupyter-widgets/controls"
          }
        },
        "83895755882647628d80a0c6f622e5ad": {
          "model_module": "@jupyter-widgets/base",
          "model_name": "LayoutModel",
          "state": {
            "_view_name": "LayoutView",
            "grid_template_rows": null,
            "right": null,
            "justify_content": null,
            "_view_module": "@jupyter-widgets/base",
            "overflow": null,
            "_model_module_version": "1.2.0",
            "_view_count": null,
            "flex_flow": null,
            "width": null,
            "min_width": null,
            "border": null,
            "align_items": null,
            "bottom": null,
            "_model_module": "@jupyter-widgets/base",
            "top": null,
            "grid_column": null,
            "overflow_y": null,
            "overflow_x": null,
            "grid_auto_flow": null,
            "grid_area": null,
            "grid_template_columns": null,
            "flex": null,
            "_model_name": "LayoutModel",
            "justify_items": null,
            "grid_row": null,
            "max_height": null,
            "align_content": null,
            "visibility": null,
            "align_self": null,
            "height": null,
            "min_height": null,
            "padding": null,
            "grid_auto_rows": null,
            "grid_gap": null,
            "max_width": null,
            "order": null,
            "_view_module_version": "1.2.0",
            "grid_template_areas": null,
            "object_position": null,
            "object_fit": null,
            "grid_auto_columns": null,
            "margin": null,
            "display": null,
            "left": null
          }
        },
        "2f79ee17c7f6482da37b4fa54e34f505": {
          "model_module": "@jupyter-widgets/controls",
          "model_name": "DescriptionStyleModel",
          "state": {
            "_view_name": "StyleView",
            "_model_name": "DescriptionStyleModel",
            "description_width": "",
            "_view_module": "@jupyter-widgets/base",
            "_model_module_version": "1.5.0",
            "_view_count": null,
            "_view_module_version": "1.2.0",
            "_model_module": "@jupyter-widgets/controls"
          }
        },
        "ca807fd0700f47e085a71839e8979923": {
          "model_module": "@jupyter-widgets/base",
          "model_name": "LayoutModel",
          "state": {
            "_view_name": "LayoutView",
            "grid_template_rows": null,
            "right": null,
            "justify_content": null,
            "_view_module": "@jupyter-widgets/base",
            "overflow": null,
            "_model_module_version": "1.2.0",
            "_view_count": null,
            "flex_flow": null,
            "width": null,
            "min_width": null,
            "border": null,
            "align_items": null,
            "bottom": null,
            "_model_module": "@jupyter-widgets/base",
            "top": null,
            "grid_column": null,
            "overflow_y": null,
            "overflow_x": null,
            "grid_auto_flow": null,
            "grid_area": null,
            "grid_template_columns": null,
            "flex": null,
            "_model_name": "LayoutModel",
            "justify_items": null,
            "grid_row": null,
            "max_height": null,
            "align_content": null,
            "visibility": null,
            "align_self": null,
            "height": null,
            "min_height": null,
            "padding": null,
            "grid_auto_rows": null,
            "grid_gap": null,
            "max_width": null,
            "order": null,
            "_view_module_version": "1.2.0",
            "grid_template_areas": null,
            "object_position": null,
            "object_fit": null,
            "grid_auto_columns": null,
            "margin": null,
            "display": null,
            "left": null
          }
        }
      }
    }
  },
  "cells": [
    {
      "cell_type": "markdown",
      "metadata": {
        "id": "view-in-github",
        "colab_type": "text"
      },
      "source": [
        "<a href=\"https://colab.research.google.com/github/qwiksilva/cs224w-github-rec/blob/master/evaluation.ipynb\" target=\"_parent\"><img src=\"https://colab.research.google.com/assets/colab-badge.svg\" alt=\"Open In Colab\"/></a>"
      ]
    },
    {
      "cell_type": "code",
      "metadata": {
        "id": "OEqV_9gR7nL4",
        "colab_type": "code",
        "outputId": "e1b30b2b-f143-4d9f-878f-2160672b5a63",
        "colab": {
          "base_uri": "https://localhost:8080/",
          "height": 34
        }
      },
      "source": [
        "from google.colab import drive\n",
        "drive.mount('/gdrive')"
      ],
      "execution_count": 0,
      "outputs": [
        {
          "output_type": "stream",
          "text": [
            "Drive already mounted at /gdrive; to attempt to forcibly remount, call drive.mount(\"/gdrive\", force_remount=True).\n"
          ],
          "name": "stdout"
        }
      ]
    },
    {
      "cell_type": "code",
      "metadata": {
        "id": "sRynV5Oh8QJz",
        "colab_type": "code",
        "colab": {}
      },
      "source": [
        "import pandas as pd\n",
        "import os\n",
        "import numpy as np\n",
        "import seaborn as sns\n",
        "import joblib\n",
        "\n",
        "from tqdm import tqdm_notebook as tqdm\n",
        "from collections import defaultdict\n",
        "from absl import logging\n",
        "# Reduce logging output.\n",
        "logging.set_verbosity(logging.ERROR)\n",
        "\n",
        "%matplotlib inline\n",
        "sns.set(color_codes=True)\n",
        "\n",
        "home = \"/gdrive/My Drive/Colab Notebooks/cs224w-data/final-data-12062019\""
      ],
      "execution_count": 0,
      "outputs": []
    },
    {
      "cell_type": "code",
      "metadata": {
        "id": "kcPuj0oV8SBb",
        "colab_type": "code",
        "colab": {}
      },
      "source": [
        "train_comments_df = joblib.load(os.path.join(home, 'train_comments_df_v4_2018_only.joblib'))\n",
        "test_comments_df = joblib.load(os.path.join(home, 'test_comments_df_v4_2018_only.joblib'))\n",
        "filepath_summary_df = joblib.load(os.path.join(home, 'filepath_feat_df_v4_2018_only.joblib'))\n",
        "train_dict = joblib.load(os.path.join(home, 'train_dict_v4_2018_only.joblib'))\n",
        "test_dict = joblib.load(os.path.join(home, 'test_dict_v4_2018_only.joblib'))"
      ],
      "execution_count": 0,
      "outputs": []
    },
    {
      "cell_type": "code",
      "metadata": {
        "id": "4tBs5BxFKRIx",
        "colab_type": "code",
        "outputId": "5aa974ec-e69b-4d40-ed87-58ba89e5b22a",
        "colab": {
          "base_uri": "https://localhost:8080/",
          "height": 34
        }
      },
      "source": [
        "train_user_list = set(train_comments_df.commenter_id.unique().tolist())\n",
        "test_user_list = set(test_comments_df.commenter_id.unique().tolist())\n",
        "train_pr_list = set(train_comments_df.pr_id.unique().tolist())\n",
        "test_pr_list = set(test_comments_df.pr_id.unique().tolist())\n",
        "print(len(train_user_list), len(test_user_list), len(train_pr_list), len(test_pr_list))"
      ],
      "execution_count": 0,
      "outputs": [
        {
          "output_type": "stream",
          "text": [
            "690 366 2719 3837\n"
          ],
          "name": "stdout"
        }
      ]
    },
    {
      "cell_type": "code",
      "metadata": {
        "id": "4d8PJB4e9lfc",
        "colab_type": "code",
        "colab": {}
      },
      "source": [
        "from sklearn.preprocessing import StandardScaler\n",
        "from sklearn.metrics.pairwise import cosine_similarity, euclidean_distances\n",
        "\n",
        "def generate_pr_feat_matrix(pr_id_list, filepath_summary_df, train=True, scaler_dict={}):\n",
        "    col_list = ['average_additions', 'average_changes', 'average_deletions', 'filepath_count', 'c2v_title', 'average_c2v_filepath']\n",
        "    extract = filepath_summary_df.loc[pr_id_list, col_list[-2:]]\n",
        "    collection = []\n",
        "    for feat_name in extract.columns:\n",
        "        column = extract.loc[:, feat_name].values\n",
        "        if 'c2v' in feat_name:\n",
        "            column = np.vstack(column.tolist())\n",
        "        else:\n",
        "            if train:\n",
        "                scaler = StandardScaler()\n",
        "                column = scaler.fit_transform(column.reshape(-1, 1)) # Potential leakage\n",
        "                scaler_dict[feat_name] = scaler\n",
        "            else:\n",
        "                column = scaler_dict[feat_name].transform(column.reshape(-1, 1))\n",
        "        # else:\n",
        "        #     column = column.reshape(-1, 1)\n",
        "        collection.append(column)\n",
        "    pr_feat_matrix = np.hstack(collection)\n",
        "    pr_list = extract.index.values.tolist() # Match up with cosine\n",
        "    pr_cosine_index_map = dict(zip(pr_list, range(len(pr_list))))\n",
        "    return pr_feat_matrix, pr_cosine_index_map, scaler_dict"
      ],
      "execution_count": 0,
      "outputs": []
    },
    {
      "cell_type": "code",
      "metadata": {
        "id": "d_s3l3Ow9liY",
        "colab_type": "code",
        "outputId": "dc5d3682-c960-4808-da55-e09c3dc2c983",
        "colab": {
          "base_uri": "https://localhost:8080/",
          "height": 68
        }
      },
      "source": [
        "%%time\n",
        "train_pr_feat_matrix, train_pr_cosine_index_map, train_scaler_dict = generate_pr_feat_matrix(train_pr_list, filepath_summary_df)\n",
        "print(train_pr_feat_matrix.shape)\n",
        "train_cosine_sim_matrix = cosine_similarity(train_pr_feat_matrix, train_pr_feat_matrix)\n",
        "# train_cosine_sim_matrix = - euclidean_distances(train_pr_feat_matrix, train_pr_feat_matrix)"
      ],
      "execution_count": 0,
      "outputs": [
        {
          "output_type": "stream",
          "text": [
            "(2719, 200)\n",
            "CPU times: user 113 ms, sys: 38.1 ms, total: 151 ms\n",
            "Wall time: 93.2 ms\n"
          ],
          "name": "stdout"
        }
      ]
    },
    {
      "cell_type": "code",
      "metadata": {
        "id": "UXi5bbQd9lmv",
        "colab_type": "code",
        "outputId": "814b7dcd-98fb-4b66-f663-0cc16e4ba415",
        "colab": {
          "base_uri": "https://localhost:8080/",
          "height": 51
        }
      },
      "source": [
        "%%time\n",
        "test_pr_feat_matrix, test_pr_cosine_index_map, _ = generate_pr_feat_matrix(test_pr_list, filepath_summary_df, train=False, scaler_dict=train_scaler_dict)\n",
        "test_cosine_sim_matrix = cosine_similarity(test_pr_feat_matrix, train_pr_feat_matrix)\n",
        "# test_cosine_sim_matrix = - euclidean_distances(test_pr_feat_matrix, train_pr_feat_matrix)"
      ],
      "execution_count": 0,
      "outputs": [
        {
          "output_type": "stream",
          "text": [
            "CPU times: user 166 ms, sys: 8.85 ms, total: 174 ms\n",
            "Wall time: 110 ms\n"
          ],
          "name": "stdout"
        }
      ]
    },
    {
      "cell_type": "code",
      "metadata": {
        "id": "2l7B1DwqKmQg",
        "colab_type": "code",
        "outputId": "0d68fdac-aa9a-48da-b754-aac8b123887f",
        "colab": {
          "base_uri": "https://localhost:8080/",
          "height": 34
        }
      },
      "source": [
        "print(train_cosine_sim_matrix.shape, test_cosine_sim_matrix.shape)"
      ],
      "execution_count": 0,
      "outputs": [
        {
          "output_type": "stream",
          "text": [
            "(2719, 2719) (3837, 2719)\n"
          ],
          "name": "stdout"
        }
      ]
    },
    {
      "cell_type": "code",
      "metadata": {
        "id": "WU8cp_P-9A2W",
        "colab_type": "code",
        "colab": {}
      },
      "source": [
        "def generate_pr_user_feat_df(core_df):\n",
        "    combine = [core_df.groupby(['commenter_id', 'pr_id'])['comment_created_at'].min(),\n",
        "               core_df.groupby(['commenter_id', 'pr_id'])['comment_created_at'].max(),\n",
        "               core_df.groupby(['commenter_id', 'pr_id'])['comment'].count()]\n",
        "    colnames = ['first_comment', 'last_comment', 'num_comment']\n",
        "    pr_user_feat_df = pd.concat(combine, axis=1)\n",
        "    pr_user_feat_df.columns = colnames\n",
        "    user_gb_list = [core_df.groupby(['user_id', 'pr_id'])['username'].nunique().groupby('user_id').count(),\n",
        "                    core_df.groupby(['commenter_id', 'pr_id'])['commenter_login'].nunique().groupby('commenter_id').count()]\n",
        "    user_df = pd.concat(user_gb_list, axis=1)\n",
        "    user_df.columns = ['num_pr_submitted', 'num_pr_commented']\n",
        "    user_df.rename_axis('commenter_id')\n",
        "    pr_user_feat_df = pr_user_feat_df.join(user_df, on='commenter_id').fillna(value=0)\n",
        "    pr_user_feat_df = pr_user_feat_df.join(core_df.groupby('pr_id')['pr_created_at'].max(), on='pr_id')\n",
        "    pr_user_feat_df['first_comment_age'] = (pr_user_feat_df['first_comment'] - pr_user_feat_df['pr_created_at']).apply(lambda x: x.total_seconds()/86400)\n",
        "    pr_user_feat_df['last_comment_age'] = (pr_user_feat_df['last_comment'] - pr_user_feat_df['pr_created_at']).apply(lambda x: x.total_seconds()/86400)\n",
        "    return pr_user_feat_df\n",
        "\n",
        "train_pr_user_df = generate_pr_user_feat_df(train_comments_df)\n",
        "test_pr_user_df = generate_pr_user_feat_df(test_comments_df)"
      ],
      "execution_count": 0,
      "outputs": []
    },
    {
      "cell_type": "code",
      "metadata": {
        "id": "FlUAL0mxpjZJ",
        "colab_type": "code",
        "outputId": "b8efbbad-4a52-4d4e-e6e0-2caf8971e4ba",
        "colab": {
          "base_uri": "https://localhost:8080/",
          "height": 450
        }
      },
      "source": [
        "train_pr_user_df"
      ],
      "execution_count": 0,
      "outputs": [
        {
          "output_type": "execute_result",
          "data": {
            "text/html": [
              "<div>\n",
              "<style scoped>\n",
              "    .dataframe tbody tr th:only-of-type {\n",
              "        vertical-align: middle;\n",
              "    }\n",
              "\n",
              "    .dataframe tbody tr th {\n",
              "        vertical-align: top;\n",
              "    }\n",
              "\n",
              "    .dataframe thead th {\n",
              "        text-align: right;\n",
              "    }\n",
              "</style>\n",
              "<table border=\"1\" class=\"dataframe\">\n",
              "  <thead>\n",
              "    <tr style=\"text-align: right;\">\n",
              "      <th></th>\n",
              "      <th></th>\n",
              "      <th>first_comment</th>\n",
              "      <th>last_comment</th>\n",
              "      <th>num_comment</th>\n",
              "      <th>num_pr_submitted</th>\n",
              "      <th>num_pr_commented</th>\n",
              "      <th>pr_created_at</th>\n",
              "      <th>first_comment_age</th>\n",
              "      <th>last_comment_age</th>\n",
              "    </tr>\n",
              "    <tr>\n",
              "      <th>commenter_id</th>\n",
              "      <th>pr_id</th>\n",
              "      <th></th>\n",
              "      <th></th>\n",
              "      <th></th>\n",
              "      <th></th>\n",
              "      <th></th>\n",
              "      <th></th>\n",
              "      <th></th>\n",
              "      <th></th>\n",
              "    </tr>\n",
              "  </thead>\n",
              "  <tbody>\n",
              "    <tr>\n",
              "      <th rowspan=\"5\" valign=\"top\">278</th>\n",
              "      <th>59050</th>\n",
              "      <td>2018-02-02 14:18:54+00:00</td>\n",
              "      <td>2018-02-02 14:18:54+00:00</td>\n",
              "      <td>1</td>\n",
              "      <td>12.0</td>\n",
              "      <td>56.0</td>\n",
              "      <td>2018-01-30 16:47:51+00:00</td>\n",
              "      <td>2.896562</td>\n",
              "      <td>2.896562</td>\n",
              "    </tr>\n",
              "    <tr>\n",
              "      <th>59097</th>\n",
              "      <td>2018-02-02 20:44:55+00:00</td>\n",
              "      <td>2018-02-02 20:45:04+00:00</td>\n",
              "      <td>2</td>\n",
              "      <td>12.0</td>\n",
              "      <td>56.0</td>\n",
              "      <td>2018-01-31 07:48:15+00:00</td>\n",
              "      <td>2.539352</td>\n",
              "      <td>2.539456</td>\n",
              "    </tr>\n",
              "    <tr>\n",
              "      <th>59170</th>\n",
              "      <td>2018-02-02 14:25:34+00:00</td>\n",
              "      <td>2018-02-09 17:25:18+00:00</td>\n",
              "      <td>6</td>\n",
              "      <td>12.0</td>\n",
              "      <td>56.0</td>\n",
              "      <td>2018-02-01 05:56:32+00:00</td>\n",
              "      <td>1.353495</td>\n",
              "      <td>8.478310</td>\n",
              "    </tr>\n",
              "    <tr>\n",
              "      <th>59350</th>\n",
              "      <td>2018-02-06 01:30:04+00:00</td>\n",
              "      <td>2018-02-06 01:30:04+00:00</td>\n",
              "      <td>1</td>\n",
              "      <td>12.0</td>\n",
              "      <td>56.0</td>\n",
              "      <td>2018-02-05 14:46:12+00:00</td>\n",
              "      <td>0.447130</td>\n",
              "      <td>0.447130</td>\n",
              "    </tr>\n",
              "    <tr>\n",
              "      <th>59535</th>\n",
              "      <td>2018-03-02 19:25:37+00:00</td>\n",
              "      <td>2018-03-02 19:25:37+00:00</td>\n",
              "      <td>1</td>\n",
              "      <td>12.0</td>\n",
              "      <td>56.0</td>\n",
              "      <td>2018-02-08 06:48:20+00:00</td>\n",
              "      <td>22.525891</td>\n",
              "      <td>22.525891</td>\n",
              "    </tr>\n",
              "    <tr>\n",
              "      <th>...</th>\n",
              "      <th>...</th>\n",
              "      <td>...</td>\n",
              "      <td>...</td>\n",
              "      <td>...</td>\n",
              "      <td>...</td>\n",
              "      <td>...</td>\n",
              "      <td>...</td>\n",
              "      <td>...</td>\n",
              "      <td>...</td>\n",
              "    </tr>\n",
              "    <tr>\n",
              "      <th>37849960</th>\n",
              "      <th>62774</th>\n",
              "      <td>2018-05-02 17:26:18+00:00</td>\n",
              "      <td>2018-05-02 17:26:18+00:00</td>\n",
              "      <td>1</td>\n",
              "      <td>0.0</td>\n",
              "      <td>1.0</td>\n",
              "      <td>2018-04-18 09:20:41+00:00</td>\n",
              "      <td>14.337234</td>\n",
              "      <td>14.337234</td>\n",
              "    </tr>\n",
              "    <tr>\n",
              "      <th>38797363</th>\n",
              "      <th>62655</th>\n",
              "      <td>2018-04-27 21:48:47+00:00</td>\n",
              "      <td>2018-04-27 21:48:47+00:00</td>\n",
              "      <td>1</td>\n",
              "      <td>0.0</td>\n",
              "      <td>1.0</td>\n",
              "      <td>2018-04-16 15:08:33+00:00</td>\n",
              "      <td>11.277940</td>\n",
              "      <td>11.277940</td>\n",
              "    </tr>\n",
              "    <tr>\n",
              "      <th rowspan=\"2\" valign=\"top\">38913308</th>\n",
              "      <th>62903</th>\n",
              "      <td>2018-05-03 07:53:16+00:00</td>\n",
              "      <td>2018-05-03 07:54:10+00:00</td>\n",
              "      <td>2</td>\n",
              "      <td>0.0</td>\n",
              "      <td>2.0</td>\n",
              "      <td>2018-04-20 09:36:27+00:00</td>\n",
              "      <td>12.928345</td>\n",
              "      <td>12.928970</td>\n",
              "    </tr>\n",
              "    <tr>\n",
              "      <th>63392</th>\n",
              "      <td>2018-05-03 08:50:55+00:00</td>\n",
              "      <td>2018-05-03 08:50:55+00:00</td>\n",
              "      <td>1</td>\n",
              "      <td>0.0</td>\n",
              "      <td>2.0</td>\n",
              "      <td>2018-05-03 08:30:26+00:00</td>\n",
              "      <td>0.014225</td>\n",
              "      <td>0.014225</td>\n",
              "    </tr>\n",
              "    <tr>\n",
              "      <th>39287602</th>\n",
              "      <th>63901</th>\n",
              "      <td>2018-05-16 04:19:54+00:00</td>\n",
              "      <td>2018-05-22 06:35:04+00:00</td>\n",
              "      <td>5</td>\n",
              "      <td>1.0</td>\n",
              "      <td>1.0</td>\n",
              "      <td>2018-05-16 01:36:51+00:00</td>\n",
              "      <td>0.113229</td>\n",
              "      <td>6.207095</td>\n",
              "    </tr>\n",
              "  </tbody>\n",
              "</table>\n",
              "<p>9153 rows × 8 columns</p>\n",
              "</div>"
            ],
            "text/plain": [
              "                               first_comment  ... last_comment_age\n",
              "commenter_id pr_id                            ...                 \n",
              "278          59050 2018-02-02 14:18:54+00:00  ...         2.896562\n",
              "             59097 2018-02-02 20:44:55+00:00  ...         2.539456\n",
              "             59170 2018-02-02 14:25:34+00:00  ...         8.478310\n",
              "             59350 2018-02-06 01:30:04+00:00  ...         0.447130\n",
              "             59535 2018-03-02 19:25:37+00:00  ...        22.525891\n",
              "...                                      ...  ...              ...\n",
              "37849960     62774 2018-05-02 17:26:18+00:00  ...        14.337234\n",
              "38797363     62655 2018-04-27 21:48:47+00:00  ...        11.277940\n",
              "38913308     62903 2018-05-03 07:53:16+00:00  ...        12.928970\n",
              "             63392 2018-05-03 08:50:55+00:00  ...         0.014225\n",
              "39287602     63901 2018-05-16 04:19:54+00:00  ...         6.207095\n",
              "\n",
              "[9153 rows x 8 columns]"
            ]
          },
          "metadata": {
            "tags": []
          },
          "execution_count": 244
        }
      ]
    },
    {
      "cell_type": "code",
      "metadata": {
        "id": "QZoULY9j8a5K",
        "colab_type": "code",
        "outputId": "c1a1832e-5dd2-44e8-aece-cd0cd60bb24a",
        "colab": {
          "base_uri": "https://localhost:8080/",
          "height": 66,
          "referenced_widgets": [
            "368d6b1071c9428ea28cfc0a2ddef6ca",
            "0d8ddecf20fd4520a068318b154062db",
            "ad188eb974bb4a5c8b5a4d2f9c3e25e2",
            "e0abfb3980f449baa7c76af3ef6eaff4",
            "3912ec208ce4419aa7c6626b5bd41715",
            "65250a21907148dd83508927a0cb38a9",
            "8c8af896a8b54bdda7ca5765ea23f334",
            "4550ff3c1c1f44508fe48aee10789685"
          ]
        }
      },
      "source": [
        "train_index2pr_cosine_map = {}\n",
        "for train_pr_id, row_index in train_pr_cosine_index_map.items():\n",
        "    train_index2pr_cosine_map[row_index] = train_pr_id\n",
        "\n",
        "expertise_result = {}\n",
        "# Expertise Score\n",
        "for test_pr_id, gt_test_reviewers in tqdm(test_dict.items(), desc=\"Expertise\"):\n",
        "    row_index = test_pr_cosine_index_map[test_pr_id]\n",
        "    sorted_idx = np.argsort(-test_cosine_sim_matrix[row_index,])\n",
        "    candidates = defaultdict(int)\n",
        "    for idx in sorted_idx[:100]:\n",
        "        neighbor_train_pr_id = train_index2pr_cosine_map[idx]\n",
        "        train_reviewers = train_dict[neighbor_train_pr_id]\n",
        "        for reviewer in train_reviewers:\n",
        "            candidates[reviewer] += 1\n",
        "    candidates = sorted(candidates.items(), key=lambda x: x[1], reverse=True)\n",
        "    expertise_result[test_pr_id] = candidates"
      ],
      "execution_count": 0,
      "outputs": [
        {
          "output_type": "display_data",
          "data": {
            "application/vnd.jupyter.widget-view+json": {
              "model_id": "368d6b1071c9428ea28cfc0a2ddef6ca",
              "version_minor": 0,
              "version_major": 2
            },
            "text/plain": [
              "HBox(children=(IntProgress(value=0, description='Expertise', max=3837, style=ProgressStyle(description_width='…"
            ]
          },
          "metadata": {
            "tags": []
          }
        },
        {
          "output_type": "stream",
          "text": [
            "\n"
          ],
          "name": "stdout"
        }
      ]
    },
    {
      "cell_type": "code",
      "metadata": {
        "id": "tGeuJFzLSJ5E",
        "colab_type": "code",
        "outputId": "7cc16f75-12c7-48d2-d8b9-72eddd1eba7a",
        "colab": {
          "base_uri": "https://localhost:8080/",
          "height": 66,
          "referenced_widgets": [
            "a3e2cc36d35740c4bb38ce3158be3cb0",
            "aeb5dc71caed420b9436f39848925451",
            "173d6477a1f246a4a165d5b76d5e7489",
            "ce3a001555db4021905235272299f95b",
            "8f330ba7f90c4507a381b83266f5a25e",
            "83895755882647628d80a0c6f622e5ad",
            "2f79ee17c7f6482da37b4fa54e34f505",
            "ca807fd0700f47e085a71839e8979923"
          ]
        }
      },
      "source": [
        "expertise_result_max = {}\n",
        "# Expertise Score\n",
        "for test_pr_id, gt_test_reviewers in tqdm(test_dict.items(), desc=\"Expertise\"):\n",
        "    row_index = test_pr_cosine_index_map[test_pr_id]\n",
        "    nearest_idx = np.argmax(test_cosine_sim_matrix[row_index,])\n",
        "    nearest_train_pr_id = train_index2pr_cosine_map[nearest_idx]\n",
        "    train_reviewers = train_dict[neighbor_train_pr_id]\n",
        "    expertise_result_max[test_pr_id] = list(zip(train_reviewers, range(len(train_reviewers), 0, -1)))"
      ],
      "execution_count": 0,
      "outputs": [
        {
          "output_type": "display_data",
          "data": {
            "application/vnd.jupyter.widget-view+json": {
              "model_id": "a3e2cc36d35740c4bb38ce3158be3cb0",
              "version_minor": 0,
              "version_major": 2
            },
            "text/plain": [
              "HBox(children=(IntProgress(value=0, description='Expertise', max=3837, style=ProgressStyle(description_width='…"
            ]
          },
          "metadata": {
            "tags": []
          }
        },
        {
          "output_type": "stream",
          "text": [
            "\n"
          ],
          "name": "stdout"
        }
      ]
    },
    {
      "cell_type": "code",
      "metadata": {
        "id": "FJo9y9bZK6lx",
        "colab_type": "code",
        "colab": {}
      },
      "source": [
        "def generate_results(pred_dict, test_dict, top_k=10):\n",
        "    ap = 0.0\n",
        "    ar = 0.0\n",
        "    amrr = 0.0\n",
        "    af1 = 0.0\n",
        "    for test_pr_id, gt_test_reviewers in test_dict.items():\n",
        "        pred = pred_dict[test_pr_id]\n",
        "        ranked_candidates = np.array([cand for cand, score in sorted(pred, key=lambda x: x[1], reverse=True)])\n",
        "        pred_set = set(ranked_candidates[:top_k])\n",
        "        actual_set = set(gt_test_reviewers)\n",
        "        precision = len(pred_set & actual_set) / len(pred_set)\n",
        "        recall = len(pred_set & actual_set) / len(actual_set)\n",
        "        f1 = (2 * precision * recall) / (precision + recall + 10**(-10))\n",
        "        gt_rank = []\n",
        "        mrr = 0.0\n",
        "        for gt_reviewer in gt_test_reviewers:\n",
        "            lookup = np.argwhere(ranked_candidates == gt_reviewer).tolist()\n",
        "            if len(lookup) == 0:\n",
        "                rank = 0\n",
        "            else:\n",
        "                rank = lookup[0][0] + 1\n",
        "                mrr += 1/rank\n",
        "            gt_rank.append(rank)\n",
        "        amrr += mrr/len(gt_rank)\n",
        "        ap += precision\n",
        "        ar += recall\n",
        "        af1 += f1\n",
        "    return ap/len(test_dict), ar/len(test_dict), af1/len(test_dict), amrr/len(test_dict)"
      ],
      "execution_count": 0,
      "outputs": []
    },
    {
      "cell_type": "code",
      "metadata": {
        "id": "nen4HBCUSZZh",
        "colab_type": "code",
        "outputId": "87a8f236-9a3f-4e98-8f96-fe60f1e0c04c",
        "colab": {
          "base_uri": "https://localhost:8080/",
          "height": 85
        }
      },
      "source": [
        "generate_results(expertise_result_max, test_dict, top_k=10)"
      ],
      "execution_count": 0,
      "outputs": [
        {
          "output_type": "execute_result",
          "data": {
            "text/plain": [
              "(0.15011727912431588,\n",
              " 0.061646745950889884,\n",
              " 0.08135952021244604,\n",
              " 0.061646745950889884)"
            ]
          },
          "metadata": {
            "tags": []
          },
          "execution_count": 238
        }
      ]
    },
    {
      "cell_type": "code",
      "metadata": {
        "id": "90--zL8bLALF",
        "colab_type": "code",
        "outputId": "ff26e3c7-1e71-4af2-8062-88d8cf034d50",
        "colab": {
          "base_uri": "https://localhost:8080/",
          "height": 85
        }
      },
      "source": [
        "generate_results(expertise_result, test_dict, top_k=10)"
      ],
      "execution_count": 0,
      "outputs": [
        {
          "output_type": "execute_result",
          "data": {
            "text/plain": [
              "(0.09499609069585853,\n",
              " 0.3968054272198131,\n",
              " 0.14588371602821426,\n",
              " 0.18496958860953322)"
            ]
          },
          "metadata": {
            "tags": []
          },
          "execution_count": 239
        }
      ]
    },
    {
      "cell_type": "code",
      "metadata": {
        "id": "lyLf_GL5LqHb",
        "colab_type": "code",
        "colab": {}
      },
      "source": [
        "def find_username(user_id_list, comments_df, commenter_id='commenter_id', commenter_login='commenter_login'):\n",
        "    return comments_df.loc[comments_df[commenter_id].isin(user_id_list), [commenter_id, commenter_login]].drop_duplicates().values"
      ],
      "execution_count": 0,
      "outputs": []
    },
    {
      "cell_type": "code",
      "metadata": {
        "id": "blxMhxTUL5cV",
        "colab_type": "code",
        "outputId": "61c51749-4d11-4d6a-9ff2-53ea5f960a21",
        "colab": {
          "base_uri": "https://localhost:8080/",
          "height": 187
        }
      },
      "source": [
        "find_username([cand for cand, _ in popular_commenters_pred_dict[70431][:20]], test_comments_df)"
      ],
      "execution_count": 0,
      "outputs": [
        {
          "output_type": "execute_result",
          "data": {
            "text/plain": [
              "array([[1431969, 'cblecker'],\n",
              "       [5449021, 'dixudx'],\n",
              "       [23304, 'dims'],\n",
              "       [169553, 'timothysc'],\n",
              "       [647318, 'lavalamp'],\n",
              "       [730123, 'sttts'],\n",
              "       [980082, 'liggitt'],\n",
              "       [5595220, 'thockin'],\n",
              "       [8225098, 'deads2k'],\n",
              "       [10743879, 'wojtek-t']], dtype=object)"
            ]
          },
          "metadata": {
            "tags": []
          },
          "execution_count": 62
        }
      ]
    },
    {
      "cell_type": "code",
      "metadata": {
        "id": "NfKI5n7zQnNy",
        "colab_type": "code",
        "outputId": "f4a43c86-2bb9-4fe0-9c24-321798197cf8",
        "colab": {
          "base_uri": "https://localhost:8080/",
          "height": 357
        }
      },
      "source": [
        "find_username([cand for cand, _ in expertise_result[70431][:20]], test_comments_df)"
      ],
      "execution_count": 0,
      "outputs": [
        {
          "output_type": "execute_result",
          "data": {
            "text/plain": [
              "array([[1431969, 'cblecker'],\n",
              "       [5449021, 'dixudx'],\n",
              "       [23304, 'dims'],\n",
              "       [917931, 'BenTheElder'],\n",
              "       [1613024, 'mbohlool'],\n",
              "       [169553, 'timothysc'],\n",
              "       [576341, 'soltysh'],\n",
              "       [647318, 'lavalamp'],\n",
              "       [730123, 'sttts'],\n",
              "       [980082, 'liggitt'],\n",
              "       [1745006, 'jsafrane'],\n",
              "       [1787169, 'mikedanese'],\n",
              "       [5595220, 'thockin'],\n",
              "       [8061296, 'ixdy'],\n",
              "       [8225098, 'deads2k'],\n",
              "       [10052848, 'saad-ali'],\n",
              "       [10743879, 'wojtek-t'],\n",
              "       [14308438, 'bsalamat'],\n",
              "       [24448061, 'msau42'],\n",
              "       [29742491, 'tallclair']], dtype=object)"
            ]
          },
          "metadata": {
            "tags": []
          },
          "execution_count": 63
        }
      ]
    },
    {
      "cell_type": "code",
      "metadata": {
        "id": "8egON_trTVTw",
        "colab_type": "code",
        "outputId": "e45bf7a7-2500-47ab-ed6e-9f7020fcb969",
        "colab": {
          "base_uri": "https://localhost:8080/",
          "height": 357
        }
      },
      "source": [
        "find_username([cand for cand, _ in expertise_result[70431][:20]], test_comments_df)"
      ],
      "execution_count": 0,
      "outputs": [
        {
          "output_type": "execute_result",
          "data": {
            "text/plain": [
              "array([[1431969, 'cblecker'],\n",
              "       [5449021, 'dixudx'],\n",
              "       [23304, 'dims'],\n",
              "       [917931, 'BenTheElder'],\n",
              "       [1613024, 'mbohlool'],\n",
              "       [169553, 'timothysc'],\n",
              "       [576341, 'soltysh'],\n",
              "       [647318, 'lavalamp'],\n",
              "       [730123, 'sttts'],\n",
              "       [980082, 'liggitt'],\n",
              "       [1745006, 'jsafrane'],\n",
              "       [1787169, 'mikedanese'],\n",
              "       [5595220, 'thockin'],\n",
              "       [8061296, 'ixdy'],\n",
              "       [8225098, 'deads2k'],\n",
              "       [10052848, 'saad-ali'],\n",
              "       [10743879, 'wojtek-t'],\n",
              "       [14308438, 'bsalamat'],\n",
              "       [24448061, 'msau42'],\n",
              "       [29742491, 'tallclair']], dtype=object)"
            ]
          },
          "metadata": {
            "tags": []
          },
          "execution_count": 93
        }
      ]
    },
    {
      "cell_type": "code",
      "metadata": {
        "id": "fniALawNL5qL",
        "colab_type": "code",
        "outputId": "829bbbba-8f6b-4b02-81b3-a0f2a33433b8",
        "colab": {
          "base_uri": "https://localhost:8080/",
          "height": 68
        }
      },
      "source": [
        "find_username(test_dict[70431], test_comments_df)"
      ],
      "execution_count": 0,
      "outputs": [
        {
          "output_type": "execute_result",
          "data": {
            "text/plain": [
              "array([[11345431, 'PatrickLang'],\n",
              "       [169553, 'timothysc'],\n",
              "       [10524058, 'yujuhong']], dtype=object)"
            ]
          },
          "metadata": {
            "tags": []
          },
          "execution_count": 64
        }
      ]
    },
    {
      "cell_type": "code",
      "metadata": {
        "id": "OkgmM9M2LFKd",
        "colab_type": "code",
        "colab": {}
      },
      "source": [
        "freq = []\n",
        "for pr_id, user_list in train_dict.items():\n",
        "    freq.extend(user_list)"
      ],
      "execution_count": 0,
      "outputs": []
    },
    {
      "cell_type": "code",
      "metadata": {
        "id": "zYhERSOmNnYg",
        "colab_type": "code",
        "colab": {}
      },
      "source": [
        "bincount = np.bincount(freq)"
      ],
      "execution_count": 0,
      "outputs": []
    },
    {
      "cell_type": "code",
      "metadata": {
        "id": "R1X6CagRN_6Q",
        "colab_type": "code",
        "colab": {}
      },
      "source": [
        "popular_commenters = np.argsort(-bincount)"
      ],
      "execution_count": 0,
      "outputs": []
    },
    {
      "cell_type": "code",
      "metadata": {
        "id": "1txMgq8wOU_-",
        "colab_type": "code",
        "colab": {}
      },
      "source": [
        "from collections import Counter\n",
        "popular_commenters = Counter(freq)\n",
        "popular_commenters = sorted(popular_commenters.items(), key=lambda x: x[1], reverse=True)"
      ],
      "execution_count": 0,
      "outputs": []
    },
    {
      "cell_type": "code",
      "metadata": {
        "id": "doZ32Iv-O_-M",
        "colab_type": "code",
        "colab": {}
      },
      "source": [
        "popular_commenters_pred_dict = {}\n",
        "for test_pr_id, score in test_dict.items():\n",
        "    popular_commenters_pred_dict[test_pr_id] = popular_commenters"
      ],
      "execution_count": 0,
      "outputs": []
    },
    {
      "cell_type": "code",
      "metadata": {
        "id": "XFc8PUPjPdno",
        "colab_type": "code",
        "outputId": "0be53104-8b31-45de-a543-6f4dd4bc8779",
        "colab": {
          "base_uri": "https://localhost:8080/",
          "height": 85
        }
      },
      "source": [
        "generate_results(popular_commenters_pred_dict, test_dict)"
      ],
      "execution_count": 0,
      "outputs": [
        {
          "output_type": "execute_result",
          "data": {
            "text/plain": [
              "(0.057701329163407304,\n",
              " 0.22552379786547172,\n",
              " 0.08714895429038405,\n",
              " 0.11723791009130718)"
            ]
          },
          "metadata": {
            "tags": []
          },
          "execution_count": 242
        }
      ]
    },
    {
      "cell_type": "code",
      "metadata": {
        "id": "KuskrKZAQKBn",
        "colab_type": "code",
        "outputId": "3eb2b2df-4c57-47b7-e84f-54820452a725",
        "colab": {
          "base_uri": "https://localhost:8080/",
          "height": 68
        }
      },
      "source": [
        "for idx in np.argsort(-test_cosine_sim_matrix[test_pr_cosine_index_map[70431],])[:3]:\n",
        "    print(idx, train_index2pr_cosine_map[idx])"
      ],
      "execution_count": 0,
      "outputs": [
        {
          "output_type": "stream",
          "text": [
            "2511 64130\n",
            "808 60552\n",
            "1255 61405\n"
          ],
          "name": "stdout"
        }
      ]
    },
    {
      "cell_type": "code",
      "metadata": {
        "id": "dtzXknIUUjlf",
        "colab_type": "code",
        "outputId": "b9866be1-ab73-4250-bfe1-ef4023d59832",
        "colab": {
          "base_uri": "https://localhost:8080/",
          "height": 34
        }
      },
      "source": [
        "test_cosine_sim_matrix[test_pr_cosine_index_map[70431], 644]"
      ],
      "execution_count": 0,
      "outputs": [
        {
          "output_type": "execute_result",
          "data": {
            "text/plain": [
              "0.9998688120513776"
            ]
          },
          "metadata": {
            "tags": []
          },
          "execution_count": 102
        }
      ]
    },
    {
      "cell_type": "code",
      "metadata": {
        "id": "JzAw1u_QVcYN",
        "colab_type": "code",
        "outputId": "3731120e-e590-4328-c85d-b094645ea82d",
        "colab": {
          "base_uri": "https://localhost:8080/",
          "height": 34
        }
      },
      "source": [
        "from scipy.spatial.distance import cosine\n",
        "1 - cosine(train_pr_feat_matrix[644], test_pr_feat_matrix[test_pr_cosine_index_map[70431]])"
      ],
      "execution_count": 0,
      "outputs": [
        {
          "output_type": "execute_result",
          "data": {
            "text/plain": [
              "0.9998688120513776"
            ]
          },
          "metadata": {
            "tags": []
          },
          "execution_count": 110
        }
      ]
    },
    {
      "cell_type": "code",
      "metadata": {
        "id": "mZpFYXQdVxin",
        "colab_type": "code",
        "outputId": "b66293d8-8da1-4a7f-a947-1ea931a660d2",
        "colab": {
          "base_uri": "https://localhost:8080/",
          "height": 51
        }
      },
      "source": [
        "train_pr_feat_matrix[644], test_pr_feat_matrix[test_pr_cosine_index_map[70431]]"
      ],
      "execution_count": 0,
      "outputs": [
        {
          "output_type": "execute_result",
          "data": {
            "text/plain": [
              "(array([1.        , 1.33333333, 0.33333333, 3.        ]),\n",
              " array([ 9.78571429, 12.64285714,  2.85714286, 28.        ]))"
            ]
          },
          "metadata": {
            "tags": []
          },
          "execution_count": 111
        }
      ]
    },
    {
      "cell_type": "code",
      "metadata": {
        "id": "8kvV9GYxV6Sg",
        "colab_type": "code",
        "outputId": "f3bc5f63-f555-484d-ab7f-513b7445e0ce",
        "colab": {
          "base_uri": "https://localhost:8080/",
          "height": 34
        }
      },
      "source": [
        "from scipy.spatial.distance import cosine\n",
        "1 - cosine(train_pr_feat_matrix[644], test_pr_feat_matrix[test_pr_cosine_index_map[70431]])"
      ],
      "execution_count": 0,
      "outputs": [
        {
          "output_type": "execute_result",
          "data": {
            "text/plain": [
              "0.6528006792068481"
            ]
          },
          "metadata": {
            "tags": []
          },
          "execution_count": 124
        }
      ]
    },
    {
      "cell_type": "code",
      "metadata": {
        "id": "HmEGiZBVZCEI",
        "colab_type": "code",
        "outputId": "01edb857-0e22-4c7a-8383-a59625e4d4ef",
        "colab": {
          "base_uri": "https://localhost:8080/",
          "height": 51
        }
      },
      "source": [
        "test_cosine_sim_matrix[test_pr_cosine_index_map[70431]]"
      ],
      "execution_count": 0,
      "outputs": [
        {
          "output_type": "execute_result",
          "data": {
            "text/plain": [
              "array([-33.94136168,  -9.88490765, -87.03782666, ..., -27.68080362,\n",
              "       -23.97092407, -29.72221164])"
            ]
          },
          "metadata": {
            "tags": []
          },
          "execution_count": 173
        }
      ]
    },
    {
      "cell_type": "code",
      "metadata": {
        "id": "-8wbq19Ua4M-",
        "colab_type": "code",
        "colab": {}
      },
      "source": [
        "def dump_stuff(obj, fname):\n",
        "    return joblib.dump(obj, os.path.join(home, '%s_v4_2018_only.joblib'%fname))"
      ],
      "execution_count": 0,
      "outputs": []
    },
    {
      "cell_type": "code",
      "metadata": {
        "id": "tfIXpShddNxh",
        "colab_type": "code",
        "outputId": "2ae41ed9-a611-498e-d61d-8dfddf549cec",
        "colab": {
          "base_uri": "https://localhost:8080/",
          "height": 34
        }
      },
      "source": [
        "dump_stuff(train_cosine_sim_matrix, 'train_cosine_sim_matrix')\n",
        "dump_stuff(train_pr_cosine_index_map, 'train_pr_cosine_index_map')"
      ],
      "execution_count": 0,
      "outputs": [
        {
          "output_type": "execute_result",
          "data": {
            "text/plain": [
              "['/gdrive/My Drive/Colab Notebooks/cs224w-data/final-data-12062019/train_pr_cosine_index_map_v4_2018_only.joblib']"
            ]
          },
          "metadata": {
            "tags": []
          },
          "execution_count": 235
        }
      ]
    },
    {
      "cell_type": "code",
      "metadata": {
        "id": "KeyhoHEGdcCh",
        "colab_type": "code",
        "outputId": "7205e408-5c93-4d56-8a24-f16cd0daeffe",
        "colab": {
          "base_uri": "https://localhost:8080/",
          "height": 34
        }
      },
      "source": [
        "dump_stuff(test_cosine_sim_matrix, 'test_cosine_sim_matrix')\n",
        "dump_stuff(test_pr_cosine_index_map, 'test_pr_cosine_index_map')"
      ],
      "execution_count": 0,
      "outputs": [
        {
          "output_type": "execute_result",
          "data": {
            "text/plain": [
              "['/gdrive/My Drive/Colab Notebooks/cs224w-data/final-data-12062019/test_pr_cosine_index_map_v4_2018_only.joblib']"
            ]
          },
          "metadata": {
            "tags": []
          },
          "execution_count": 236
        }
      ]
    },
    {
      "cell_type": "code",
      "metadata": {
        "id": "8VOrntftde4h",
        "colab_type": "code",
        "colab": {}
      },
      "source": [
        ""
      ],
      "execution_count": 0,
      "outputs": []
    }
  ]
}